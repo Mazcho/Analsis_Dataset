{
 "cells": [
  {
   "cell_type": "markdown",
   "id": "cfbaad7c",
   "metadata": {},
   "source": [
    "ANALISIS DATA PENJUALAN MOBIL"
   ]
  },
  {
   "cell_type": "markdown",
   "id": "03897d1b",
   "metadata": {},
   "source": [
    "By : Nicholaus Verdhy Putranto || GitHub : MazCho"
   ]
  },
  {
   "cell_type": "markdown",
   "id": "c6c731c1",
   "metadata": {},
   "source": [
    "# Import Library"
   ]
  },
  {
   "cell_type": "code",
   "execution_count": 1,
   "id": "ea9dc7f6",
   "metadata": {},
   "outputs": [],
   "source": [
    "#Untuk data\n",
    "import pandas as pd\n",
    "import numpy as np\n",
    "\n",
    "#Untuk Visualisasi\n",
    "import matplotlib.pyplot as plt\n",
    "import seaborn as sns"
   ]
  },
  {
   "cell_type": "markdown",
   "id": "22f7f118",
   "metadata": {},
   "source": [
    "# Loading DataSet"
   ]
  },
  {
   "cell_type": "code",
   "execution_count": 2,
   "id": "9c44d111",
   "metadata": {},
   "outputs": [],
   "source": [
    "df = pd.read_csv(\"CAR DETAILS FROM CAR DEKHO-Copy1.csv\")"
   ]
  },
  {
   "cell_type": "code",
   "execution_count": 3,
   "id": "e46a0db8",
   "metadata": {},
   "outputs": [
    {
     "data": {
      "text/html": [
       "<div>\n",
       "<style scoped>\n",
       "    .dataframe tbody tr th:only-of-type {\n",
       "        vertical-align: middle;\n",
       "    }\n",
       "\n",
       "    .dataframe tbody tr th {\n",
       "        vertical-align: top;\n",
       "    }\n",
       "\n",
       "    .dataframe thead th {\n",
       "        text-align: right;\n",
       "    }\n",
       "</style>\n",
       "<table border=\"1\" class=\"dataframe\">\n",
       "  <thead>\n",
       "    <tr style=\"text-align: right;\">\n",
       "      <th></th>\n",
       "      <th>name</th>\n",
       "      <th>year</th>\n",
       "      <th>selling_price</th>\n",
       "      <th>km_driven</th>\n",
       "      <th>fuel</th>\n",
       "      <th>seller_type</th>\n",
       "      <th>transmission</th>\n",
       "      <th>owner</th>\n",
       "    </tr>\n",
       "  </thead>\n",
       "  <tbody>\n",
       "    <tr>\n",
       "      <th>0</th>\n",
       "      <td>Maruti 800 AC</td>\n",
       "      <td>2007</td>\n",
       "      <td>60000</td>\n",
       "      <td>70000</td>\n",
       "      <td>Petrol</td>\n",
       "      <td>Individual</td>\n",
       "      <td>Manual</td>\n",
       "      <td>First Owner</td>\n",
       "    </tr>\n",
       "    <tr>\n",
       "      <th>1</th>\n",
       "      <td>Maruti Wagon R LXI Minor</td>\n",
       "      <td>2007</td>\n",
       "      <td>135000</td>\n",
       "      <td>50000</td>\n",
       "      <td>Petrol</td>\n",
       "      <td>Individual</td>\n",
       "      <td>Manual</td>\n",
       "      <td>First Owner</td>\n",
       "    </tr>\n",
       "    <tr>\n",
       "      <th>2</th>\n",
       "      <td>Hyundai Verna 1.6 SX</td>\n",
       "      <td>2012</td>\n",
       "      <td>600000</td>\n",
       "      <td>100000</td>\n",
       "      <td>Diesel</td>\n",
       "      <td>Individual</td>\n",
       "      <td>Manual</td>\n",
       "      <td>First Owner</td>\n",
       "    </tr>\n",
       "    <tr>\n",
       "      <th>3</th>\n",
       "      <td>Datsun RediGO T Option</td>\n",
       "      <td>2017</td>\n",
       "      <td>250000</td>\n",
       "      <td>46000</td>\n",
       "      <td>Petrol</td>\n",
       "      <td>Individual</td>\n",
       "      <td>Manual</td>\n",
       "      <td>First Owner</td>\n",
       "    </tr>\n",
       "    <tr>\n",
       "      <th>4</th>\n",
       "      <td>Honda Amaze VX i-DTEC</td>\n",
       "      <td>2014</td>\n",
       "      <td>450000</td>\n",
       "      <td>141000</td>\n",
       "      <td>Diesel</td>\n",
       "      <td>Individual</td>\n",
       "      <td>Manual</td>\n",
       "      <td>Second Owner</td>\n",
       "    </tr>\n",
       "    <tr>\n",
       "      <th>...</th>\n",
       "      <td>...</td>\n",
       "      <td>...</td>\n",
       "      <td>...</td>\n",
       "      <td>...</td>\n",
       "      <td>...</td>\n",
       "      <td>...</td>\n",
       "      <td>...</td>\n",
       "      <td>...</td>\n",
       "    </tr>\n",
       "    <tr>\n",
       "      <th>4335</th>\n",
       "      <td>Hyundai i20 Magna 1.4 CRDi (Diesel)</td>\n",
       "      <td>2014</td>\n",
       "      <td>409999</td>\n",
       "      <td>80000</td>\n",
       "      <td>Diesel</td>\n",
       "      <td>Individual</td>\n",
       "      <td>Manual</td>\n",
       "      <td>Second Owner</td>\n",
       "    </tr>\n",
       "    <tr>\n",
       "      <th>4336</th>\n",
       "      <td>Hyundai i20 Magna 1.4 CRDi</td>\n",
       "      <td>2014</td>\n",
       "      <td>409999</td>\n",
       "      <td>80000</td>\n",
       "      <td>Diesel</td>\n",
       "      <td>Individual</td>\n",
       "      <td>Manual</td>\n",
       "      <td>Second Owner</td>\n",
       "    </tr>\n",
       "    <tr>\n",
       "      <th>4337</th>\n",
       "      <td>Maruti 800 AC BSIII</td>\n",
       "      <td>2009</td>\n",
       "      <td>110000</td>\n",
       "      <td>83000</td>\n",
       "      <td>Petrol</td>\n",
       "      <td>Individual</td>\n",
       "      <td>Manual</td>\n",
       "      <td>Second Owner</td>\n",
       "    </tr>\n",
       "    <tr>\n",
       "      <th>4338</th>\n",
       "      <td>Hyundai Creta 1.6 CRDi SX Option</td>\n",
       "      <td>2016</td>\n",
       "      <td>865000</td>\n",
       "      <td>90000</td>\n",
       "      <td>Diesel</td>\n",
       "      <td>Individual</td>\n",
       "      <td>Manual</td>\n",
       "      <td>First Owner</td>\n",
       "    </tr>\n",
       "    <tr>\n",
       "      <th>4339</th>\n",
       "      <td>Renault KWID RXT</td>\n",
       "      <td>2016</td>\n",
       "      <td>225000</td>\n",
       "      <td>40000</td>\n",
       "      <td>Petrol</td>\n",
       "      <td>Individual</td>\n",
       "      <td>Manual</td>\n",
       "      <td>First Owner</td>\n",
       "    </tr>\n",
       "  </tbody>\n",
       "</table>\n",
       "<p>4340 rows × 8 columns</p>\n",
       "</div>"
      ],
      "text/plain": [
       "                                     name  year  selling_price  km_driven  \\\n",
       "0                           Maruti 800 AC  2007          60000      70000   \n",
       "1                Maruti Wagon R LXI Minor  2007         135000      50000   \n",
       "2                    Hyundai Verna 1.6 SX  2012         600000     100000   \n",
       "3                  Datsun RediGO T Option  2017         250000      46000   \n",
       "4                   Honda Amaze VX i-DTEC  2014         450000     141000   \n",
       "...                                   ...   ...            ...        ...   \n",
       "4335  Hyundai i20 Magna 1.4 CRDi (Diesel)  2014         409999      80000   \n",
       "4336           Hyundai i20 Magna 1.4 CRDi  2014         409999      80000   \n",
       "4337                  Maruti 800 AC BSIII  2009         110000      83000   \n",
       "4338     Hyundai Creta 1.6 CRDi SX Option  2016         865000      90000   \n",
       "4339                     Renault KWID RXT  2016         225000      40000   \n",
       "\n",
       "        fuel seller_type transmission         owner  \n",
       "0     Petrol  Individual       Manual   First Owner  \n",
       "1     Petrol  Individual       Manual   First Owner  \n",
       "2     Diesel  Individual       Manual   First Owner  \n",
       "3     Petrol  Individual       Manual   First Owner  \n",
       "4     Diesel  Individual       Manual  Second Owner  \n",
       "...      ...         ...          ...           ...  \n",
       "4335  Diesel  Individual       Manual  Second Owner  \n",
       "4336  Diesel  Individual       Manual  Second Owner  \n",
       "4337  Petrol  Individual       Manual  Second Owner  \n",
       "4338  Diesel  Individual       Manual   First Owner  \n",
       "4339  Petrol  Individual       Manual   First Owner  \n",
       "\n",
       "[4340 rows x 8 columns]"
      ]
     },
     "execution_count": 3,
     "metadata": {},
     "output_type": "execute_result"
    }
   ],
   "source": [
    "df"
   ]
  },
  {
   "cell_type": "markdown",
   "id": "e7daca50",
   "metadata": {},
   "source": [
    "# Cheking Data"
   ]
  },
  {
   "cell_type": "code",
   "execution_count": 4,
   "id": "5643e453",
   "metadata": {},
   "outputs": [
    {
     "name": "stdout",
     "output_type": "stream",
     "text": [
      "<class 'pandas.core.frame.DataFrame'>\n",
      "RangeIndex: 4340 entries, 0 to 4339\n",
      "Data columns (total 8 columns):\n",
      " #   Column         Non-Null Count  Dtype \n",
      "---  ------         --------------  ----- \n",
      " 0   name           4340 non-null   object\n",
      " 1   year           4340 non-null   int64 \n",
      " 2   selling_price  4340 non-null   int64 \n",
      " 3   km_driven      4340 non-null   int64 \n",
      " 4   fuel           4340 non-null   object\n",
      " 5   seller_type    4340 non-null   object\n",
      " 6   transmission   4340 non-null   object\n",
      " 7   owner          4340 non-null   object\n",
      "dtypes: int64(3), object(5)\n",
      "memory usage: 271.4+ KB\n"
     ]
    }
   ],
   "source": [
    "df.info()"
   ]
  },
  {
   "cell_type": "code",
   "execution_count": 5,
   "id": "f8e4897c",
   "metadata": {},
   "outputs": [
    {
     "data": {
      "text/plain": [
       "name             0\n",
       "year             0\n",
       "selling_price    0\n",
       "km_driven        0\n",
       "fuel             0\n",
       "seller_type      0\n",
       "transmission     0\n",
       "owner            0\n",
       "dtype: int64"
      ]
     },
     "execution_count": 5,
     "metadata": {},
     "output_type": "execute_result"
    }
   ],
   "source": [
    "df.isna().sum()"
   ]
  },
  {
   "cell_type": "markdown",
   "id": "f330b140",
   "metadata": {},
   "source": [
    "# Rename Kolom"
   ]
  },
  {
   "cell_type": "code",
   "execution_count": 6,
   "id": "d5b5e1e4",
   "metadata": {},
   "outputs": [
    {
     "name": "stdout",
     "output_type": "stream",
     "text": [
      "<class 'pandas.core.frame.DataFrame'>\n",
      "RangeIndex: 4340 entries, 0 to 4339\n",
      "Data columns (total 8 columns):\n",
      " #   Column         Non-Null Count  Dtype \n",
      "---  ------         --------------  ----- \n",
      " 0   name           4340 non-null   object\n",
      " 1   year           4340 non-null   int64 \n",
      " 2   selling_price  4340 non-null   int64 \n",
      " 3   km_driven      4340 non-null   int64 \n",
      " 4   fuel           4340 non-null   object\n",
      " 5   seller_type    4340 non-null   object\n",
      " 6   transmission   4340 non-null   object\n",
      " 7   owner          4340 non-null   object\n",
      "dtypes: int64(3), object(5)\n",
      "memory usage: 271.4+ KB\n"
     ]
    }
   ],
   "source": [
    "df.info()"
   ]
  },
  {
   "cell_type": "code",
   "execution_count": 7,
   "id": "41e26b0a",
   "metadata": {},
   "outputs": [],
   "source": [
    "df.rename({\n",
    "    \"name\":\"Nama Mobil\",\n",
    "    \"year\":\"Tahun jual\",\n",
    "    \"selling_price\":\"Harga Jual Mobil\",\n",
    "    \"km_driven\":\"jarak tempuh mobil\",\n",
    "    \"fuel\":\"Bahan bakar mobil\",\n",
    "    \"seller_type\":\"Penjual\",\n",
    "    \"transmission\":\"transmissi\",\n",
    "    \"owner\":\"Kepemilikan\"\n",
    "},axis=1,inplace=True)"
   ]
  },
  {
   "cell_type": "code",
   "execution_count": 8,
   "id": "75e4e830",
   "metadata": {},
   "outputs": [
    {
     "data": {
      "text/html": [
       "<div>\n",
       "<style scoped>\n",
       "    .dataframe tbody tr th:only-of-type {\n",
       "        vertical-align: middle;\n",
       "    }\n",
       "\n",
       "    .dataframe tbody tr th {\n",
       "        vertical-align: top;\n",
       "    }\n",
       "\n",
       "    .dataframe thead th {\n",
       "        text-align: right;\n",
       "    }\n",
       "</style>\n",
       "<table border=\"1\" class=\"dataframe\">\n",
       "  <thead>\n",
       "    <tr style=\"text-align: right;\">\n",
       "      <th></th>\n",
       "      <th>Nama Mobil</th>\n",
       "      <th>Tahun jual</th>\n",
       "      <th>Harga Jual Mobil</th>\n",
       "      <th>jarak tempuh mobil</th>\n",
       "      <th>Bahan bakar mobil</th>\n",
       "      <th>Penjual</th>\n",
       "      <th>transmissi</th>\n",
       "      <th>Kepemilikan</th>\n",
       "    </tr>\n",
       "  </thead>\n",
       "  <tbody>\n",
       "    <tr>\n",
       "      <th>0</th>\n",
       "      <td>Maruti 800 AC</td>\n",
       "      <td>2007</td>\n",
       "      <td>60000</td>\n",
       "      <td>70000</td>\n",
       "      <td>Petrol</td>\n",
       "      <td>Individual</td>\n",
       "      <td>Manual</td>\n",
       "      <td>First Owner</td>\n",
       "    </tr>\n",
       "    <tr>\n",
       "      <th>1</th>\n",
       "      <td>Maruti Wagon R LXI Minor</td>\n",
       "      <td>2007</td>\n",
       "      <td>135000</td>\n",
       "      <td>50000</td>\n",
       "      <td>Petrol</td>\n",
       "      <td>Individual</td>\n",
       "      <td>Manual</td>\n",
       "      <td>First Owner</td>\n",
       "    </tr>\n",
       "    <tr>\n",
       "      <th>2</th>\n",
       "      <td>Hyundai Verna 1.6 SX</td>\n",
       "      <td>2012</td>\n",
       "      <td>600000</td>\n",
       "      <td>100000</td>\n",
       "      <td>Diesel</td>\n",
       "      <td>Individual</td>\n",
       "      <td>Manual</td>\n",
       "      <td>First Owner</td>\n",
       "    </tr>\n",
       "    <tr>\n",
       "      <th>3</th>\n",
       "      <td>Datsun RediGO T Option</td>\n",
       "      <td>2017</td>\n",
       "      <td>250000</td>\n",
       "      <td>46000</td>\n",
       "      <td>Petrol</td>\n",
       "      <td>Individual</td>\n",
       "      <td>Manual</td>\n",
       "      <td>First Owner</td>\n",
       "    </tr>\n",
       "    <tr>\n",
       "      <th>4</th>\n",
       "      <td>Honda Amaze VX i-DTEC</td>\n",
       "      <td>2014</td>\n",
       "      <td>450000</td>\n",
       "      <td>141000</td>\n",
       "      <td>Diesel</td>\n",
       "      <td>Individual</td>\n",
       "      <td>Manual</td>\n",
       "      <td>Second Owner</td>\n",
       "    </tr>\n",
       "    <tr>\n",
       "      <th>...</th>\n",
       "      <td>...</td>\n",
       "      <td>...</td>\n",
       "      <td>...</td>\n",
       "      <td>...</td>\n",
       "      <td>...</td>\n",
       "      <td>...</td>\n",
       "      <td>...</td>\n",
       "      <td>...</td>\n",
       "    </tr>\n",
       "    <tr>\n",
       "      <th>4335</th>\n",
       "      <td>Hyundai i20 Magna 1.4 CRDi (Diesel)</td>\n",
       "      <td>2014</td>\n",
       "      <td>409999</td>\n",
       "      <td>80000</td>\n",
       "      <td>Diesel</td>\n",
       "      <td>Individual</td>\n",
       "      <td>Manual</td>\n",
       "      <td>Second Owner</td>\n",
       "    </tr>\n",
       "    <tr>\n",
       "      <th>4336</th>\n",
       "      <td>Hyundai i20 Magna 1.4 CRDi</td>\n",
       "      <td>2014</td>\n",
       "      <td>409999</td>\n",
       "      <td>80000</td>\n",
       "      <td>Diesel</td>\n",
       "      <td>Individual</td>\n",
       "      <td>Manual</td>\n",
       "      <td>Second Owner</td>\n",
       "    </tr>\n",
       "    <tr>\n",
       "      <th>4337</th>\n",
       "      <td>Maruti 800 AC BSIII</td>\n",
       "      <td>2009</td>\n",
       "      <td>110000</td>\n",
       "      <td>83000</td>\n",
       "      <td>Petrol</td>\n",
       "      <td>Individual</td>\n",
       "      <td>Manual</td>\n",
       "      <td>Second Owner</td>\n",
       "    </tr>\n",
       "    <tr>\n",
       "      <th>4338</th>\n",
       "      <td>Hyundai Creta 1.6 CRDi SX Option</td>\n",
       "      <td>2016</td>\n",
       "      <td>865000</td>\n",
       "      <td>90000</td>\n",
       "      <td>Diesel</td>\n",
       "      <td>Individual</td>\n",
       "      <td>Manual</td>\n",
       "      <td>First Owner</td>\n",
       "    </tr>\n",
       "    <tr>\n",
       "      <th>4339</th>\n",
       "      <td>Renault KWID RXT</td>\n",
       "      <td>2016</td>\n",
       "      <td>225000</td>\n",
       "      <td>40000</td>\n",
       "      <td>Petrol</td>\n",
       "      <td>Individual</td>\n",
       "      <td>Manual</td>\n",
       "      <td>First Owner</td>\n",
       "    </tr>\n",
       "  </tbody>\n",
       "</table>\n",
       "<p>4340 rows × 8 columns</p>\n",
       "</div>"
      ],
      "text/plain": [
       "                               Nama Mobil  Tahun jual  Harga Jual Mobil  \\\n",
       "0                           Maruti 800 AC        2007             60000   \n",
       "1                Maruti Wagon R LXI Minor        2007            135000   \n",
       "2                    Hyundai Verna 1.6 SX        2012            600000   \n",
       "3                  Datsun RediGO T Option        2017            250000   \n",
       "4                   Honda Amaze VX i-DTEC        2014            450000   \n",
       "...                                   ...         ...               ...   \n",
       "4335  Hyundai i20 Magna 1.4 CRDi (Diesel)        2014            409999   \n",
       "4336           Hyundai i20 Magna 1.4 CRDi        2014            409999   \n",
       "4337                  Maruti 800 AC BSIII        2009            110000   \n",
       "4338     Hyundai Creta 1.6 CRDi SX Option        2016            865000   \n",
       "4339                     Renault KWID RXT        2016            225000   \n",
       "\n",
       "      jarak tempuh mobil Bahan bakar mobil     Penjual transmissi  \\\n",
       "0                  70000            Petrol  Individual     Manual   \n",
       "1                  50000            Petrol  Individual     Manual   \n",
       "2                 100000            Diesel  Individual     Manual   \n",
       "3                  46000            Petrol  Individual     Manual   \n",
       "4                 141000            Diesel  Individual     Manual   \n",
       "...                  ...               ...         ...        ...   \n",
       "4335               80000            Diesel  Individual     Manual   \n",
       "4336               80000            Diesel  Individual     Manual   \n",
       "4337               83000            Petrol  Individual     Manual   \n",
       "4338               90000            Diesel  Individual     Manual   \n",
       "4339               40000            Petrol  Individual     Manual   \n",
       "\n",
       "       Kepemilikan  \n",
       "0      First Owner  \n",
       "1      First Owner  \n",
       "2      First Owner  \n",
       "3      First Owner  \n",
       "4     Second Owner  \n",
       "...            ...  \n",
       "4335  Second Owner  \n",
       "4336  Second Owner  \n",
       "4337  Second Owner  \n",
       "4338   First Owner  \n",
       "4339   First Owner  \n",
       "\n",
       "[4340 rows x 8 columns]"
      ]
     },
     "execution_count": 8,
     "metadata": {},
     "output_type": "execute_result"
    }
   ],
   "source": [
    "df"
   ]
  },
  {
   "cell_type": "markdown",
   "id": "e2875510",
   "metadata": {},
   "source": [
    "Karena dari atuhornya menghapus 3 digit pada harga jual mobil, mari kita tambahakan 000 terhakir pada setiap penjualan mobil."
   ]
  },
  {
   "cell_type": "code",
   "execution_count": 9,
   "id": "98d8fde3",
   "metadata": {},
   "outputs": [],
   "source": [
    "# df[\"Harga Jual Mobil\"] = df[\"Harga Jual Mobil\"]*1000"
   ]
  },
  {
   "cell_type": "code",
   "execution_count": 10,
   "id": "4fb4be21",
   "metadata": {},
   "outputs": [
    {
     "data": {
      "text/html": [
       "<div>\n",
       "<style scoped>\n",
       "    .dataframe tbody tr th:only-of-type {\n",
       "        vertical-align: middle;\n",
       "    }\n",
       "\n",
       "    .dataframe tbody tr th {\n",
       "        vertical-align: top;\n",
       "    }\n",
       "\n",
       "    .dataframe thead th {\n",
       "        text-align: right;\n",
       "    }\n",
       "</style>\n",
       "<table border=\"1\" class=\"dataframe\">\n",
       "  <thead>\n",
       "    <tr style=\"text-align: right;\">\n",
       "      <th></th>\n",
       "      <th>Nama Mobil</th>\n",
       "      <th>Tahun jual</th>\n",
       "      <th>Harga Jual Mobil</th>\n",
       "      <th>jarak tempuh mobil</th>\n",
       "      <th>Bahan bakar mobil</th>\n",
       "      <th>Penjual</th>\n",
       "      <th>transmissi</th>\n",
       "      <th>Kepemilikan</th>\n",
       "    </tr>\n",
       "  </thead>\n",
       "  <tbody>\n",
       "    <tr>\n",
       "      <th>0</th>\n",
       "      <td>Maruti 800 AC</td>\n",
       "      <td>2007</td>\n",
       "      <td>60000</td>\n",
       "      <td>70000</td>\n",
       "      <td>Petrol</td>\n",
       "      <td>Individual</td>\n",
       "      <td>Manual</td>\n",
       "      <td>First Owner</td>\n",
       "    </tr>\n",
       "    <tr>\n",
       "      <th>1</th>\n",
       "      <td>Maruti Wagon R LXI Minor</td>\n",
       "      <td>2007</td>\n",
       "      <td>135000</td>\n",
       "      <td>50000</td>\n",
       "      <td>Petrol</td>\n",
       "      <td>Individual</td>\n",
       "      <td>Manual</td>\n",
       "      <td>First Owner</td>\n",
       "    </tr>\n",
       "    <tr>\n",
       "      <th>2</th>\n",
       "      <td>Hyundai Verna 1.6 SX</td>\n",
       "      <td>2012</td>\n",
       "      <td>600000</td>\n",
       "      <td>100000</td>\n",
       "      <td>Diesel</td>\n",
       "      <td>Individual</td>\n",
       "      <td>Manual</td>\n",
       "      <td>First Owner</td>\n",
       "    </tr>\n",
       "    <tr>\n",
       "      <th>3</th>\n",
       "      <td>Datsun RediGO T Option</td>\n",
       "      <td>2017</td>\n",
       "      <td>250000</td>\n",
       "      <td>46000</td>\n",
       "      <td>Petrol</td>\n",
       "      <td>Individual</td>\n",
       "      <td>Manual</td>\n",
       "      <td>First Owner</td>\n",
       "    </tr>\n",
       "    <tr>\n",
       "      <th>4</th>\n",
       "      <td>Honda Amaze VX i-DTEC</td>\n",
       "      <td>2014</td>\n",
       "      <td>450000</td>\n",
       "      <td>141000</td>\n",
       "      <td>Diesel</td>\n",
       "      <td>Individual</td>\n",
       "      <td>Manual</td>\n",
       "      <td>Second Owner</td>\n",
       "    </tr>\n",
       "  </tbody>\n",
       "</table>\n",
       "</div>"
      ],
      "text/plain": [
       "                 Nama Mobil  Tahun jual  Harga Jual Mobil  jarak tempuh mobil  \\\n",
       "0             Maruti 800 AC        2007             60000               70000   \n",
       "1  Maruti Wagon R LXI Minor        2007            135000               50000   \n",
       "2      Hyundai Verna 1.6 SX        2012            600000              100000   \n",
       "3    Datsun RediGO T Option        2017            250000               46000   \n",
       "4     Honda Amaze VX i-DTEC        2014            450000              141000   \n",
       "\n",
       "  Bahan bakar mobil     Penjual transmissi   Kepemilikan  \n",
       "0            Petrol  Individual     Manual   First Owner  \n",
       "1            Petrol  Individual     Manual   First Owner  \n",
       "2            Diesel  Individual     Manual   First Owner  \n",
       "3            Petrol  Individual     Manual   First Owner  \n",
       "4            Diesel  Individual     Manual  Second Owner  "
      ]
     },
     "execution_count": 10,
     "metadata": {},
     "output_type": "execute_result"
    }
   ],
   "source": [
    "df.head()"
   ]
  },
  {
   "cell_type": "markdown",
   "id": "ed1d3a50",
   "metadata": {},
   "source": [
    "# Explor Data Analyst"
   ]
  },
  {
   "cell_type": "markdown",
   "id": "587b7b79",
   "metadata": {},
   "source": [
    "## Analisis Distribusi Harga"
   ]
  },
  {
   "cell_type": "markdown",
   "id": "4e78fcd5",
   "metadata": {},
   "source": [
    "Melihat persebaran harga menggunakan histogram, sebelum kita memasuki kedalam visualiasainya, kita akan menentukan berapa pengelompokan persebaran yang ada dan melihat range dari masing masing bin."
   ]
  },
  {
   "cell_type": "code",
   "execution_count": 11,
   "id": "227b0003",
   "metadata": {},
   "outputs": [
    {
     "data": {
      "image/png": "[encoded data removed]",
      "text/plain": [
       "<Figure size 432x288 with 1 Axes>"
      ]
     },
     "metadata": {
      "needs_background": "light"
     },
     "output_type": "display_data"
    },
    {
     "name": "stdout",
     "output_type": "stream",
     "text": [
      "Batas-batas bin Harga jual Mobil:\n",
      "Bin 1: 20,000 - 1,130,000\n",
      "Bin 2: 1,130,000 - 2,240,000\n",
      "Bin 3: 2,240,000 - 3,350,000\n",
      "Bin 4: 3,350,000 - 4,460,000\n",
      "Bin 5: 4,460,000 - 5,570,000\n",
      "Bin 6: 5,570,000 - 6,680,000\n",
      "Bin 7: 6,680,000 - 7,790,000\n",
      "Bin 8: 7,790,000 - 8,900,000\n"
     ]
    }
   ],
   "source": [
    "#==================== Loading Data yang diperlukan =======================\n",
    "# Muat data harga mobil pada variabel data_harga_mobil\n",
    "data_harga_mobil = df[\"Harga Jual Mobil\"]\n",
    "\n",
    "# Muat data harga mobil pada variabel data_harga_mobil\n",
    "data_harga_mobil = df[\"Harga Jual Mobil\"]\n",
    "\n",
    "\n",
    "#====================== Buat histogram ===================================\n",
    "\n",
    "#judul\n",
    "plt.title(\"Persebaran harga jual mobil bekas\")\n",
    "\n",
    "# Buat histogram dengan 5 bin\n",
    "sns.histplot(data=data_harga_mobil, bins=8)\n",
    "\n",
    "# Tampilkan histogram\n",
    "plt.show()\n",
    "\n",
    "#===================== Menampilkan nilai pengelompokan ===================\n",
    "\n",
    "# Tentukan jumlah pengelompokan binnya / banyak kelompok rentang nilai\n",
    "interval = 8\n",
    "\n",
    "# Hitung rentang nilainya dahulu\n",
    "rentang_nilai = max(data_harga_mobil) - min(data_harga_mobil)\n",
    "\n",
    "# Hitung lebar bin (intervalnya)\n",
    "lebar_interval = rentang_nilai / interval\n",
    "\n",
    "# Inisialisasi list batas_per_bin\n",
    "batas_per_bin = []\n",
    "\n",
    "# Menghitung batasan yang ada\n",
    "for i in range(interval):\n",
    "    batas_bawah = min(data_harga_mobil) + i * lebar_interval\n",
    "    batas_atas = batas_bawah + lebar_interval\n",
    "    batas_per_bin.append(batas_bawah)\n",
    "    \n",
    "# Tambahkan batas akhir\n",
    "batas_per_bin.append(max(data_harga_mobil))\n",
    "\n",
    "# Tampilkan batas-batas bin\n",
    "print(\"Batas-batas bin Harga jual Mobil:\")\n",
    "for i in range(len(batas_per_bin) - 1):\n",
    "    batas_bawah = batas_per_bin[i]\n",
    "    batas_atas = batas_per_bin[i + 1]\n",
    "    \n",
    "    # Format angka dengan tanda titik sebagai pemisah ribuan\n",
    "    formatted_batas_bawah = \"{:,.0f}\".format(batas_bawah)\n",
    "    formatted_batas_atas = \"{:,.0f}\".format(batas_atas)\n",
    "    \n",
    "    print(f\"Bin {i + 1}: {formatted_batas_bawah} - {formatted_batas_atas}\")\n"
   ]
  },
  {
   "cell_type": "markdown",
   "id": "892e206e",
   "metadata": {},
   "source": [
    "Kesimpulan dari persebaran data penjualan:\n",
    " - Data diatas menunjukkan bahwa penjualan harga mobil bekas palong tinggi ada pada interval 1 yaitu rentang harga antara Rp 20.000.000 hingga 1.130.000,000 Miliyar rupiah. lalu di harga berikutnya ada dari rentang 2 yatu 1,130M sampai 2.240M. Dari sini kita bisa simpulkan bahwa rentang harga pada 20jt hingga 1.130M harga yang paling sering muncul pada penjualan mobil bekas"
   ]
  },
  {
   "cell_type": "markdown",
   "id": "d27f87f9",
   "metadata": {},
   "source": [
    "## Analisis Merek Mobil Bekas"
   ]
  },
  {
   "cell_type": "markdown",
   "id": "4b8c8257",
   "metadata": {},
   "source": [
    "Langkjah BErikutnya kita akan melakukan analisis Merek Mobil bekas  yang ada dalam dataset ini, Disini kita akan melihat merek mobil apa yang sering dijual dalam penjualan mobil bekas ini"
   ]
  },
  {
   "cell_type": "code",
   "execution_count": 12,
   "id": "50f08be6",
   "metadata": {},
   "outputs": [],
   "source": [
    "#kita ambil merek mobil tersebut di kata awal dalam nama mobil dengan menggunakan split.\n",
    "#nama mobil dalam kolom tersebut akan di pecah dan mempunyai index, lalu kita ambil index pertama yaitu index 0\n",
    "df[\"Merek Mobil\"]=df[\"Nama Mobil\"].str.split().str[0]"
   ]
  },
  {
   "cell_type": "code",
   "execution_count": 13,
   "id": "4355d2a9",
   "metadata": {},
   "outputs": [
    {
     "data": {
      "text/html": [
       "<div>\n",
       "<style scoped>\n",
       "    .dataframe tbody tr th:only-of-type {\n",
       "        vertical-align: middle;\n",
       "    }\n",
       "\n",
       "    .dataframe tbody tr th {\n",
       "        vertical-align: top;\n",
       "    }\n",
       "\n",
       "    .dataframe thead th {\n",
       "        text-align: right;\n",
       "    }\n",
       "</style>\n",
       "<table border=\"1\" class=\"dataframe\">\n",
       "  <thead>\n",
       "    <tr style=\"text-align: right;\">\n",
       "      <th></th>\n",
       "      <th>Nama Mobil</th>\n",
       "      <th>Tahun jual</th>\n",
       "      <th>Harga Jual Mobil</th>\n",
       "      <th>jarak tempuh mobil</th>\n",
       "      <th>Bahan bakar mobil</th>\n",
       "      <th>Penjual</th>\n",
       "      <th>transmissi</th>\n",
       "      <th>Kepemilikan</th>\n",
       "      <th>Merek Mobil</th>\n",
       "    </tr>\n",
       "  </thead>\n",
       "  <tbody>\n",
       "    <tr>\n",
       "      <th>0</th>\n",
       "      <td>Maruti 800 AC</td>\n",
       "      <td>2007</td>\n",
       "      <td>60000</td>\n",
       "      <td>70000</td>\n",
       "      <td>Petrol</td>\n",
       "      <td>Individual</td>\n",
       "      <td>Manual</td>\n",
       "      <td>First Owner</td>\n",
       "      <td>Maruti</td>\n",
       "    </tr>\n",
       "    <tr>\n",
       "      <th>1</th>\n",
       "      <td>Maruti Wagon R LXI Minor</td>\n",
       "      <td>2007</td>\n",
       "      <td>135000</td>\n",
       "      <td>50000</td>\n",
       "      <td>Petrol</td>\n",
       "      <td>Individual</td>\n",
       "      <td>Manual</td>\n",
       "      <td>First Owner</td>\n",
       "      <td>Maruti</td>\n",
       "    </tr>\n",
       "    <tr>\n",
       "      <th>2</th>\n",
       "      <td>Hyundai Verna 1.6 SX</td>\n",
       "      <td>2012</td>\n",
       "      <td>600000</td>\n",
       "      <td>100000</td>\n",
       "      <td>Diesel</td>\n",
       "      <td>Individual</td>\n",
       "      <td>Manual</td>\n",
       "      <td>First Owner</td>\n",
       "      <td>Hyundai</td>\n",
       "    </tr>\n",
       "    <tr>\n",
       "      <th>3</th>\n",
       "      <td>Datsun RediGO T Option</td>\n",
       "      <td>2017</td>\n",
       "      <td>250000</td>\n",
       "      <td>46000</td>\n",
       "      <td>Petrol</td>\n",
       "      <td>Individual</td>\n",
       "      <td>Manual</td>\n",
       "      <td>First Owner</td>\n",
       "      <td>Datsun</td>\n",
       "    </tr>\n",
       "    <tr>\n",
       "      <th>4</th>\n",
       "      <td>Honda Amaze VX i-DTEC</td>\n",
       "      <td>2014</td>\n",
       "      <td>450000</td>\n",
       "      <td>141000</td>\n",
       "      <td>Diesel</td>\n",
       "      <td>Individual</td>\n",
       "      <td>Manual</td>\n",
       "      <td>Second Owner</td>\n",
       "      <td>Honda</td>\n",
       "    </tr>\n",
       "  </tbody>\n",
       "</table>\n",
       "</div>"
      ],
      "text/plain": [
       "                 Nama Mobil  Tahun jual  Harga Jual Mobil  jarak tempuh mobil  \\\n",
       "0             Maruti 800 AC        2007             60000               70000   \n",
       "1  Maruti Wagon R LXI Minor        2007            135000               50000   \n",
       "2      Hyundai Verna 1.6 SX        2012            600000              100000   \n",
       "3    Datsun RediGO T Option        2017            250000               46000   \n",
       "4     Honda Amaze VX i-DTEC        2014            450000              141000   \n",
       "\n",
       "  Bahan bakar mobil     Penjual transmissi   Kepemilikan Merek Mobil  \n",
       "0            Petrol  Individual     Manual   First Owner      Maruti  \n",
       "1            Petrol  Individual     Manual   First Owner      Maruti  \n",
       "2            Diesel  Individual     Manual   First Owner     Hyundai  \n",
       "3            Petrol  Individual     Manual   First Owner      Datsun  \n",
       "4            Diesel  Individual     Manual  Second Owner       Honda  "
      ]
     },
     "execution_count": 13,
     "metadata": {},
     "output_type": "execute_result"
    }
   ],
   "source": [
    "df.head()"
   ]
  },
  {
   "cell_type": "markdown",
   "id": "21caf7ac",
   "metadata": {},
   "source": [
    "Sekarang kita akan mengelompokkan data data nama mobi berdasarkan merek mobilnya, dan data itu kita buat menjadi serires lalu kita jadikan kedalam DF baru yang berisikan merek mobil dan jumlahnya"
   ]
  },
  {
   "cell_type": "code",
   "execution_count": 14,
   "id": "682236f4",
   "metadata": {},
   "outputs": [],
   "source": [
    "merek_maruti = df[df[\"Merek Mobil\"]==\"Maruti\"].value_counts().sum()\n",
    "merek_Hyundai = df[df[\"Merek Mobil\"]==\"Hyundai\"].value_counts().sum()\n",
    "merek_Mahindra = df[df[\"Merek Mobil\"]==\"Mahindra\"].value_counts().sum()\n",
    "merek_Tata = df[df[\"Merek Mobil\"]==\"Tata\"].value_counts().sum()\n",
    "merek_Honda = df[df[\"Merek Mobil\"]==\"Honda\"].value_counts().sum()\n",
    "merek_Ford = df[df[\"Merek Mobil\"]==\"Ford\"].value_counts().sum()\n",
    "merek_Toyota = df[df[\"Merek Mobil\"]==\"Toyota\"].value_counts().sum()\n",
    "merek_Chevrolet = df[df[\"Merek Mobil\"]==\"ChevroletRenault\"].value_counts().sum()\n",
    "merek_Renault = df[df[\"Merek Mobil\"]==\"Renault\"].value_counts().sum()\n",
    "merek_Volkswagen = df[df[\"Merek Mobil\"]==\"Volkswagen\"].value_counts().sum()\n",
    "merek_Skoda = df[df[\"Merek Mobil\"]==\"Skoda\"].value_counts().sum()\n",
    "merek_Nissan = df[df[\"Merek Mobil\"]==\"Nissan\"].value_counts().sum()\n",
    "merek_Audi = df[df[\"Merek Mobil\"]==\"Audi\"].value_counts().sum()\n",
    "merek_BMW = df[df[\"Merek Mobil\"]==\"BMW\"].value_counts().sum()\n",
    "merek_Fiat = df[df[\"Merek Mobil\"]==\"Fiat\"].value_counts().sum()\n",
    "merek_Datsun = df[df[\"Merek Mobil\"]==\"Datsun\"].value_counts().sum()\n",
    "merek_Mercedes_Benz = df[df[\"Merek Mobil\"]==\"Mercedes-Benz\"].value_counts().sum()\n",
    "merek_Jaguar = df[df[\"Merek Mobil\"]==\"Jaguar\"].value_counts().sum()\n",
    "merek_Mitsubishi = df[df[\"Merek Mobil\"]==\"Mitsubishi\"].value_counts().sum()\n",
    "merek_Land = df[df[\"Merek Mobil\"]==\"Land\"].value_counts().sum()\n",
    "merek_Volvo = df[df[\"Merek Mobil\"]==\"Volvo\"].value_counts().sum()\n",
    "merek_Ambassador = df[df[\"Merek Mobil\"]==\"Ambassador\"].value_counts().sum()\n",
    "merek_Jeep = df[df[\"Merek Mobil\"]==\"Jeep\"].value_counts().sum()\n",
    "merek_MG = df[df[\"Merek Mobil\"]==\"MG\"].value_counts().sum()\n",
    "merek_OpelCorsa = df[df[\"Merek Mobil\"]==\"OpelCorsa\"].value_counts().sum()\n",
    "merek_Daewoo = df[df[\"Merek Mobil\"]==\"Daewoo\"].value_counts().sum()\n",
    "merek_Force = df[df[\"Merek Mobil\"]==\"Force\"].value_counts().sum()\n",
    "merek_Isuzu = df[df[\"Merek Mobil\"]==\"Isuzu\"].value_counts().sum()\n",
    "merek_Kia = df[df[\"Merek Mobil\"]==\"Kia\"].value_counts().sum()"
   ]
  },
  {
   "cell_type": "code",
   "execution_count": 15,
   "id": "93460ab8",
   "metadata": {},
   "outputs": [
    {
     "data": {
      "text/html": [
       "<div>\n",
       "<style scoped>\n",
       "    .dataframe tbody tr th:only-of-type {\n",
       "        vertical-align: middle;\n",
       "    }\n",
       "\n",
       "    .dataframe tbody tr th {\n",
       "        vertical-align: top;\n",
       "    }\n",
       "\n",
       "    .dataframe thead th {\n",
       "        text-align: right;\n",
       "    }\n",
       "</style>\n",
       "<table border=\"1\" class=\"dataframe\">\n",
       "  <thead>\n",
       "    <tr style=\"text-align: right;\">\n",
       "      <th></th>\n",
       "      <th>Merek_mobil</th>\n",
       "      <th>Jumlah_Mobil</th>\n",
       "    </tr>\n",
       "  </thead>\n",
       "  <tbody>\n",
       "    <tr>\n",
       "      <th>0</th>\n",
       "      <td>Maruti</td>\n",
       "      <td>1280</td>\n",
       "    </tr>\n",
       "    <tr>\n",
       "      <th>1</th>\n",
       "      <td>Hyundai</td>\n",
       "      <td>821</td>\n",
       "    </tr>\n",
       "    <tr>\n",
       "      <th>2</th>\n",
       "      <td>Mahindra</td>\n",
       "      <td>365</td>\n",
       "    </tr>\n",
       "    <tr>\n",
       "      <th>3</th>\n",
       "      <td>Tata</td>\n",
       "      <td>361</td>\n",
       "    </tr>\n",
       "    <tr>\n",
       "      <th>4</th>\n",
       "      <td>Honda</td>\n",
       "      <td>252</td>\n",
       "    </tr>\n",
       "  </tbody>\n",
       "</table>\n",
       "</div>"
      ],
      "text/plain": [
       "  Merek_mobil  Jumlah_Mobil\n",
       "0      Maruti          1280\n",
       "1     Hyundai           821\n",
       "2    Mahindra           365\n",
       "3        Tata           361\n",
       "4       Honda           252"
      ]
     },
     "execution_count": 15,
     "metadata": {},
     "output_type": "execute_result"
    }
   ],
   "source": [
    "import pandas as pd\n",
    "\n",
    "# Daftar merek mobil yang ingin Anda hitung\n",
    "mereks = [\"Maruti\", \"Hyundai\", \"Mahindra\", \"Tata\", \"Honda\", \"Ford\", \"Toyota\", \"ChevroletRenault\",\n",
    "          \"Renault\", \"Volkswagen\", \"Skoda\", \"Nissan\", \"Audi\", \"BMW\", \"Fiat\", \"Datsun\",\n",
    "          \"Mercedes-Benz\", \"Jaguar\", \"Mitsubishi\", \"Land\", \"Volvo\", \"Ambassador\", \"Jeep\",\n",
    "          \"MG\", \"OpelCorsa\", \"Daewoo\", \"Force\", \"Isuzu\", \"Kia\"]\n",
    "\n",
    "# Buat dictionary yang berisi informasi jumlah mobil untuk setiap merek\n",
    "df_merek_mobil = [{\"Merek_mobil\": merek, \"Jumlah_Mobil\": df[df[\"Merek Mobil\"] == merek].shape[0]} for merek in mereks]\n",
    "\n",
    "# Buat DataFrame dari dictionary\n",
    "df_merek_mobil = pd.DataFrame(df_merek_mobil)\n",
    "\n",
    "# urutkan df dulu dan tampilkan\n",
    "df_merek_mobil = df_merek_mobil.sort_values(by=\"Jumlah_Mobil\",ascending=False)\n",
    "df_merek_mobil.head()"
   ]
  },
  {
   "cell_type": "code",
   "execution_count": 16,
   "id": "b416d3dd",
   "metadata": {
    "scrolled": false
   },
   "outputs": [
    {
     "data": {
      "text/plain": [
       "<AxesSubplot:title={'center':'Diagram penjualan mobil bekas tiap merek'}, xlabel='Jumlah_Mobil', ylabel='Merek_mobil'>"
      ]
     },
     "execution_count": 16,
     "metadata": {},
     "output_type": "execute_result"
    },
    {
     "data": {
      "image/png": "[encoded data removed]",
      "text/plain": [
       "<Figure size 1080x720 with 1 Axes>"
      ]
     },
     "metadata": {
      "needs_background": "light"
     },
     "output_type": "display_data"
    }
   ],
   "source": [
    "#setting canvas dan judul\n",
    "plt.figure(figsize=(15,10))\n",
    "plt.title(\"Diagram penjualan mobil bekas tiap merek\")\n",
    "\n",
    "#setting plot dengan seaborn\n",
    "sns.barplot(x=\"Jumlah_Mobil\",y=\"Merek_mobil\",data=df_merek_mobil)"
   ]
  },
  {
   "cell_type": "markdown",
   "id": "53e0e133",
   "metadata": {},
   "source": [
    "Dari Hasil diagram diatas menunjukkan bahwa penjualan mobil bekas paling tinggi ada pada merek Maruti, disusul dengan Hyundai ,mahindra, Tata, honda, Ford , Toyota, Rneault, dan lainya"
   ]
  },
  {
   "cell_type": "markdown",
   "id": "b57004b0",
   "metadata": {},
   "source": [
    "Sekarang kita akan melihat historikal penjualan antara tahun beli dengan harga jualnya dari setiap merek"
   ]
  },
  {
   "cell_type": "code",
   "execution_count": 17,
   "id": "f91d4360",
   "metadata": {},
   "outputs": [],
   "source": [
    "merek_maruti_data = df[df[\"Merek Mobil\"]==\"Maruti\"]\n",
    "merek_Hyundai_data = df[df[\"Merek Mobil\"]==\"Hyundai\"]\n",
    "merek_Mahindra_data = df[df[\"Merek Mobil\"]==\"Mahindra\"]\n",
    "merek_Tata_data = df[df[\"Merek Mobil\"]==\"Tata\"]\n",
    "merek_Honda_data = df[df[\"Merek Mobil\"]==\"Honda\"]\n",
    "merek_Ford_data = df[df[\"Merek Mobil\"]==\"Ford\"]\n",
    "merek_Toyota_data = df[df[\"Merek Mobil\"]==\"Toyota\"]\n",
    "merek_Chevrolet_data = df[df[\"Merek Mobil\"]==\"ChevroletRenault\"]\n",
    "merek_Renault_data = df[df[\"Merek Mobil\"]==\"Renault\"]\n",
    "merek_Volkswagen_data = df[df[\"Merek Mobil\"]==\"Volkswagen\"]\n",
    "merek_Skoda_data = df[df[\"Merek Mobil\"]==\"Skoda\"]\n",
    "merek_Nissan_data = df[df[\"Merek Mobil\"]==\"Nissan\"]\n",
    "merek_Audi_data = df[df[\"Merek Mobil\"]==\"Audi\"]\n",
    "merek_BMW_data = df[df[\"Merek Mobil\"]==\"BMW\"]\n",
    "merek_Fiat_data = df[df[\"Merek Mobil\"]==\"Fiat\"]\n",
    "merek_Datsun_data = df[df[\"Merek Mobil\"]==\"Datsun\"]\n",
    "merek_Mercedes_Benz_data = df[df[\"Merek Mobil\"]==\"Mercedes-Benz\"]\n",
    "merek_Jaguar_data = df[df[\"Merek Mobil\"]==\"Jaguar\"]\n",
    "merek_Mitsubishi_data = df[df[\"Merek Mobil\"]==\"Mitsubishi\"]\n",
    "merek_Land_data = df[df[\"Merek Mobil\"]==\"Land\"]\n",
    "merek_Volvo_data = df[df[\"Merek Mobil\"]==\"Volvo\"]\n",
    "merek_Ambassador_data = df[df[\"Merek Mobil\"]==\"Ambassador\"]\n",
    "merek_Jeep_data = df[df[\"Merek Mobil\"]==\"Jeep\"]\n",
    "merek_MG_data = df[df[\"Merek Mobil\"]==\"MG\"]\n",
    "merek_OpelCorsa_data = df[df[\"Merek Mobil\"]==\"OpelCorsa\"]\n",
    "merek_Daewoo_data = df[df[\"Merek Mobil\"]==\"Daewoo\"]\n",
    "merek_Force_data = df[df[\"Merek Mobil\"]==\"Force\"]\n",
    "merek_Isuzu_data = df[df[\"Merek Mobil\"]==\"Isuzu\"]\n",
    "merek_Kia_data = df[df[\"Merek Mobil\"]==\"Kia\"]"
   ]
  },
  {
   "cell_type": "markdown",
   "id": "e252ee93",
   "metadata": {},
   "source": [
    "Datanya di kelompokan dulu berdasarkan tahun pembelian lalu di jumlhkan biar keluar series isinya thun dan jumlah pertahunnya"
   ]
  },
  {
   "cell_type": "code",
   "execution_count": 18,
   "id": "cde5aa6b",
   "metadata": {},
   "outputs": [],
   "source": [
    "a = merek_maruti_data.groupby(\"Tahun jual\")[\"Harga Jual Mobil\"].sum()\n",
    "b = merek_Hyundai_data.groupby(\"Tahun jual\")[\"Harga Jual Mobil\"].sum()\n",
    "c = merek_Mahindra_data.groupby(\"Tahun jual\")[\"Harga Jual Mobil\"].sum()\n",
    "d = merek_Tata_data.groupby(\"Tahun jual\")[\"Harga Jual Mobil\"].sum()\n",
    "e = merek_Honda_data.groupby(\"Tahun jual\")[\"Harga Jual Mobil\"].sum()"
   ]
  },
  {
   "cell_type": "markdown",
   "id": "306d0c10",
   "metadata": {},
   "source": [
    "Ubah series tersebut menajdi DF"
   ]
  },
  {
   "cell_type": "code",
   "execution_count": 19,
   "id": "39be669a",
   "metadata": {},
   "outputs": [],
   "source": [
    "a = pd.DataFrame(a)\n",
    "b = pd.DataFrame(b)\n",
    "c = pd.DataFrame(c)\n",
    "d = pd.DataFrame(d)\n",
    "e = pd.DataFrame(e)"
   ]
  },
  {
   "cell_type": "markdown",
   "id": "a9c01fc4",
   "metadata": {},
   "source": [
    "Lalu reset index tahun pembelian agar naik menjadi kolom, bukan index lagi"
   ]
  },
  {
   "cell_type": "code",
   "execution_count": 20,
   "id": "c2104ceb",
   "metadata": {},
   "outputs": [],
   "source": [
    "a.reset_index(inplace=True)\n",
    "b.reset_index(inplace=True)\n",
    "c.reset_index(inplace=True)\n",
    "d.reset_index(inplace=True)\n",
    "e.reset_index(inplace=True)"
   ]
  },
  {
   "cell_type": "markdown",
   "id": "03515734",
   "metadata": {},
   "source": [
    "Berikan label sesuai dengan merek yang telah diberikan"
   ]
  },
  {
   "cell_type": "code",
   "execution_count": 21,
   "id": "f13048b5",
   "metadata": {},
   "outputs": [],
   "source": [
    "a[\"merek\"] = \"Maruti\"\n",
    "b[\"merek\"] = \"Hyundai\"\n",
    "c[\"merek\"] = \"Mahindra\"\n",
    "d[\"merek\"] = \"Tata\"\n",
    "e[\"merek\"] = \"Honda\""
   ]
  },
  {
   "cell_type": "markdown",
   "id": "a115ade7",
   "metadata": {},
   "source": [
    "gabungkan kedua dataframe tersebut dengan concat, axzis=0 karen menggabukan baris"
   ]
  },
  {
   "cell_type": "code",
   "execution_count": 22,
   "id": "2a0f8051",
   "metadata": {},
   "outputs": [
    {
     "data": {
      "text/html": [
       "<div>\n",
       "<style scoped>\n",
       "    .dataframe tbody tr th:only-of-type {\n",
       "        vertical-align: middle;\n",
       "    }\n",
       "\n",
       "    .dataframe tbody tr th {\n",
       "        vertical-align: top;\n",
       "    }\n",
       "\n",
       "    .dataframe thead th {\n",
       "        text-align: right;\n",
       "    }\n",
       "</style>\n",
       "<table border=\"1\" class=\"dataframe\">\n",
       "  <thead>\n",
       "    <tr style=\"text-align: right;\">\n",
       "      <th></th>\n",
       "      <th>Tahun jual</th>\n",
       "      <th>Harga Jual Mobil</th>\n",
       "      <th>merek</th>\n",
       "    </tr>\n",
       "  </thead>\n",
       "  <tbody>\n",
       "    <tr>\n",
       "      <th>0</th>\n",
       "      <td>1992</td>\n",
       "      <td>50000</td>\n",
       "      <td>Maruti</td>\n",
       "    </tr>\n",
       "    <tr>\n",
       "      <th>1</th>\n",
       "      <td>1995</td>\n",
       "      <td>95000</td>\n",
       "      <td>Maruti</td>\n",
       "    </tr>\n",
       "    <tr>\n",
       "      <th>2</th>\n",
       "      <td>1997</td>\n",
       "      <td>129000</td>\n",
       "      <td>Maruti</td>\n",
       "    </tr>\n",
       "    <tr>\n",
       "      <th>3</th>\n",
       "      <td>1998</td>\n",
       "      <td>483000</td>\n",
       "      <td>Maruti</td>\n",
       "    </tr>\n",
       "    <tr>\n",
       "      <th>4</th>\n",
       "      <td>1999</td>\n",
       "      <td>455000</td>\n",
       "      <td>Maruti</td>\n",
       "    </tr>\n",
       "    <tr>\n",
       "      <th>...</th>\n",
       "      <td>...</td>\n",
       "      <td>...</td>\n",
       "      <td>...</td>\n",
       "    </tr>\n",
       "    <tr>\n",
       "      <th>15</th>\n",
       "      <td>2016</td>\n",
       "      <td>14537000</td>\n",
       "      <td>Honda</td>\n",
       "    </tr>\n",
       "    <tr>\n",
       "      <th>16</th>\n",
       "      <td>2017</td>\n",
       "      <td>22446998</td>\n",
       "      <td>Honda</td>\n",
       "    </tr>\n",
       "    <tr>\n",
       "      <th>17</th>\n",
       "      <td>2018</td>\n",
       "      <td>35455999</td>\n",
       "      <td>Honda</td>\n",
       "    </tr>\n",
       "    <tr>\n",
       "      <th>18</th>\n",
       "      <td>2019</td>\n",
       "      <td>3884999</td>\n",
       "      <td>Honda</td>\n",
       "    </tr>\n",
       "    <tr>\n",
       "      <th>19</th>\n",
       "      <td>2020</td>\n",
       "      <td>1864000</td>\n",
       "      <td>Honda</td>\n",
       "    </tr>\n",
       "  </tbody>\n",
       "</table>\n",
       "<p>109 rows × 3 columns</p>\n",
       "</div>"
      ],
      "text/plain": [
       "    Tahun jual  Harga Jual Mobil   merek\n",
       "0         1992             50000  Maruti\n",
       "1         1995             95000  Maruti\n",
       "2         1997            129000  Maruti\n",
       "3         1998            483000  Maruti\n",
       "4         1999            455000  Maruti\n",
       "..         ...               ...     ...\n",
       "15        2016          14537000   Honda\n",
       "16        2017          22446998   Honda\n",
       "17        2018          35455999   Honda\n",
       "18        2019           3884999   Honda\n",
       "19        2020           1864000   Honda\n",
       "\n",
       "[109 rows x 3 columns]"
      ]
     },
     "execution_count": 22,
     "metadata": {},
     "output_type": "execute_result"
    }
   ],
   "source": [
    "gabungan = pd.concat([a,b,c,d,e],axis=0)\n",
    "gabungan"
   ]
  },
  {
   "cell_type": "markdown",
   "id": "12b9169b",
   "metadata": {},
   "source": [
    "PIVOT kan tabel agar bisa dibaca oleh plot nantinya dalam analisis"
   ]
  },
  {
   "cell_type": "code",
   "execution_count": 23,
   "id": "2f9f81d1",
   "metadata": {},
   "outputs": [],
   "source": [
    "df_gabungan_line2 = gabungan.pivot(index='Tahun jual', columns='merek', values='Harga Jual Mobil').reset_index()\n",
    "df_gabungan_line2.fillna(0,inplace=True)"
   ]
  },
  {
   "cell_type": "code",
   "execution_count": 24,
   "id": "5d001718",
   "metadata": {},
   "outputs": [
    {
     "data": {
      "text/html": [
       "<div>\n",
       "<style scoped>\n",
       "    .dataframe tbody tr th:only-of-type {\n",
       "        vertical-align: middle;\n",
       "    }\n",
       "\n",
       "    .dataframe tbody tr th {\n",
       "        vertical-align: top;\n",
       "    }\n",
       "\n",
       "    .dataframe thead th {\n",
       "        text-align: right;\n",
       "    }\n",
       "</style>\n",
       "<table border=\"1\" class=\"dataframe\">\n",
       "  <thead>\n",
       "    <tr style=\"text-align: right;\">\n",
       "      <th>merek</th>\n",
       "      <th>Tahun jual</th>\n",
       "      <th>Honda</th>\n",
       "      <th>Hyundai</th>\n",
       "      <th>Mahindra</th>\n",
       "      <th>Maruti</th>\n",
       "      <th>Tata</th>\n",
       "    </tr>\n",
       "  </thead>\n",
       "  <tbody>\n",
       "    <tr>\n",
       "      <th>0</th>\n",
       "      <td>1992</td>\n",
       "      <td>0.0</td>\n",
       "      <td>0.0</td>\n",
       "      <td>0.0</td>\n",
       "      <td>50000.0</td>\n",
       "      <td>0.0</td>\n",
       "    </tr>\n",
       "    <tr>\n",
       "      <th>1</th>\n",
       "      <td>1995</td>\n",
       "      <td>0.0</td>\n",
       "      <td>0.0</td>\n",
       "      <td>0.0</td>\n",
       "      <td>95000.0</td>\n",
       "      <td>0.0</td>\n",
       "    </tr>\n",
       "    <tr>\n",
       "      <th>2</th>\n",
       "      <td>1996</td>\n",
       "      <td>0.0</td>\n",
       "      <td>0.0</td>\n",
       "      <td>450000.0</td>\n",
       "      <td>0.0</td>\n",
       "      <td>0.0</td>\n",
       "    </tr>\n",
       "    <tr>\n",
       "      <th>3</th>\n",
       "      <td>1997</td>\n",
       "      <td>0.0</td>\n",
       "      <td>0.0</td>\n",
       "      <td>150000.0</td>\n",
       "      <td>129000.0</td>\n",
       "      <td>0.0</td>\n",
       "    </tr>\n",
       "    <tr>\n",
       "      <th>4</th>\n",
       "      <td>1998</td>\n",
       "      <td>85000.0</td>\n",
       "      <td>0.0</td>\n",
       "      <td>0.0</td>\n",
       "      <td>483000.0</td>\n",
       "      <td>0.0</td>\n",
       "    </tr>\n",
       "    <tr>\n",
       "      <th>5</th>\n",
       "      <td>1999</td>\n",
       "      <td>0.0</td>\n",
       "      <td>110000.0</td>\n",
       "      <td>170000.0</td>\n",
       "      <td>455000.0</td>\n",
       "      <td>0.0</td>\n",
       "    </tr>\n",
       "    <tr>\n",
       "      <th>6</th>\n",
       "      <td>2000</td>\n",
       "      <td>0.0</td>\n",
       "      <td>0.0</td>\n",
       "      <td>155000.0</td>\n",
       "      <td>801000.0</td>\n",
       "      <td>0.0</td>\n",
       "    </tr>\n",
       "    <tr>\n",
       "      <th>7</th>\n",
       "      <td>2001</td>\n",
       "      <td>0.0</td>\n",
       "      <td>295000.0</td>\n",
       "      <td>80000.0</td>\n",
       "      <td>1477998.0</td>\n",
       "      <td>0.0</td>\n",
       "    </tr>\n",
       "    <tr>\n",
       "      <th>8</th>\n",
       "      <td>2002</td>\n",
       "      <td>435000.0</td>\n",
       "      <td>290000.0</td>\n",
       "      <td>150000.0</td>\n",
       "      <td>570000.0</td>\n",
       "      <td>225000.0</td>\n",
       "    </tr>\n",
       "    <tr>\n",
       "      <th>9</th>\n",
       "      <td>2003</td>\n",
       "      <td>550000.0</td>\n",
       "      <td>453000.0</td>\n",
       "      <td>0.0</td>\n",
       "      <td>788000.0</td>\n",
       "      <td>50000.0</td>\n",
       "    </tr>\n",
       "    <tr>\n",
       "      <th>10</th>\n",
       "      <td>2004</td>\n",
       "      <td>535000.0</td>\n",
       "      <td>615000.0</td>\n",
       "      <td>1049999.0</td>\n",
       "      <td>1701500.0</td>\n",
       "      <td>80000.0</td>\n",
       "    </tr>\n",
       "    <tr>\n",
       "      <th>11</th>\n",
       "      <td>2005</td>\n",
       "      <td>165000.0</td>\n",
       "      <td>3010998.0</td>\n",
       "      <td>944999.0</td>\n",
       "      <td>2942000.0</td>\n",
       "      <td>291111.0</td>\n",
       "    </tr>\n",
       "    <tr>\n",
       "      <th>12</th>\n",
       "      <td>2006</td>\n",
       "      <td>645000.0</td>\n",
       "      <td>2710000.0</td>\n",
       "      <td>2129999.0</td>\n",
       "      <td>4502000.0</td>\n",
       "      <td>1014997.0</td>\n",
       "    </tr>\n",
       "    <tr>\n",
       "      <th>13</th>\n",
       "      <td>2007</td>\n",
       "      <td>1934999.0</td>\n",
       "      <td>2708000.0</td>\n",
       "      <td>2625000.0</td>\n",
       "      <td>8253000.0</td>\n",
       "      <td>1599000.0</td>\n",
       "    </tr>\n",
       "    <tr>\n",
       "      <th>14</th>\n",
       "      <td>2008</td>\n",
       "      <td>1160000.0</td>\n",
       "      <td>4754999.0</td>\n",
       "      <td>1984998.0</td>\n",
       "      <td>8138198.0</td>\n",
       "      <td>1850000.0</td>\n",
       "    </tr>\n",
       "    <tr>\n",
       "      <th>15</th>\n",
       "      <td>2009</td>\n",
       "      <td>3348000.0</td>\n",
       "      <td>6424998.0</td>\n",
       "      <td>4370998.0</td>\n",
       "      <td>12139999.0</td>\n",
       "      <td>3533999.0</td>\n",
       "    </tr>\n",
       "    <tr>\n",
       "      <th>16</th>\n",
       "      <td>2010</td>\n",
       "      <td>2654997.0</td>\n",
       "      <td>8752998.0</td>\n",
       "      <td>5400000.0</td>\n",
       "      <td>11044997.0</td>\n",
       "      <td>6198000.0</td>\n",
       "    </tr>\n",
       "    <tr>\n",
       "      <th>17</th>\n",
       "      <td>2011</td>\n",
       "      <td>2520999.0</td>\n",
       "      <td>9763998.0</td>\n",
       "      <td>6395998.0</td>\n",
       "      <td>12957997.0</td>\n",
       "      <td>6910998.0</td>\n",
       "    </tr>\n",
       "    <tr>\n",
       "      <th>18</th>\n",
       "      <td>2012</td>\n",
       "      <td>3653999.0</td>\n",
       "      <td>22959984.0</td>\n",
       "      <td>16257000.0</td>\n",
       "      <td>22302997.0</td>\n",
       "      <td>11363999.0</td>\n",
       "    </tr>\n",
       "    <tr>\n",
       "      <th>19</th>\n",
       "      <td>2013</td>\n",
       "      <td>5689000.0</td>\n",
       "      <td>21137997.0</td>\n",
       "      <td>17654000.0</td>\n",
       "      <td>23841197.0</td>\n",
       "      <td>6170000.0</td>\n",
       "    </tr>\n",
       "    <tr>\n",
       "      <th>20</th>\n",
       "      <td>2014</td>\n",
       "      <td>21420999.0</td>\n",
       "      <td>20715996.0</td>\n",
       "      <td>19642000.0</td>\n",
       "      <td>32553992.0</td>\n",
       "      <td>5407000.0</td>\n",
       "    </tr>\n",
       "    <tr>\n",
       "      <th>21</th>\n",
       "      <td>2015</td>\n",
       "      <td>12626000.0</td>\n",
       "      <td>47990996.0</td>\n",
       "      <td>24096999.0</td>\n",
       "      <td>60380995.0</td>\n",
       "      <td>4909000.0</td>\n",
       "    </tr>\n",
       "    <tr>\n",
       "      <th>22</th>\n",
       "      <td>2016</td>\n",
       "      <td>14537000.0</td>\n",
       "      <td>46687997.0</td>\n",
       "      <td>25579995.0</td>\n",
       "      <td>54336997.0</td>\n",
       "      <td>8165997.0</td>\n",
       "    </tr>\n",
       "    <tr>\n",
       "      <th>23</th>\n",
       "      <td>2017</td>\n",
       "      <td>22446998.0</td>\n",
       "      <td>59623999.0</td>\n",
       "      <td>25302999.0</td>\n",
       "      <td>77617994.0</td>\n",
       "      <td>12009998.0</td>\n",
       "    </tr>\n",
       "    <tr>\n",
       "      <th>24</th>\n",
       "      <td>2018</td>\n",
       "      <td>35455999.0</td>\n",
       "      <td>49265997.0</td>\n",
       "      <td>38305999.0</td>\n",
       "      <td>59150998.0</td>\n",
       "      <td>15169998.0</td>\n",
       "    </tr>\n",
       "    <tr>\n",
       "      <th>25</th>\n",
       "      <td>2019</td>\n",
       "      <td>3884999.0</td>\n",
       "      <td>28798997.0</td>\n",
       "      <td>17618000.0</td>\n",
       "      <td>36056999.0</td>\n",
       "      <td>15849000.0</td>\n",
       "    </tr>\n",
       "    <tr>\n",
       "      <th>26</th>\n",
       "      <td>2020</td>\n",
       "      <td>1864000.0</td>\n",
       "      <td>7700000.0</td>\n",
       "      <td>4000000.0</td>\n",
       "      <td>5522000.0</td>\n",
       "      <td>1756000.0</td>\n",
       "    </tr>\n",
       "  </tbody>\n",
       "</table>\n",
       "</div>"
      ],
      "text/plain": [
       "merek  Tahun jual       Honda     Hyundai    Mahindra      Maruti        Tata\n",
       "0            1992         0.0         0.0         0.0     50000.0         0.0\n",
       "1            1995         0.0         0.0         0.0     95000.0         0.0\n",
       "2            1996         0.0         0.0    450000.0         0.0         0.0\n",
       "3            1997         0.0         0.0    150000.0    129000.0         0.0\n",
       "4            1998     85000.0         0.0         0.0    483000.0         0.0\n",
       "5            1999         0.0    110000.0    170000.0    455000.0         0.0\n",
       "6            2000         0.0         0.0    155000.0    801000.0         0.0\n",
       "7            2001         0.0    295000.0     80000.0   1477998.0         0.0\n",
       "8            2002    435000.0    290000.0    150000.0    570000.0    225000.0\n",
       "9            2003    550000.0    453000.0         0.0    788000.0     50000.0\n",
       "10           2004    535000.0    615000.0   1049999.0   1701500.0     80000.0\n",
       "11           2005    165000.0   3010998.0    944999.0   2942000.0    291111.0\n",
       "12           2006    645000.0   2710000.0   2129999.0   4502000.0   1014997.0\n",
       "13           2007   1934999.0   2708000.0   2625000.0   8253000.0   1599000.0\n",
       "14           2008   1160000.0   4754999.0   1984998.0   8138198.0   1850000.0\n",
       "15           2009   3348000.0   6424998.0   4370998.0  12139999.0   3533999.0\n",
       "16           2010   2654997.0   8752998.0   5400000.0  11044997.0   6198000.0\n",
       "17           2011   2520999.0   9763998.0   6395998.0  12957997.0   6910998.0\n",
       "18           2012   3653999.0  22959984.0  16257000.0  22302997.0  11363999.0\n",
       "19           2013   5689000.0  21137997.0  17654000.0  23841197.0   6170000.0\n",
       "20           2014  21420999.0  20715996.0  19642000.0  32553992.0   5407000.0\n",
       "21           2015  12626000.0  47990996.0  24096999.0  60380995.0   4909000.0\n",
       "22           2016  14537000.0  46687997.0  25579995.0  54336997.0   8165997.0\n",
       "23           2017  22446998.0  59623999.0  25302999.0  77617994.0  12009998.0\n",
       "24           2018  35455999.0  49265997.0  38305999.0  59150998.0  15169998.0\n",
       "25           2019   3884999.0  28798997.0  17618000.0  36056999.0  15849000.0\n",
       "26           2020   1864000.0   7700000.0   4000000.0   5522000.0   1756000.0"
      ]
     },
     "execution_count": 24,
     "metadata": {},
     "output_type": "execute_result"
    }
   ],
   "source": [
    "df_gabungan_line2"
   ]
  },
  {
   "cell_type": "markdown",
   "id": "6dc46f22",
   "metadata": {},
   "source": [
    "IMplementasikan dalam plot"
   ]
  },
  {
   "cell_type": "code",
   "execution_count": 25,
   "id": "1ac59e92",
   "metadata": {
    "scrolled": false
   },
   "outputs": [
    {
     "data": {
      "image/png": "[encoded data removed]",
      "text/plain": [
       "<Figure size 720x432 with 1 Axes>"
      ]
     },
     "metadata": {
      "needs_background": "light"
     },
     "output_type": "display_data"
    }
   ],
   "source": [
    "# Membuat grafik garis\n",
    "plt.figure(figsize=(10, 6))\n",
    "plt.plot(df_gabungan_line2['Tahun jual'], df_gabungan_line2['Hyundai'], label='Hyundai', marker='*') #titiknya jadi bintang\n",
    "plt.plot(df_gabungan_line2['Tahun jual'], df_gabungan_line2['Maruti'], label='Maruti', marker='o') #titiknya jadi lingkaran\n",
    "plt.plot(df_gabungan_line2['Tahun jual'], df_gabungan_line2['Mahindra'], label='Maruti', marker='x') #titiknya jadi x\n",
    "plt.plot(df_gabungan_line2[\"Tahun jual\"],df_gabungan_line2[\"Tata\"],label=\"Tata\",marker=\"D\") # titiknya jadi diamond\n",
    "plt.plot(df_gabungan_line2[\"Tahun jual\"],df_gabungan_line2[\"Honda\"],label = \"Honda\",marker=\"^\") #titiknya jadi segitiga\n",
    "\n",
    "# Menambahkan judul dan label sumbu\n",
    "plt.title('Total Harga Jual Historis Mobil')\n",
    "plt.xlabel('Tahun')\n",
    "plt.ylabel('Harga Mobil')\n",
    "\n",
    "# Menampilkan legenda\n",
    "plt.legend()\n",
    "\n",
    "# Menampilkan grafik\n",
    "plt.grid(True)\n",
    "plt.show()"
   ]
  },
  {
   "cell_type": "markdown",
   "id": "f86e4048",
   "metadata": {},
   "source": [
    "Dari hasil data diatas menunjukkan bahwa jumlah total penjualan mobil bekas paling tinggi ada pada merek mobil Maruti."
   ]
  },
  {
   "cell_type": "markdown",
   "id": "a5a1eaf7",
   "metadata": {},
   "source": [
    "## Analisis harga dengan Jarak Tempuh"
   ]
  },
  {
   "cell_type": "code",
   "execution_count": 26,
   "id": "99c4b68c",
   "metadata": {},
   "outputs": [
    {
     "data": {
      "text/html": [
       "<div>\n",
       "<style scoped>\n",
       "    .dataframe tbody tr th:only-of-type {\n",
       "        vertical-align: middle;\n",
       "    }\n",
       "\n",
       "    .dataframe tbody tr th {\n",
       "        vertical-align: top;\n",
       "    }\n",
       "\n",
       "    .dataframe thead th {\n",
       "        text-align: right;\n",
       "    }\n",
       "</style>\n",
       "<table border=\"1\" class=\"dataframe\">\n",
       "  <thead>\n",
       "    <tr style=\"text-align: right;\">\n",
       "      <th></th>\n",
       "      <th>Harga Jual Mobil</th>\n",
       "      <th>Tahun jual</th>\n",
       "      <th>jarak tempuh mobil</th>\n",
       "    </tr>\n",
       "    <tr>\n",
       "      <th>Nama Mobil</th>\n",
       "      <th></th>\n",
       "      <th></th>\n",
       "      <th></th>\n",
       "    </tr>\n",
       "  </thead>\n",
       "  <tbody>\n",
       "    <tr>\n",
       "      <th>Maruti SX4 S Cross DDiS 320 Delta</th>\n",
       "      <td>5.516667e+05</td>\n",
       "      <td>2015.666667</td>\n",
       "      <td>400000.0</td>\n",
       "    </tr>\n",
       "    <tr>\n",
       "      <th>Chevrolet Tavera Neo LS B3 - 7(C) seats BSIII</th>\n",
       "      <td>2.800000e+05</td>\n",
       "      <td>2010.000000</td>\n",
       "      <td>350000.0</td>\n",
       "    </tr>\n",
       "    <tr>\n",
       "      <th>Volkswagen Jetta 2.0 TDI Comfortline</th>\n",
       "      <td>3.500000e+05</td>\n",
       "      <td>2011.000000</td>\n",
       "      <td>312000.0</td>\n",
       "    </tr>\n",
       "    <tr>\n",
       "      <th>Mahindra Xylo E9</th>\n",
       "      <td>3.000000e+05</td>\n",
       "      <td>2012.000000</td>\n",
       "      <td>295000.0</td>\n",
       "    </tr>\n",
       "    <tr>\n",
       "      <th>Toyota Innova 2.5 G (Diesel) 7 Seater BS IV</th>\n",
       "      <td>5.500000e+05</td>\n",
       "      <td>2008.000000</td>\n",
       "      <td>281500.0</td>\n",
       "    </tr>\n",
       "    <tr>\n",
       "      <th>...</th>\n",
       "      <td>...</td>\n",
       "      <td>...</td>\n",
       "      <td>...</td>\n",
       "    </tr>\n",
       "    <tr>\n",
       "      <th>Ford Ecosport Sports Petrol</th>\n",
       "      <td>1.100000e+06</td>\n",
       "      <td>2020.000000</td>\n",
       "      <td>1000.0</td>\n",
       "    </tr>\n",
       "    <tr>\n",
       "      <th>Renault KWID Climber 1.0 MT Opt BSIV</th>\n",
       "      <td>5.410000e+05</td>\n",
       "      <td>2020.000000</td>\n",
       "      <td>1000.0</td>\n",
       "    </tr>\n",
       "    <tr>\n",
       "      <th>Honda Amaze S Petrol BSIV</th>\n",
       "      <td>6.140000e+05</td>\n",
       "      <td>2020.000000</td>\n",
       "      <td>1000.0</td>\n",
       "    </tr>\n",
       "    <tr>\n",
       "      <th>Tata Harrier XE</th>\n",
       "      <td>4.260000e+05</td>\n",
       "      <td>2020.000000</td>\n",
       "      <td>1000.0</td>\n",
       "    </tr>\n",
       "    <tr>\n",
       "      <th>Ford Figo Titanium</th>\n",
       "      <td>6.905000e+05</td>\n",
       "      <td>2020.000000</td>\n",
       "      <td>606.0</td>\n",
       "    </tr>\n",
       "  </tbody>\n",
       "</table>\n",
       "<p>1491 rows × 3 columns</p>\n",
       "</div>"
      ],
      "text/plain": [
       "                                               Harga Jual Mobil   Tahun jual  \\\n",
       "Nama Mobil                                                                     \n",
       "Maruti SX4 S Cross DDiS 320 Delta                  5.516667e+05  2015.666667   \n",
       "Chevrolet Tavera Neo LS B3 - 7(C) seats BSIII      2.800000e+05  2010.000000   \n",
       "Volkswagen Jetta 2.0 TDI Comfortline               3.500000e+05  2011.000000   \n",
       "Mahindra Xylo E9                                   3.000000e+05  2012.000000   \n",
       "Toyota Innova 2.5 G (Diesel) 7 Seater BS IV        5.500000e+05  2008.000000   \n",
       "...                                                         ...          ...   \n",
       "Ford Ecosport Sports Petrol                        1.100000e+06  2020.000000   \n",
       "Renault KWID Climber 1.0 MT Opt BSIV               5.410000e+05  2020.000000   \n",
       "Honda Amaze S Petrol BSIV                          6.140000e+05  2020.000000   \n",
       "Tata Harrier XE                                    4.260000e+05  2020.000000   \n",
       "Ford Figo Titanium                                 6.905000e+05  2020.000000   \n",
       "\n",
       "                                               jarak tempuh mobil  \n",
       "Nama Mobil                                                         \n",
       "Maruti SX4 S Cross DDiS 320 Delta                        400000.0  \n",
       "Chevrolet Tavera Neo LS B3 - 7(C) seats BSIII            350000.0  \n",
       "Volkswagen Jetta 2.0 TDI Comfortline                     312000.0  \n",
       "Mahindra Xylo E9                                         295000.0  \n",
       "Toyota Innova 2.5 G (Diesel) 7 Seater BS IV              281500.0  \n",
       "...                                                           ...  \n",
       "Ford Ecosport Sports Petrol                                1000.0  \n",
       "Renault KWID Climber 1.0 MT Opt BSIV                       1000.0  \n",
       "Honda Amaze S Petrol BSIV                                  1000.0  \n",
       "Tata Harrier XE                                            1000.0  \n",
       "Ford Figo Titanium                                          606.0  \n",
       "\n",
       "[1491 rows x 3 columns]"
      ]
     },
     "execution_count": 26,
     "metadata": {},
     "output_type": "execute_result"
    }
   ],
   "source": [
    "pd.pivot_table(data=df,index=\"Nama Mobil\", values = [\"Tahun jual\",\"Harga Jual Mobil\",\"jarak tempuh mobil\"]).sort_values(by=\"jarak tempuh mobil\", ascending=False)"
   ]
  },
  {
   "cell_type": "markdown",
   "id": "bb3000e3",
   "metadata": {},
   "source": [
    "## Distribusi tahun berdasarkan distribusi jarak tempuh"
   ]
  },
  {
   "cell_type": "code",
   "execution_count": 27,
   "id": "576b7289",
   "metadata": {},
   "outputs": [
    {
     "data": {
      "text/plain": [
       "<AxesSubplot:title={'center':'Distribusi data'}, xlabel='Tahun jual', ylabel='jarak tempuh mobil'>"
      ]
     },
     "execution_count": 27,
     "metadata": {},
     "output_type": "execute_result"
    },
    {
     "data": {
      "image/png": "[encoded data removed]",
      "text/plain": [
       "<Figure size 720x720 with 1 Axes>"
      ]
     },
     "metadata": {
      "needs_background": "light"
     },
     "output_type": "display_data"
    }
   ],
   "source": [
    "plt.figure(figsize=(10,10))\n",
    "plt.title(\"Distribusi data\")\n",
    "sns.scatterplot(data=df,x=\"Tahun jual\",y=\"jarak tempuh mobil\")"
   ]
  },
  {
   "cell_type": "markdown",
   "id": "1645e97e",
   "metadata": {},
   "source": [
    "Kesimpulan dari grafik diatas adalah, kebanyakan orang menjual mobilnya ketika Km nya dibawa 100.000 . Hal ini menunjukkan bahwa harga mobil juga dipengruhi oleh jarak tempuh yang ada"
   ]
  },
  {
   "cell_type": "markdown",
   "id": "21e66113",
   "metadata": {},
   "source": [
    "## Distribusi data harga dengan tahun"
   ]
  },
  {
   "cell_type": "code",
   "execution_count": 28,
   "id": "91c5c335",
   "metadata": {},
   "outputs": [
    {
     "data": {
      "text/plain": [
       "<AxesSubplot:title={'center':'Persebaran data'}, xlabel='Harga Jual Mobil', ylabel='jarak tempuh mobil'>"
      ]
     },
     "execution_count": 28,
     "metadata": {},
     "output_type": "execute_result"
    },
    {
     "data": {
      "image/png": "[encoded data removed]",
      "text/plain": [
       "<Figure size 1080x720 with 1 Axes>"
      ]
     },
     "metadata": {
      "needs_background": "light"
     },
     "output_type": "display_data"
    }
   ],
   "source": [
    "plt.figure(figsize=(15,10))\n",
    "plt.title(\"Persebaran data\")\n",
    "sns.scatterplot(data=df,x=\"Harga Jual Mobil\",y = \"jarak tempuh mobil\")"
   ]
  },
  {
   "cell_type": "markdown",
   "id": "7ce2807f",
   "metadata": {},
   "source": [
    "Harga mobil pada pada dataset mobil bekas jual ini kebanyakan pada harga 0 - 1M kurang lebihnya dan jarak tempuh ada pada 200.000 km"
   ]
  },
  {
   "cell_type": "markdown",
   "id": "75ec23e4",
   "metadata": {},
   "source": [
    "## Korelasi matrix antar kolom"
   ]
  },
  {
   "cell_type": "code",
   "execution_count": 29,
   "id": "6032f613",
   "metadata": {},
   "outputs": [],
   "source": [
    "car=df[[\"Tahun jual\",\"jarak tempuh mobil\",\"Harga Jual Mobil\"]]"
   ]
  },
  {
   "cell_type": "code",
   "execution_count": 30,
   "id": "fc2c29f2",
   "metadata": {},
   "outputs": [
    {
     "data": {
      "text/plain": [
       "<AxesSubplot:title={'center':'Korelasi Matrix'}>"
      ]
     },
     "execution_count": 30,
     "metadata": {},
     "output_type": "execute_result"
    },
    {
     "data": {
      "image/png": "[encoded data removed]",
      "text/plain": [
       "<Figure size 1080x720 with 2 Axes>"
      ]
     },
     "metadata": {
      "needs_background": "light"
     },
     "output_type": "display_data"
    }
   ],
   "source": [
    "plt.figure(figsize=(15,10))\n",
    "plt.title(\"Korelasi Matrix\")\n",
    "sns.heatmap(car.corr(),annot=True)"
   ]
  },
  {
   "cell_type": "markdown",
   "id": "c31bffdf",
   "metadata": {},
   "source": [
    "Kesimpulan dari korelasi matrix in adalah\n",
    "ketika tahun jual kendaraan itu mengalami kenaikan, maka jarak tempuh mobil berkurang dan harga jual mobil naik\n",
    "ketika jarak tempuh mobil naik, maka tahun mobil menurun dan harga jual mobil juga menurun\n",
    "ketika harga jual mobil naik, maka tahun dan jarak tempuh menurun"
   ]
  },
  {
   "cell_type": "markdown",
   "id": "711dbb52",
   "metadata": {},
   "source": [
    "# Kesimpulan"
   ]
  },
  {
   "cell_type": "markdown",
   "id": "c33e5a41",
   "metadata": {},
   "source": [
    "Kesimpulan dari hasil analisis diatas adalah, banyak orang yang menjual mobil bekasnya pada tahun 2017. Lalu harga mobil dipengaruhi oleh merek mobil, jarak tempuh padada mobil tersebut dan tipe mobil. Harga sangat mahal pada mobil jenis sport yang ada di angka 8,9 sedangka mobil yang memiliki banyak minat adalah mobil berjenis Maruti dan Hyundai. KArena harganya mura dan terjangkau dan masih mempunyai nilai jual ulang yang sepadan"
   ]
  },
  {
   "cell_type": "code",
   "execution_count": null,
   "id": "d261c91a",
   "metadata": {},
   "outputs": [],
   "source": []
  }
 ],
 "metadata": {
  "kernelspec": {
   "display_name": "Python 3 (ipykernel)",
   "language": "python",
   "name": "python3"
  },
  "language_info": {
   "codemirror_mode": {
    "name": "ipython",
    "version": 3
   },
   "file_extension": ".py",
   "mimetype": "text/x-python",
   "name": "python",
   "nbconvert_exporter": "python",
   "pygments_lexer": "ipython3",
   "version": "3.9.12"
  },
  "toc": {
   "base_numbering": 1,
   "nav_menu": {},
   "number_sections": true,
   "sideBar": true,
   "skip_h1_title": false,
   "title_cell": "Table of Contents",
   "title_sidebar": "Contents",
   "toc_cell": false,
   "toc_position": {
    "height": "calc(100% - 180px)",
    "left": "10px",
    "top": "150px",
    "width": "415.99px"
   },
   "toc_section_display": true,
   "toc_window_display": false
  },
  "varInspector": {
   "cols": {
    "lenName": 16,
    "lenType": 16,
    "lenVar": 40
   },
   "kernels_config": {
    "python": {
     "delete_cmd_postfix": "",
     "delete_cmd_prefix": "del ",
     "library": "var_list.py",
     "varRefreshCmd": "print(var_dic_list())"
    },
    "r": {
     "delete_cmd_postfix": ") ",
     "delete_cmd_prefix": "rm(",
     "library": "var_list.r",
     "varRefreshCmd": "cat(var_dic_list()) "
    }
   },
   "types_to_exclude": [
    "module",
    "function",
    "builtin_function_or_method",
    "instance",
    "_Feature"
   ],
   "window_display": false
  }
 },
 "nbformat": 4,
 "nbformat_minor": 5
}
