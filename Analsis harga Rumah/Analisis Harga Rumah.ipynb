{
 "cells": [
  {
   "cell_type": "markdown",
   "id": "507fdaac",
   "metadata": {},
   "source": [
    "Analisi Harga RUmah pada jabodetabek"
   ]
  },
  {
   "cell_type": "markdown",
   "id": "b7f6df52",
   "metadata": {},
   "source": [
    "# Import Library"
   ]
  },
  {
   "cell_type": "code",
   "execution_count": 1,
   "id": "130197e4",
   "metadata": {},
   "outputs": [],
   "source": [
    "#untuk dataset\n",
    "import numpy as np\n",
    "import pandas as pd\n",
    "\n",
    "#untuk visualisasi\n",
    "import matplotlib.pyplot as plt\n",
    "import seaborn as sns"
   ]
  },
  {
   "cell_type": "markdown",
   "id": "f64463ea",
   "metadata": {},
   "source": [
    "# Load Dataset"
   ]
  },
  {
   "cell_type": "code",
   "execution_count": 17,
   "id": "66ce4c68",
   "metadata": {},
   "outputs": [],
   "source": [
    "#memuat dataset\n",
    "df = pd.read_csv(\"jabodetabek_house_price.csv\")"
   ]
  },
  {
   "cell_type": "code",
   "execution_count": 18,
   "id": "adf3a021",
   "metadata": {},
   "outputs": [
    {
     "data": {
      "text/html": [
       "<div>\n",
       "<style scoped>\n",
       "    .dataframe tbody tr th:only-of-type {\n",
       "        vertical-align: middle;\n",
       "    }\n",
       "\n",
       "    .dataframe tbody tr th {\n",
       "        vertical-align: top;\n",
       "    }\n",
       "\n",
       "    .dataframe thead th {\n",
       "        text-align: right;\n",
       "    }\n",
       "</style>\n",
       "<table border=\"1\" class=\"dataframe\">\n",
       "  <thead>\n",
       "    <tr style=\"text-align: right;\">\n",
       "      <th></th>\n",
       "      <th>url</th>\n",
       "      <th>price_in_rp</th>\n",
       "      <th>title</th>\n",
       "      <th>address</th>\n",
       "      <th>district</th>\n",
       "      <th>city</th>\n",
       "      <th>lat</th>\n",
       "      <th>long</th>\n",
       "      <th>facilities</th>\n",
       "      <th>property_type</th>\n",
       "      <th>ads_id</th>\n",
       "      <th>bedrooms</th>\n",
       "      <th>bathrooms</th>\n",
       "      <th>land_size_m2</th>\n",
       "      <th>building_size_m2</th>\n",
       "      <th>carports</th>\n",
       "      <th>certificate</th>\n",
       "      <th>electricity</th>\n",
       "      <th>maid_bedrooms</th>\n",
       "      <th>maid_bathrooms</th>\n",
       "      <th>floors</th>\n",
       "      <th>building_age</th>\n",
       "      <th>year_built</th>\n",
       "      <th>property_condition</th>\n",
       "      <th>building_orientation</th>\n",
       "      <th>garages</th>\n",
       "      <th>furnishing</th>\n",
       "    </tr>\n",
       "  </thead>\n",
       "  <tbody>\n",
       "    <tr>\n",
       "      <th>0</th>\n",
       "      <td>https://www.rumah123.com/properti/bekasi/hos11...</td>\n",
       "      <td>2.990000e+09</td>\n",
       "      <td>Rumah cantik Sumarecon Bekasi\\nLingkungan asri...</td>\n",
       "      <td>Summarecon Bekasi, Bekasi</td>\n",
       "      <td>Summarecon Bekasi</td>\n",
       "      <td>Bekasi</td>\n",
       "      <td>-6.223945</td>\n",
       "      <td>106.986275</td>\n",
       "      <td>Tempat Jemuran, Jalur Telepon, Taman,  Taman</td>\n",
       "      <td>rumah</td>\n",
       "      <td>hos11360272</td>\n",
       "      <td>4.0</td>\n",
       "      <td>4.0</td>\n",
       "      <td>239.0</td>\n",
       "      <td>272.0</td>\n",
       "      <td>0.0</td>\n",
       "      <td>shm - sertifikat hak milik</td>\n",
       "      <td>4400 mah</td>\n",
       "      <td>0.0</td>\n",
       "      <td>1.0</td>\n",
       "      <td>2.0</td>\n",
       "      <td>5.0</td>\n",
       "      <td>2017.0</td>\n",
       "      <td>bagus</td>\n",
       "      <td>NaN</td>\n",
       "      <td>0.0</td>\n",
       "      <td>unfurnished</td>\n",
       "    </tr>\n",
       "    <tr>\n",
       "      <th>1</th>\n",
       "      <td>https://www.rumah123.com/properti/bekasi/hos10...</td>\n",
       "      <td>1.270000e+09</td>\n",
       "      <td>Rumah Kekinian, Magenta Summarecon Bekasi</td>\n",
       "      <td>Summarecon Bekasi, Bekasi</td>\n",
       "      <td>Summarecon Bekasi</td>\n",
       "      <td>Bekasi</td>\n",
       "      <td>-6.223945</td>\n",
       "      <td>106.986275</td>\n",
       "      <td>Taman</td>\n",
       "      <td>rumah</td>\n",
       "      <td>hos10680347</td>\n",
       "      <td>3.0</td>\n",
       "      <td>2.0</td>\n",
       "      <td>55.0</td>\n",
       "      <td>69.0</td>\n",
       "      <td>1.0</td>\n",
       "      <td>hgb - hak guna bangunan</td>\n",
       "      <td>2200 mah</td>\n",
       "      <td>0.0</td>\n",
       "      <td>0.0</td>\n",
       "      <td>2.0</td>\n",
       "      <td>NaN</td>\n",
       "      <td>NaN</td>\n",
       "      <td>bagus</td>\n",
       "      <td>NaN</td>\n",
       "      <td>0.0</td>\n",
       "      <td>NaN</td>\n",
       "    </tr>\n",
       "    <tr>\n",
       "      <th>2</th>\n",
       "      <td>https://www.rumah123.com/properti/bekasi/hos10...</td>\n",
       "      <td>1.950000e+09</td>\n",
       "      <td>Rumah Cantik 2 Lantai Cluster Bluebell Summare...</td>\n",
       "      <td>Summarecon Bekasi, Bekasi</td>\n",
       "      <td>Summarecon Bekasi</td>\n",
       "      <td>Bekasi</td>\n",
       "      <td>-6.223945</td>\n",
       "      <td>106.986275</td>\n",
       "      <td>Jogging Track,  Kolam Renang, Masjid,  Taman,...</td>\n",
       "      <td>rumah</td>\n",
       "      <td>hos10685867</td>\n",
       "      <td>3.0</td>\n",
       "      <td>3.0</td>\n",
       "      <td>119.0</td>\n",
       "      <td>131.0</td>\n",
       "      <td>1.0</td>\n",
       "      <td>hgb - hak guna bangunan</td>\n",
       "      <td>2200 mah</td>\n",
       "      <td>1.0</td>\n",
       "      <td>1.0</td>\n",
       "      <td>2.0</td>\n",
       "      <td>NaN</td>\n",
       "      <td>NaN</td>\n",
       "      <td>bagus</td>\n",
       "      <td>NaN</td>\n",
       "      <td>1.0</td>\n",
       "      <td>unfurnished</td>\n",
       "    </tr>\n",
       "    <tr>\n",
       "      <th>3</th>\n",
       "      <td>https://www.rumah123.com/properti/bekasi/hos10...</td>\n",
       "      <td>3.300000e+09</td>\n",
       "      <td>Rumah Mewah 2Lantai L10x18 C di Cluster VERNON...</td>\n",
       "      <td>Summarecon Bekasi, Bekasi</td>\n",
       "      <td>Summarecon Bekasi</td>\n",
       "      <td>Bekasi</td>\n",
       "      <td>-6.223945</td>\n",
       "      <td>106.986275</td>\n",
       "      <td>Jalur Telepon,  Jogging Track, Track Lari,  K...</td>\n",
       "      <td>rumah</td>\n",
       "      <td>hos10927790</td>\n",
       "      <td>3.0</td>\n",
       "      <td>3.0</td>\n",
       "      <td>180.0</td>\n",
       "      <td>174.0</td>\n",
       "      <td>0.0</td>\n",
       "      <td>shm - sertifikat hak milik</td>\n",
       "      <td>3500 mah</td>\n",
       "      <td>1.0</td>\n",
       "      <td>1.0</td>\n",
       "      <td>2.0</td>\n",
       "      <td>6.0</td>\n",
       "      <td>2016.0</td>\n",
       "      <td>bagus sekali</td>\n",
       "      <td>utara</td>\n",
       "      <td>2.0</td>\n",
       "      <td>unfurnished</td>\n",
       "    </tr>\n",
       "    <tr>\n",
       "      <th>4</th>\n",
       "      <td>https://www.rumah123.com/properti/bekasi/hos10...</td>\n",
       "      <td>4.500000e+09</td>\n",
       "      <td>Rumah Hoek di Cluster Maple Summarecon Bekasi,...</td>\n",
       "      <td>Summarecon Bekasi, Bekasi</td>\n",
       "      <td>Summarecon Bekasi</td>\n",
       "      <td>Bekasi</td>\n",
       "      <td>-6.223945</td>\n",
       "      <td>106.986275</td>\n",
       "      <td>Jogging Track,  Kolam Renang, Taman, Jalur Te...</td>\n",
       "      <td>rumah</td>\n",
       "      <td>hos10785530</td>\n",
       "      <td>4.0</td>\n",
       "      <td>3.0</td>\n",
       "      <td>328.0</td>\n",
       "      <td>196.0</td>\n",
       "      <td>2.0</td>\n",
       "      <td>shm - sertifikat hak milik</td>\n",
       "      <td>3500 mah</td>\n",
       "      <td>1.0</td>\n",
       "      <td>1.0</td>\n",
       "      <td>2.0</td>\n",
       "      <td>9.0</td>\n",
       "      <td>2013.0</td>\n",
       "      <td>bagus</td>\n",
       "      <td>utara</td>\n",
       "      <td>1.0</td>\n",
       "      <td>unfurnished</td>\n",
       "    </tr>\n",
       "    <tr>\n",
       "      <th>...</th>\n",
       "      <td>...</td>\n",
       "      <td>...</td>\n",
       "      <td>...</td>\n",
       "      <td>...</td>\n",
       "      <td>...</td>\n",
       "      <td>...</td>\n",
       "      <td>...</td>\n",
       "      <td>...</td>\n",
       "      <td>...</td>\n",
       "      <td>...</td>\n",
       "      <td>...</td>\n",
       "      <td>...</td>\n",
       "      <td>...</td>\n",
       "      <td>...</td>\n",
       "      <td>...</td>\n",
       "      <td>...</td>\n",
       "      <td>...</td>\n",
       "      <td>...</td>\n",
       "      <td>...</td>\n",
       "      <td>...</td>\n",
       "      <td>...</td>\n",
       "      <td>...</td>\n",
       "      <td>...</td>\n",
       "      <td>...</td>\n",
       "      <td>...</td>\n",
       "      <td>...</td>\n",
       "      <td>...</td>\n",
       "    </tr>\n",
       "    <tr>\n",
       "      <th>3548</th>\n",
       "      <td>https://www.rumah123.com/properti/tangerang/ho...</td>\n",
       "      <td>5.880000e+08</td>\n",
       "      <td>Terbaru Cluster Minimalis Sudimara Dekat Stasiun</td>\n",
       "      <td>Jombang, Tangerang</td>\n",
       "      <td>Jombang</td>\n",
       "      <td>Tangerang</td>\n",
       "      <td>-6.296615</td>\n",
       "      <td>106.704601</td>\n",
       "      <td>Masjid,  Taman, Tempat Jemuran, Keamanan 24 ja...</td>\n",
       "      <td>rumah</td>\n",
       "      <td>hos11361759</td>\n",
       "      <td>2.0</td>\n",
       "      <td>1.0</td>\n",
       "      <td>72.0</td>\n",
       "      <td>36.0</td>\n",
       "      <td>1.0</td>\n",
       "      <td>shm - sertifikat hak milik</td>\n",
       "      <td>1300 mah</td>\n",
       "      <td>0.0</td>\n",
       "      <td>0.0</td>\n",
       "      <td>1.0</td>\n",
       "      <td>0.0</td>\n",
       "      <td>2022.0</td>\n",
       "      <td>baru</td>\n",
       "      <td>NaN</td>\n",
       "      <td>1.0</td>\n",
       "      <td>furnished</td>\n",
       "    </tr>\n",
       "    <tr>\n",
       "      <th>3549</th>\n",
       "      <td>https://www.rumah123.com/properti/tangerang/ho...</td>\n",
       "      <td>7.850000e+08</td>\n",
       "      <td>Rumah Modern Asri dan Nyaman Bebas Banjir Loka...</td>\n",
       "      <td>Lengkong Kulon, Tangerang</td>\n",
       "      <td>Lengkong Kulon</td>\n",
       "      <td>Tangerang</td>\n",
       "      <td>-6.283454</td>\n",
       "      <td>106.638775</td>\n",
       "      <td>Masjid,  Keamanan,  Jogging Track,  Taman, Tem...</td>\n",
       "      <td>rumah</td>\n",
       "      <td>hos11359615</td>\n",
       "      <td>3.0</td>\n",
       "      <td>2.0</td>\n",
       "      <td>85.0</td>\n",
       "      <td>60.0</td>\n",
       "      <td>1.0</td>\n",
       "      <td>shm - sertifikat hak milik</td>\n",
       "      <td>1300 mah</td>\n",
       "      <td>0.0</td>\n",
       "      <td>0.0</td>\n",
       "      <td>2.0</td>\n",
       "      <td>0.0</td>\n",
       "      <td>2022.0</td>\n",
       "      <td>baru</td>\n",
       "      <td>utara</td>\n",
       "      <td>0.0</td>\n",
       "      <td>unfurnished</td>\n",
       "    </tr>\n",
       "    <tr>\n",
       "      <th>3550</th>\n",
       "      <td>https://www.rumah123.com/properti/tangerang/ho...</td>\n",
       "      <td>7.550000e+08</td>\n",
       "      <td>Rumah Mewah Murah 2 Lantai Gratis Biaya Biaya ...</td>\n",
       "      <td>Lengkong Kulon, Tangerang</td>\n",
       "      <td>Lengkong Kulon</td>\n",
       "      <td>Tangerang</td>\n",
       "      <td>-6.283454</td>\n",
       "      <td>106.638775</td>\n",
       "      <td>Keamanan,  Taman, Jogging Track, Tempat Jemur...</td>\n",
       "      <td>rumah</td>\n",
       "      <td>hos11359594</td>\n",
       "      <td>3.0</td>\n",
       "      <td>2.0</td>\n",
       "      <td>78.0</td>\n",
       "      <td>60.0</td>\n",
       "      <td>1.0</td>\n",
       "      <td>shm - sertifikat hak milik</td>\n",
       "      <td>1300 mah</td>\n",
       "      <td>0.0</td>\n",
       "      <td>0.0</td>\n",
       "      <td>2.0</td>\n",
       "      <td>0.0</td>\n",
       "      <td>2022.0</td>\n",
       "      <td>baru</td>\n",
       "      <td>utara</td>\n",
       "      <td>0.0</td>\n",
       "      <td>unfurnished</td>\n",
       "    </tr>\n",
       "    <tr>\n",
       "      <th>3551</th>\n",
       "      <td>https://www.rumah123.com/properti/tangerang/ho...</td>\n",
       "      <td>8.000000e+08</td>\n",
       "      <td>Rumah 2 Lantai Dekat Perkantoran BSD City AEON...</td>\n",
       "      <td>BSD Provance Parkland, Tangerang</td>\n",
       "      <td>BSD Provance Parkland</td>\n",
       "      <td>Tangerang</td>\n",
       "      <td>-6.288237</td>\n",
       "      <td>106.665859</td>\n",
       "      <td>Tempat Jemuran, Keamanan, Keamanan 24 jam, Was...</td>\n",
       "      <td>rumah</td>\n",
       "      <td>hos11359313</td>\n",
       "      <td>3.0</td>\n",
       "      <td>2.0</td>\n",
       "      <td>60.0</td>\n",
       "      <td>65.0</td>\n",
       "      <td>2.0</td>\n",
       "      <td>shm - sertifikat hak milik</td>\n",
       "      <td>2200 mah</td>\n",
       "      <td>0.0</td>\n",
       "      <td>0.0</td>\n",
       "      <td>2.0</td>\n",
       "      <td>0.0</td>\n",
       "      <td>2022.0</td>\n",
       "      <td>baru</td>\n",
       "      <td>selatan</td>\n",
       "      <td>0.0</td>\n",
       "      <td>furnished</td>\n",
       "    </tr>\n",
       "    <tr>\n",
       "      <th>3552</th>\n",
       "      <td>https://www.rumah123.com/properti/tangerang/ho...</td>\n",
       "      <td>6.550000e+08</td>\n",
       "      <td>Rumah 2 Lantai Harga 1 Lantai Di Pamulang, Fre...</td>\n",
       "      <td>Sudimara, Tangerang</td>\n",
       "      <td>Sudimara</td>\n",
       "      <td>Tangerang</td>\n",
       "      <td>-6.296963</td>\n",
       "      <td>106.710635</td>\n",
       "      <td>Kulkas, Masjid,  Taman, Lapangan Bola, Tempat ...</td>\n",
       "      <td>rumah</td>\n",
       "      <td>hos11358964</td>\n",
       "      <td>3.0</td>\n",
       "      <td>2.0</td>\n",
       "      <td>64.0</td>\n",
       "      <td>60.0</td>\n",
       "      <td>1.0</td>\n",
       "      <td>shm - sertifikat hak milik</td>\n",
       "      <td>1300 mah</td>\n",
       "      <td>0.0</td>\n",
       "      <td>0.0</td>\n",
       "      <td>2.0</td>\n",
       "      <td>0.0</td>\n",
       "      <td>2022.0</td>\n",
       "      <td>baru</td>\n",
       "      <td>timur</td>\n",
       "      <td>2.0</td>\n",
       "      <td>semi furnished</td>\n",
       "    </tr>\n",
       "  </tbody>\n",
       "</table>\n",
       "<p>3553 rows × 27 columns</p>\n",
       "</div>"
      ],
      "text/plain": [
       "                                                    url   price_in_rp  \\\n",
       "0     https://www.rumah123.com/properti/bekasi/hos11...  2.990000e+09   \n",
       "1     https://www.rumah123.com/properti/bekasi/hos10...  1.270000e+09   \n",
       "2     https://www.rumah123.com/properti/bekasi/hos10...  1.950000e+09   \n",
       "3     https://www.rumah123.com/properti/bekasi/hos10...  3.300000e+09   \n",
       "4     https://www.rumah123.com/properti/bekasi/hos10...  4.500000e+09   \n",
       "...                                                 ...           ...   \n",
       "3548  https://www.rumah123.com/properti/tangerang/ho...  5.880000e+08   \n",
       "3549  https://www.rumah123.com/properti/tangerang/ho...  7.850000e+08   \n",
       "3550  https://www.rumah123.com/properti/tangerang/ho...  7.550000e+08   \n",
       "3551  https://www.rumah123.com/properti/tangerang/ho...  8.000000e+08   \n",
       "3552  https://www.rumah123.com/properti/tangerang/ho...  6.550000e+08   \n",
       "\n",
       "                                                  title  \\\n",
       "0     Rumah cantik Sumarecon Bekasi\\nLingkungan asri...   \n",
       "1             Rumah Kekinian, Magenta Summarecon Bekasi   \n",
       "2     Rumah Cantik 2 Lantai Cluster Bluebell Summare...   \n",
       "3     Rumah Mewah 2Lantai L10x18 C di Cluster VERNON...   \n",
       "4     Rumah Hoek di Cluster Maple Summarecon Bekasi,...   \n",
       "...                                                 ...   \n",
       "3548   Terbaru Cluster Minimalis Sudimara Dekat Stasiun   \n",
       "3549  Rumah Modern Asri dan Nyaman Bebas Banjir Loka...   \n",
       "3550  Rumah Mewah Murah 2 Lantai Gratis Biaya Biaya ...   \n",
       "3551  Rumah 2 Lantai Dekat Perkantoran BSD City AEON...   \n",
       "3552  Rumah 2 Lantai Harga 1 Lantai Di Pamulang, Fre...   \n",
       "\n",
       "                               address               district        city  \\\n",
       "0            Summarecon Bekasi, Bekasi      Summarecon Bekasi      Bekasi   \n",
       "1            Summarecon Bekasi, Bekasi      Summarecon Bekasi      Bekasi   \n",
       "2            Summarecon Bekasi, Bekasi      Summarecon Bekasi      Bekasi   \n",
       "3            Summarecon Bekasi, Bekasi      Summarecon Bekasi      Bekasi   \n",
       "4            Summarecon Bekasi, Bekasi      Summarecon Bekasi      Bekasi   \n",
       "...                                ...                    ...         ...   \n",
       "3548                Jombang, Tangerang                Jombang   Tangerang   \n",
       "3549         Lengkong Kulon, Tangerang         Lengkong Kulon   Tangerang   \n",
       "3550         Lengkong Kulon, Tangerang         Lengkong Kulon   Tangerang   \n",
       "3551  BSD Provance Parkland, Tangerang  BSD Provance Parkland   Tangerang   \n",
       "3552               Sudimara, Tangerang               Sudimara   Tangerang   \n",
       "\n",
       "           lat        long                                         facilities  \\\n",
       "0    -6.223945  106.986275       Tempat Jemuran, Jalur Telepon, Taman,  Taman   \n",
       "1    -6.223945  106.986275                                              Taman   \n",
       "2    -6.223945  106.986275   Jogging Track,  Kolam Renang, Masjid,  Taman,...   \n",
       "3    -6.223945  106.986275   Jalur Telepon,  Jogging Track, Track Lari,  K...   \n",
       "4    -6.223945  106.986275   Jogging Track,  Kolam Renang, Taman, Jalur Te...   \n",
       "...        ...         ...                                                ...   \n",
       "3548 -6.296615  106.704601  Masjid,  Taman, Tempat Jemuran, Keamanan 24 ja...   \n",
       "3549 -6.283454  106.638775  Masjid,  Keamanan,  Jogging Track,  Taman, Tem...   \n",
       "3550 -6.283454  106.638775   Keamanan,  Taman, Jogging Track, Tempat Jemur...   \n",
       "3551 -6.288237  106.665859  Tempat Jemuran, Keamanan, Keamanan 24 jam, Was...   \n",
       "3552 -6.296963  106.710635  Kulkas, Masjid,  Taman, Lapangan Bola, Tempat ...   \n",
       "\n",
       "     property_type       ads_id  bedrooms  bathrooms  land_size_m2  \\\n",
       "0            rumah  hos11360272       4.0        4.0         239.0   \n",
       "1            rumah  hos10680347       3.0        2.0          55.0   \n",
       "2            rumah  hos10685867       3.0        3.0         119.0   \n",
       "3            rumah  hos10927790       3.0        3.0         180.0   \n",
       "4            rumah  hos10785530       4.0        3.0         328.0   \n",
       "...            ...          ...       ...        ...           ...   \n",
       "3548         rumah  hos11361759       2.0        1.0          72.0   \n",
       "3549         rumah  hos11359615       3.0        2.0          85.0   \n",
       "3550         rumah  hos11359594       3.0        2.0          78.0   \n",
       "3551         rumah  hos11359313       3.0        2.0          60.0   \n",
       "3552         rumah  hos11358964       3.0        2.0          64.0   \n",
       "\n",
       "      building_size_m2  carports                 certificate electricity  \\\n",
       "0                272.0       0.0  shm - sertifikat hak milik    4400 mah   \n",
       "1                 69.0       1.0     hgb - hak guna bangunan    2200 mah   \n",
       "2                131.0       1.0     hgb - hak guna bangunan    2200 mah   \n",
       "3                174.0       0.0  shm - sertifikat hak milik    3500 mah   \n",
       "4                196.0       2.0  shm - sertifikat hak milik    3500 mah   \n",
       "...                ...       ...                         ...         ...   \n",
       "3548              36.0       1.0  shm - sertifikat hak milik    1300 mah   \n",
       "3549              60.0       1.0  shm - sertifikat hak milik    1300 mah   \n",
       "3550              60.0       1.0  shm - sertifikat hak milik    1300 mah   \n",
       "3551              65.0       2.0  shm - sertifikat hak milik    2200 mah   \n",
       "3552              60.0       1.0  shm - sertifikat hak milik    1300 mah   \n",
       "\n",
       "      maid_bedrooms  maid_bathrooms  floors  building_age  year_built  \\\n",
       "0               0.0             1.0     2.0           5.0      2017.0   \n",
       "1               0.0             0.0     2.0           NaN         NaN   \n",
       "2               1.0             1.0     2.0           NaN         NaN   \n",
       "3               1.0             1.0     2.0           6.0      2016.0   \n",
       "4               1.0             1.0     2.0           9.0      2013.0   \n",
       "...             ...             ...     ...           ...         ...   \n",
       "3548            0.0             0.0     1.0           0.0      2022.0   \n",
       "3549            0.0             0.0     2.0           0.0      2022.0   \n",
       "3550            0.0             0.0     2.0           0.0      2022.0   \n",
       "3551            0.0             0.0     2.0           0.0      2022.0   \n",
       "3552            0.0             0.0     2.0           0.0      2022.0   \n",
       "\n",
       "     property_condition building_orientation  garages      furnishing  \n",
       "0                 bagus                  NaN      0.0     unfurnished  \n",
       "1                 bagus                  NaN      0.0             NaN  \n",
       "2                 bagus                  NaN      1.0     unfurnished  \n",
       "3          bagus sekali                utara      2.0     unfurnished  \n",
       "4                 bagus                utara      1.0     unfurnished  \n",
       "...                 ...                  ...      ...             ...  \n",
       "3548               baru                  NaN      1.0       furnished  \n",
       "3549               baru                utara      0.0     unfurnished  \n",
       "3550               baru                utara      0.0     unfurnished  \n",
       "3551               baru              selatan      0.0       furnished  \n",
       "3552               baru                timur      2.0  semi furnished  \n",
       "\n",
       "[3553 rows x 27 columns]"
      ]
     },
     "execution_count": 18,
     "metadata": {},
     "output_type": "execute_result"
    }
   ],
   "source": [
    "# membuat tampilan kolom leluasa\n",
    "pd.set_option(\"Display.max_columns\",None)\n",
    "df"
   ]
  },
  {
   "cell_type": "markdown",
   "id": "c10ab6ce",
   "metadata": {},
   "source": [
    "# MEngecek Dataset"
   ]
  },
  {
   "cell_type": "code",
   "execution_count": 19,
   "id": "d5220def",
   "metadata": {},
   "outputs": [
    {
     "data": {
      "text/plain": [
       "(3553, 27)"
      ]
     },
     "execution_count": 19,
     "metadata": {},
     "output_type": "execute_result"
    }
   ],
   "source": [
    "df.shape"
   ]
  },
  {
   "cell_type": "code",
   "execution_count": 20,
   "id": "b9a926a1",
   "metadata": {},
   "outputs": [
    {
     "name": "stdout",
     "output_type": "stream",
     "text": [
      "<class 'pandas.core.frame.DataFrame'>\n",
      "RangeIndex: 3553 entries, 0 to 3552\n",
      "Data columns (total 27 columns):\n",
      " #   Column                Non-Null Count  Dtype  \n",
      "---  ------                --------------  -----  \n",
      " 0   url                   3553 non-null   object \n",
      " 1   price_in_rp           3553 non-null   float64\n",
      " 2   title                 3553 non-null   object \n",
      " 3   address               3553 non-null   object \n",
      " 4   district              3553 non-null   object \n",
      " 5   city                  3553 non-null   object \n",
      " 6   lat                   3553 non-null   float64\n",
      " 7   long                  3553 non-null   float64\n",
      " 8   facilities            3553 non-null   object \n",
      " 9   property_type         3552 non-null   object \n",
      " 10  ads_id                3549 non-null   object \n",
      " 11  bedrooms              3519 non-null   float64\n",
      " 12  bathrooms             3524 non-null   float64\n",
      " 13  land_size_m2          3551 non-null   float64\n",
      " 14  building_size_m2      3551 non-null   float64\n",
      " 15  carports              3553 non-null   float64\n",
      " 16  certificate           3412 non-null   object \n",
      " 17  electricity           3553 non-null   object \n",
      " 18  maid_bedrooms         3553 non-null   float64\n",
      " 19  maid_bathrooms        3553 non-null   float64\n",
      " 20  floors                3547 non-null   float64\n",
      " 21  building_age          2108 non-null   float64\n",
      " 22  year_built            2108 non-null   float64\n",
      " 23  property_condition    3307 non-null   object \n",
      " 24  building_orientation  1906 non-null   object \n",
      " 25  garages               3553 non-null   float64\n",
      " 26  furnishing            3166 non-null   object \n",
      "dtypes: float64(14), object(13)\n",
      "memory usage: 749.6+ KB\n"
     ]
    }
   ],
   "source": [
    "df.info()"
   ]
  },
  {
   "cell_type": "code",
   "execution_count": 21,
   "id": "7dcbf01b",
   "metadata": {},
   "outputs": [
    {
     "data": {
      "text/plain": [
       "url                        0\n",
       "price_in_rp                0\n",
       "title                      0\n",
       "address                    0\n",
       "district                   0\n",
       "city                       0\n",
       "lat                        0\n",
       "long                       0\n",
       "facilities                 0\n",
       "property_type              1\n",
       "ads_id                     4\n",
       "bedrooms                  34\n",
       "bathrooms                 29\n",
       "land_size_m2               2\n",
       "building_size_m2           2\n",
       "carports                   0\n",
       "certificate              141\n",
       "electricity                0\n",
       "maid_bedrooms              0\n",
       "maid_bathrooms             0\n",
       "floors                     6\n",
       "building_age            1445\n",
       "year_built              1445\n",
       "property_condition       246\n",
       "building_orientation    1647\n",
       "garages                    0\n",
       "furnishing               387\n",
       "dtype: int64"
      ]
     },
     "execution_count": 21,
     "metadata": {},
     "output_type": "execute_result"
    }
   ],
   "source": [
    "df.isna().sum()"
   ]
  },
  {
   "cell_type": "markdown",
   "id": "ac73a9bb",
   "metadata": {},
   "source": [
    "## Mengatasi Missing Value"
   ]
  },
  {
   "cell_type": "markdown",
   "id": "5c2fe772",
   "metadata": {},
   "source": [
    "Kita akan mengisi data yang missing value untuk yang diatas 1000, dan menghapus data yang dibawah 1000. karena diatas 40% sendiri hilangnya data ketika diatas 1000"
   ]
  },
  {
   "cell_type": "code",
   "execution_count": 22,
   "id": "f4450d75",
   "metadata": {},
   "outputs": [],
   "source": [
    "#mencari modus untuk building age dan yearbuilt\n",
    "a = df[\"year_built\"].mode()\n",
    "b = df[\"building_age\"].mode()\n",
    "c = df[\"building_orientation\"].mode()"
   ]
  },
  {
   "cell_type": "code",
   "execution_count": 23,
   "id": "7bc3f178",
   "metadata": {},
   "outputs": [
    {
     "data": {
      "text/plain": [
       "0    2022.0\n",
       "Name: year_built, dtype: float64"
      ]
     },
     "execution_count": 23,
     "metadata": {},
     "output_type": "execute_result"
    }
   ],
   "source": [
    "a"
   ]
  },
  {
   "cell_type": "code",
   "execution_count": 24,
   "id": "87548c70",
   "metadata": {},
   "outputs": [
    {
     "data": {
      "text/plain": [
       "0    0.0\n",
       "Name: building_age, dtype: float64"
      ]
     },
     "execution_count": 24,
     "metadata": {},
     "output_type": "execute_result"
    }
   ],
   "source": [
    "b"
   ]
  },
  {
   "cell_type": "code",
   "execution_count": 25,
   "id": "351e3650",
   "metadata": {},
   "outputs": [
    {
     "data": {
      "text/plain": [
       "0    selatan\n",
       "Name: building_orientation, dtype: object"
      ]
     },
     "execution_count": 25,
     "metadata": {},
     "output_type": "execute_result"
    }
   ],
   "source": [
    "c"
   ]
  },
  {
   "cell_type": "markdown",
   "id": "dcabae46",
   "metadata": {},
   "source": [
    "Mengisi Missing value"
   ]
  },
  {
   "cell_type": "code",
   "execution_count": 26,
   "id": "b537e834",
   "metadata": {},
   "outputs": [],
   "source": [
    "df[\"year_built\"].fillna(df[\"year_built\"].mode()[0],inplace=True)\n",
    "df[\"building_age\"].fillna(df[\"building_age\"].mode()[0], inplace=True)\n",
    "df[\"building_orientation\"].fillna(df[\"building_orientation\"].mode()[0], inplace=True)"
   ]
  },
  {
   "cell_type": "code",
   "execution_count": 27,
   "id": "8bd2cf62",
   "metadata": {},
   "outputs": [
    {
     "data": {
      "text/plain": [
       "url                       0\n",
       "price_in_rp               0\n",
       "title                     0\n",
       "address                   0\n",
       "district                  0\n",
       "city                      0\n",
       "lat                       0\n",
       "long                      0\n",
       "facilities                0\n",
       "property_type             1\n",
       "ads_id                    4\n",
       "bedrooms                 34\n",
       "bathrooms                29\n",
       "land_size_m2              2\n",
       "building_size_m2          2\n",
       "carports                  0\n",
       "certificate             141\n",
       "electricity               0\n",
       "maid_bedrooms             0\n",
       "maid_bathrooms            0\n",
       "floors                    6\n",
       "building_age              0\n",
       "year_built                0\n",
       "property_condition      246\n",
       "building_orientation      0\n",
       "garages                   0\n",
       "furnishing              387\n",
       "dtype: int64"
      ]
     },
     "execution_count": 27,
     "metadata": {},
     "output_type": "execute_result"
    }
   ],
   "source": [
    "df.isna().sum()"
   ]
  },
  {
   "cell_type": "markdown",
   "id": "7336228f",
   "metadata": {},
   "source": [
    "Menghapus missing value yang nilai data nya dibawah 1000"
   ]
  },
  {
   "cell_type": "code",
   "execution_count": 28,
   "id": "1a63e3c4",
   "metadata": {},
   "outputs": [],
   "source": [
    "df.dropna(axis=0,inplace=True)"
   ]
  },
  {
   "cell_type": "code",
   "execution_count": 29,
   "id": "70a1c2f0",
   "metadata": {},
   "outputs": [
    {
     "data": {
      "text/plain": [
       "url                     0\n",
       "price_in_rp             0\n",
       "title                   0\n",
       "address                 0\n",
       "district                0\n",
       "city                    0\n",
       "lat                     0\n",
       "long                    0\n",
       "facilities              0\n",
       "property_type           0\n",
       "ads_id                  0\n",
       "bedrooms                0\n",
       "bathrooms               0\n",
       "land_size_m2            0\n",
       "building_size_m2        0\n",
       "carports                0\n",
       "certificate             0\n",
       "electricity             0\n",
       "maid_bedrooms           0\n",
       "maid_bathrooms          0\n",
       "floors                  0\n",
       "building_age            0\n",
       "year_built              0\n",
       "property_condition      0\n",
       "building_orientation    0\n",
       "garages                 0\n",
       "furnishing              0\n",
       "dtype: int64"
      ]
     },
     "execution_count": 29,
     "metadata": {},
     "output_type": "execute_result"
    }
   ],
   "source": [
    "df.isna().sum()"
   ]
  },
  {
   "cell_type": "markdown",
   "id": "ceb8a36b",
   "metadata": {},
   "source": [
    "## Mengecek nilai Outlier"
   ]
  },
  {
   "cell_type": "code",
   "execution_count": 30,
   "id": "e7c44bb3",
   "metadata": {},
   "outputs": [
    {
     "name": "stdout",
     "output_type": "stream",
     "text": [
      "<class 'pandas.core.frame.DataFrame'>\n",
      "Int64Index: 2848 entries, 0 to 3552\n",
      "Data columns (total 27 columns):\n",
      " #   Column                Non-Null Count  Dtype  \n",
      "---  ------                --------------  -----  \n",
      " 0   url                   2848 non-null   object \n",
      " 1   price_in_rp           2848 non-null   float64\n",
      " 2   title                 2848 non-null   object \n",
      " 3   address               2848 non-null   object \n",
      " 4   district              2848 non-null   object \n",
      " 5   city                  2848 non-null   object \n",
      " 6   lat                   2848 non-null   float64\n",
      " 7   long                  2848 non-null   float64\n",
      " 8   facilities            2848 non-null   object \n",
      " 9   property_type         2848 non-null   object \n",
      " 10  ads_id                2848 non-null   object \n",
      " 11  bedrooms              2848 non-null   float64\n",
      " 12  bathrooms             2848 non-null   float64\n",
      " 13  land_size_m2          2848 non-null   float64\n",
      " 14  building_size_m2      2848 non-null   float64\n",
      " 15  carports              2848 non-null   float64\n",
      " 16  certificate           2848 non-null   object \n",
      " 17  electricity           2848 non-null   object \n",
      " 18  maid_bedrooms         2848 non-null   float64\n",
      " 19  maid_bathrooms        2848 non-null   float64\n",
      " 20  floors                2848 non-null   float64\n",
      " 21  building_age          2848 non-null   float64\n",
      " 22  year_built            2848 non-null   float64\n",
      " 23  property_condition    2848 non-null   object \n",
      " 24  building_orientation  2848 non-null   object \n",
      " 25  garages               2848 non-null   float64\n",
      " 26  furnishing            2848 non-null   object \n",
      "dtypes: float64(14), object(13)\n",
      "memory usage: 623.0+ KB\n"
     ]
    }
   ],
   "source": [
    "df.info()"
   ]
  },
  {
   "cell_type": "code",
   "execution_count": 32,
   "id": "33d55006",
   "metadata": {},
   "outputs": [
    {
     "data": {
      "text/plain": [
       "<AxesSubplot:>"
      ]
     },
     "execution_count": 32,
     "metadata": {},
     "output_type": "execute_result"
    },
    {
     "data": {
      "image/png": "[encoded data removed]",
      "text/plain": [
       "<Figure size 1440x720 with 1 Axes>"
      ]
     },
     "metadata": {
      "needs_background": "light"
     },
     "output_type": "display_data"
    }
   ],
   "source": [
    "plt.figure(figsize=(20,10))\n",
    "sns.boxplot(data=df)"
   ]
  },
  {
   "cell_type": "markdown",
   "id": "85d98d9e",
   "metadata": {},
   "source": [
    "BIsa kita lihat nilai outlier atau pencilan yang sangat signifikan terdapat pada price_in_rp. Dalam hal ini, nilai pencilan yang ada pada data sangat lah ekstrim, hal ini dapat menggangu ketika kita melakukan analisis data. Sekarang mari kita lakukan deteksi outlier "
   ]
  },
  {
   "cell_type": "markdown",
   "id": "9ce31150",
   "metadata": {},
   "source": [
    "## Deteksi Outlier"
   ]
  },
  {
   "cell_type": "code",
   "execution_count": null,
   "id": "bae64897",
   "metadata": {},
   "outputs": [],
   "source": []
  }
 ],
 "metadata": {
  "kernelspec": {
   "display_name": "Python 3 (ipykernel)",
   "language": "python",
   "name": "python3"
  },
  "language_info": {
   "codemirror_mode": {
    "name": "ipython",
    "version": 3
   },
   "file_extension": ".py",
   "mimetype": "text/x-python",
   "name": "python",
   "nbconvert_exporter": "python",
   "pygments_lexer": "ipython3",
   "version": "3.9.12"
  },
  "toc": {
   "base_numbering": 1,
   "nav_menu": {},
   "number_sections": true,
   "sideBar": true,
   "skip_h1_title": false,
   "title_cell": "Table of Contents",
   "title_sidebar": "Contents",
   "toc_cell": false,
   "toc_position": {},
   "toc_section_display": true,
   "toc_window_display": false
  },
  "varInspector": {
   "cols": {
    "lenName": 16,
    "lenType": 16,
    "lenVar": 40
   },
   "kernels_config": {
    "python": {
     "delete_cmd_postfix": "",
     "delete_cmd_prefix": "del ",
     "library": "var_list.py",
     "varRefreshCmd": "print(var_dic_list())"
    },
    "r": {
     "delete_cmd_postfix": ") ",
     "delete_cmd_prefix": "rm(",
     "library": "var_list.r",
     "varRefreshCmd": "cat(var_dic_list()) "
    }
   },
   "types_to_exclude": [
    "module",
    "function",
    "builtin_function_or_method",
    "instance",
    "_Feature"
   ],
   "window_display": false
  }
 },
 "nbformat": 4,
 "nbformat_minor": 5
}
