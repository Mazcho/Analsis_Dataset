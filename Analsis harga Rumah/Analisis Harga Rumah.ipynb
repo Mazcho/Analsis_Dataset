{
 "cells": [
  {
   "cell_type": "markdown",
   "id": "e1819030",
   "metadata": {},
   "source": [
    "Analisi Harga RUmah pada jabodetabek"
   ]
  },
  {
   "cell_type": "markdown",
   "id": "4699cc83",
   "metadata": {},
   "source": [
    "# Import Library"
   ]
  },
  {
   "cell_type": "code",
   "execution_count": 1,
   "id": "5aebc49b",
   "metadata": {},
   "outputs": [],
   "source": [
    "#untuk dataset\n",
    "import numpy as np\n",
    "import pandas as pd\n",
    "\n",
    "#untuk visualisasi\n",
    "import matplotlib.pyplot as plt\n",
    "import seaborn as sns\n",
    "\n",
    "#ignore warning\n",
    "import warnings\n",
    "warnings.filterwarnings(\"ignore\")"
   ]
  },
  {
   "cell_type": "markdown",
   "id": "109114a7",
   "metadata": {},
   "source": [
    "# Load Dataset"
   ]
  },
  {
   "cell_type": "code",
   "execution_count": 2,
   "id": "671491ea",
   "metadata": {},
   "outputs": [],
   "source": [
    "#memuat dataset\n",
    "df = pd.read_csv(\"jabodetabek_house_price.csv\")"
   ]
  },
  {
   "cell_type": "code",
   "execution_count": 3,
   "id": "c0c5426e",
   "metadata": {},
   "outputs": [
    {
     "data": {
      "text/html": [
       "<div>\n",
       "<style scoped>\n",
       "    .dataframe tbody tr th:only-of-type {\n",
       "        vertical-align: middle;\n",
       "    }\n",
       "\n",
       "    .dataframe tbody tr th {\n",
       "        vertical-align: top;\n",
       "    }\n",
       "\n",
       "    .dataframe thead th {\n",
       "        text-align: right;\n",
       "    }\n",
       "</style>\n",
       "<table border=\"1\" class=\"dataframe\">\n",
       "  <thead>\n",
       "    <tr style=\"text-align: right;\">\n",
       "      <th></th>\n",
       "      <th>url</th>\n",
       "      <th>price_in_rp</th>\n",
       "      <th>title</th>\n",
       "      <th>address</th>\n",
       "      <th>district</th>\n",
       "      <th>city</th>\n",
       "      <th>lat</th>\n",
       "      <th>long</th>\n",
       "      <th>facilities</th>\n",
       "      <th>property_type</th>\n",
       "      <th>ads_id</th>\n",
       "      <th>bedrooms</th>\n",
       "      <th>bathrooms</th>\n",
       "      <th>land_size_m2</th>\n",
       "      <th>building_size_m2</th>\n",
       "      <th>carports</th>\n",
       "      <th>certificate</th>\n",
       "      <th>electricity</th>\n",
       "      <th>maid_bedrooms</th>\n",
       "      <th>maid_bathrooms</th>\n",
       "      <th>floors</th>\n",
       "      <th>building_age</th>\n",
       "      <th>year_built</th>\n",
       "      <th>property_condition</th>\n",
       "      <th>building_orientation</th>\n",
       "      <th>garages</th>\n",
       "      <th>furnishing</th>\n",
       "    </tr>\n",
       "  </thead>\n",
       "  <tbody>\n",
       "    <tr>\n",
       "      <th>0</th>\n",
       "      <td>https://www.rumah123.com/properti/bekasi/hos11...</td>\n",
       "      <td>2.990000e+09</td>\n",
       "      <td>Rumah cantik Sumarecon Bekasi\\nLingkungan asri...</td>\n",
       "      <td>Summarecon Bekasi, Bekasi</td>\n",
       "      <td>Summarecon Bekasi</td>\n",
       "      <td>Bekasi</td>\n",
       "      <td>-6.223945</td>\n",
       "      <td>106.986275</td>\n",
       "      <td>Tempat Jemuran, Jalur Telepon, Taman,  Taman</td>\n",
       "      <td>rumah</td>\n",
       "      <td>hos11360272</td>\n",
       "      <td>4.0</td>\n",
       "      <td>4.0</td>\n",
       "      <td>239.0</td>\n",
       "      <td>272.0</td>\n",
       "      <td>0.0</td>\n",
       "      <td>shm - sertifikat hak milik</td>\n",
       "      <td>4400 mah</td>\n",
       "      <td>0.0</td>\n",
       "      <td>1.0</td>\n",
       "      <td>2.0</td>\n",
       "      <td>5.0</td>\n",
       "      <td>2017.0</td>\n",
       "      <td>bagus</td>\n",
       "      <td>NaN</td>\n",
       "      <td>0.0</td>\n",
       "      <td>unfurnished</td>\n",
       "    </tr>\n",
       "    <tr>\n",
       "      <th>1</th>\n",
       "      <td>https://www.rumah123.com/properti/bekasi/hos10...</td>\n",
       "      <td>1.270000e+09</td>\n",
       "      <td>Rumah Kekinian, Magenta Summarecon Bekasi</td>\n",
       "      <td>Summarecon Bekasi, Bekasi</td>\n",
       "      <td>Summarecon Bekasi</td>\n",
       "      <td>Bekasi</td>\n",
       "      <td>-6.223945</td>\n",
       "      <td>106.986275</td>\n",
       "      <td>Taman</td>\n",
       "      <td>rumah</td>\n",
       "      <td>hos10680347</td>\n",
       "      <td>3.0</td>\n",
       "      <td>2.0</td>\n",
       "      <td>55.0</td>\n",
       "      <td>69.0</td>\n",
       "      <td>1.0</td>\n",
       "      <td>hgb - hak guna bangunan</td>\n",
       "      <td>2200 mah</td>\n",
       "      <td>0.0</td>\n",
       "      <td>0.0</td>\n",
       "      <td>2.0</td>\n",
       "      <td>NaN</td>\n",
       "      <td>NaN</td>\n",
       "      <td>bagus</td>\n",
       "      <td>NaN</td>\n",
       "      <td>0.0</td>\n",
       "      <td>NaN</td>\n",
       "    </tr>\n",
       "    <tr>\n",
       "      <th>2</th>\n",
       "      <td>https://www.rumah123.com/properti/bekasi/hos10...</td>\n",
       "      <td>1.950000e+09</td>\n",
       "      <td>Rumah Cantik 2 Lantai Cluster Bluebell Summare...</td>\n",
       "      <td>Summarecon Bekasi, Bekasi</td>\n",
       "      <td>Summarecon Bekasi</td>\n",
       "      <td>Bekasi</td>\n",
       "      <td>-6.223945</td>\n",
       "      <td>106.986275</td>\n",
       "      <td>Jogging Track,  Kolam Renang, Masjid,  Taman,...</td>\n",
       "      <td>rumah</td>\n",
       "      <td>hos10685867</td>\n",
       "      <td>3.0</td>\n",
       "      <td>3.0</td>\n",
       "      <td>119.0</td>\n",
       "      <td>131.0</td>\n",
       "      <td>1.0</td>\n",
       "      <td>hgb - hak guna bangunan</td>\n",
       "      <td>2200 mah</td>\n",
       "      <td>1.0</td>\n",
       "      <td>1.0</td>\n",
       "      <td>2.0</td>\n",
       "      <td>NaN</td>\n",
       "      <td>NaN</td>\n",
       "      <td>bagus</td>\n",
       "      <td>NaN</td>\n",
       "      <td>1.0</td>\n",
       "      <td>unfurnished</td>\n",
       "    </tr>\n",
       "    <tr>\n",
       "      <th>3</th>\n",
       "      <td>https://www.rumah123.com/properti/bekasi/hos10...</td>\n",
       "      <td>3.300000e+09</td>\n",
       "      <td>Rumah Mewah 2Lantai L10x18 C di Cluster VERNON...</td>\n",
       "      <td>Summarecon Bekasi, Bekasi</td>\n",
       "      <td>Summarecon Bekasi</td>\n",
       "      <td>Bekasi</td>\n",
       "      <td>-6.223945</td>\n",
       "      <td>106.986275</td>\n",
       "      <td>Jalur Telepon,  Jogging Track, Track Lari,  K...</td>\n",
       "      <td>rumah</td>\n",
       "      <td>hos10927790</td>\n",
       "      <td>3.0</td>\n",
       "      <td>3.0</td>\n",
       "      <td>180.0</td>\n",
       "      <td>174.0</td>\n",
       "      <td>0.0</td>\n",
       "      <td>shm - sertifikat hak milik</td>\n",
       "      <td>3500 mah</td>\n",
       "      <td>1.0</td>\n",
       "      <td>1.0</td>\n",
       "      <td>2.0</td>\n",
       "      <td>6.0</td>\n",
       "      <td>2016.0</td>\n",
       "      <td>bagus sekali</td>\n",
       "      <td>utara</td>\n",
       "      <td>2.0</td>\n",
       "      <td>unfurnished</td>\n",
       "    </tr>\n",
       "    <tr>\n",
       "      <th>4</th>\n",
       "      <td>https://www.rumah123.com/properti/bekasi/hos10...</td>\n",
       "      <td>4.500000e+09</td>\n",
       "      <td>Rumah Hoek di Cluster Maple Summarecon Bekasi,...</td>\n",
       "      <td>Summarecon Bekasi, Bekasi</td>\n",
       "      <td>Summarecon Bekasi</td>\n",
       "      <td>Bekasi</td>\n",
       "      <td>-6.223945</td>\n",
       "      <td>106.986275</td>\n",
       "      <td>Jogging Track,  Kolam Renang, Taman, Jalur Te...</td>\n",
       "      <td>rumah</td>\n",
       "      <td>hos10785530</td>\n",
       "      <td>4.0</td>\n",
       "      <td>3.0</td>\n",
       "      <td>328.0</td>\n",
       "      <td>196.0</td>\n",
       "      <td>2.0</td>\n",
       "      <td>shm - sertifikat hak milik</td>\n",
       "      <td>3500 mah</td>\n",
       "      <td>1.0</td>\n",
       "      <td>1.0</td>\n",
       "      <td>2.0</td>\n",
       "      <td>9.0</td>\n",
       "      <td>2013.0</td>\n",
       "      <td>bagus</td>\n",
       "      <td>utara</td>\n",
       "      <td>1.0</td>\n",
       "      <td>unfurnished</td>\n",
       "    </tr>\n",
       "    <tr>\n",
       "      <th>...</th>\n",
       "      <td>...</td>\n",
       "      <td>...</td>\n",
       "      <td>...</td>\n",
       "      <td>...</td>\n",
       "      <td>...</td>\n",
       "      <td>...</td>\n",
       "      <td>...</td>\n",
       "      <td>...</td>\n",
       "      <td>...</td>\n",
       "      <td>...</td>\n",
       "      <td>...</td>\n",
       "      <td>...</td>\n",
       "      <td>...</td>\n",
       "      <td>...</td>\n",
       "      <td>...</td>\n",
       "      <td>...</td>\n",
       "      <td>...</td>\n",
       "      <td>...</td>\n",
       "      <td>...</td>\n",
       "      <td>...</td>\n",
       "      <td>...</td>\n",
       "      <td>...</td>\n",
       "      <td>...</td>\n",
       "      <td>...</td>\n",
       "      <td>...</td>\n",
       "      <td>...</td>\n",
       "      <td>...</td>\n",
       "    </tr>\n",
       "    <tr>\n",
       "      <th>3548</th>\n",
       "      <td>https://www.rumah123.com/properti/tangerang/ho...</td>\n",
       "      <td>5.880000e+08</td>\n",
       "      <td>Terbaru Cluster Minimalis Sudimara Dekat Stasiun</td>\n",
       "      <td>Jombang, Tangerang</td>\n",
       "      <td>Jombang</td>\n",
       "      <td>Tangerang</td>\n",
       "      <td>-6.296615</td>\n",
       "      <td>106.704601</td>\n",
       "      <td>Masjid,  Taman, Tempat Jemuran, Keamanan 24 ja...</td>\n",
       "      <td>rumah</td>\n",
       "      <td>hos11361759</td>\n",
       "      <td>2.0</td>\n",
       "      <td>1.0</td>\n",
       "      <td>72.0</td>\n",
       "      <td>36.0</td>\n",
       "      <td>1.0</td>\n",
       "      <td>shm - sertifikat hak milik</td>\n",
       "      <td>1300 mah</td>\n",
       "      <td>0.0</td>\n",
       "      <td>0.0</td>\n",
       "      <td>1.0</td>\n",
       "      <td>0.0</td>\n",
       "      <td>2022.0</td>\n",
       "      <td>baru</td>\n",
       "      <td>NaN</td>\n",
       "      <td>1.0</td>\n",
       "      <td>furnished</td>\n",
       "    </tr>\n",
       "    <tr>\n",
       "      <th>3549</th>\n",
       "      <td>https://www.rumah123.com/properti/tangerang/ho...</td>\n",
       "      <td>7.850000e+08</td>\n",
       "      <td>Rumah Modern Asri dan Nyaman Bebas Banjir Loka...</td>\n",
       "      <td>Lengkong Kulon, Tangerang</td>\n",
       "      <td>Lengkong Kulon</td>\n",
       "      <td>Tangerang</td>\n",
       "      <td>-6.283454</td>\n",
       "      <td>106.638775</td>\n",
       "      <td>Masjid,  Keamanan,  Jogging Track,  Taman, Tem...</td>\n",
       "      <td>rumah</td>\n",
       "      <td>hos11359615</td>\n",
       "      <td>3.0</td>\n",
       "      <td>2.0</td>\n",
       "      <td>85.0</td>\n",
       "      <td>60.0</td>\n",
       "      <td>1.0</td>\n",
       "      <td>shm - sertifikat hak milik</td>\n",
       "      <td>1300 mah</td>\n",
       "      <td>0.0</td>\n",
       "      <td>0.0</td>\n",
       "      <td>2.0</td>\n",
       "      <td>0.0</td>\n",
       "      <td>2022.0</td>\n",
       "      <td>baru</td>\n",
       "      <td>utara</td>\n",
       "      <td>0.0</td>\n",
       "      <td>unfurnished</td>\n",
       "    </tr>\n",
       "    <tr>\n",
       "      <th>3550</th>\n",
       "      <td>https://www.rumah123.com/properti/tangerang/ho...</td>\n",
       "      <td>7.550000e+08</td>\n",
       "      <td>Rumah Mewah Murah 2 Lantai Gratis Biaya Biaya ...</td>\n",
       "      <td>Lengkong Kulon, Tangerang</td>\n",
       "      <td>Lengkong Kulon</td>\n",
       "      <td>Tangerang</td>\n",
       "      <td>-6.283454</td>\n",
       "      <td>106.638775</td>\n",
       "      <td>Keamanan,  Taman, Jogging Track, Tempat Jemur...</td>\n",
       "      <td>rumah</td>\n",
       "      <td>hos11359594</td>\n",
       "      <td>3.0</td>\n",
       "      <td>2.0</td>\n",
       "      <td>78.0</td>\n",
       "      <td>60.0</td>\n",
       "      <td>1.0</td>\n",
       "      <td>shm - sertifikat hak milik</td>\n",
       "      <td>1300 mah</td>\n",
       "      <td>0.0</td>\n",
       "      <td>0.0</td>\n",
       "      <td>2.0</td>\n",
       "      <td>0.0</td>\n",
       "      <td>2022.0</td>\n",
       "      <td>baru</td>\n",
       "      <td>utara</td>\n",
       "      <td>0.0</td>\n",
       "      <td>unfurnished</td>\n",
       "    </tr>\n",
       "    <tr>\n",
       "      <th>3551</th>\n",
       "      <td>https://www.rumah123.com/properti/tangerang/ho...</td>\n",
       "      <td>8.000000e+08</td>\n",
       "      <td>Rumah 2 Lantai Dekat Perkantoran BSD City AEON...</td>\n",
       "      <td>BSD Provance Parkland, Tangerang</td>\n",
       "      <td>BSD Provance Parkland</td>\n",
       "      <td>Tangerang</td>\n",
       "      <td>-6.288237</td>\n",
       "      <td>106.665859</td>\n",
       "      <td>Tempat Jemuran, Keamanan, Keamanan 24 jam, Was...</td>\n",
       "      <td>rumah</td>\n",
       "      <td>hos11359313</td>\n",
       "      <td>3.0</td>\n",
       "      <td>2.0</td>\n",
       "      <td>60.0</td>\n",
       "      <td>65.0</td>\n",
       "      <td>2.0</td>\n",
       "      <td>shm - sertifikat hak milik</td>\n",
       "      <td>2200 mah</td>\n",
       "      <td>0.0</td>\n",
       "      <td>0.0</td>\n",
       "      <td>2.0</td>\n",
       "      <td>0.0</td>\n",
       "      <td>2022.0</td>\n",
       "      <td>baru</td>\n",
       "      <td>selatan</td>\n",
       "      <td>0.0</td>\n",
       "      <td>furnished</td>\n",
       "    </tr>\n",
       "    <tr>\n",
       "      <th>3552</th>\n",
       "      <td>https://www.rumah123.com/properti/tangerang/ho...</td>\n",
       "      <td>6.550000e+08</td>\n",
       "      <td>Rumah 2 Lantai Harga 1 Lantai Di Pamulang, Fre...</td>\n",
       "      <td>Sudimara, Tangerang</td>\n",
       "      <td>Sudimara</td>\n",
       "      <td>Tangerang</td>\n",
       "      <td>-6.296963</td>\n",
       "      <td>106.710635</td>\n",
       "      <td>Kulkas, Masjid,  Taman, Lapangan Bola, Tempat ...</td>\n",
       "      <td>rumah</td>\n",
       "      <td>hos11358964</td>\n",
       "      <td>3.0</td>\n",
       "      <td>2.0</td>\n",
       "      <td>64.0</td>\n",
       "      <td>60.0</td>\n",
       "      <td>1.0</td>\n",
       "      <td>shm - sertifikat hak milik</td>\n",
       "      <td>1300 mah</td>\n",
       "      <td>0.0</td>\n",
       "      <td>0.0</td>\n",
       "      <td>2.0</td>\n",
       "      <td>0.0</td>\n",
       "      <td>2022.0</td>\n",
       "      <td>baru</td>\n",
       "      <td>timur</td>\n",
       "      <td>2.0</td>\n",
       "      <td>semi furnished</td>\n",
       "    </tr>\n",
       "  </tbody>\n",
       "</table>\n",
       "<p>3553 rows × 27 columns</p>\n",
       "</div>"
      ],
      "text/plain": [
       "                                                    url   price_in_rp  \\\n",
       "0     https://www.rumah123.com/properti/bekasi/hos11...  2.990000e+09   \n",
       "1     https://www.rumah123.com/properti/bekasi/hos10...  1.270000e+09   \n",
       "2     https://www.rumah123.com/properti/bekasi/hos10...  1.950000e+09   \n",
       "3     https://www.rumah123.com/properti/bekasi/hos10...  3.300000e+09   \n",
       "4     https://www.rumah123.com/properti/bekasi/hos10...  4.500000e+09   \n",
       "...                                                 ...           ...   \n",
       "3548  https://www.rumah123.com/properti/tangerang/ho...  5.880000e+08   \n",
       "3549  https://www.rumah123.com/properti/tangerang/ho...  7.850000e+08   \n",
       "3550  https://www.rumah123.com/properti/tangerang/ho...  7.550000e+08   \n",
       "3551  https://www.rumah123.com/properti/tangerang/ho...  8.000000e+08   \n",
       "3552  https://www.rumah123.com/properti/tangerang/ho...  6.550000e+08   \n",
       "\n",
       "                                                  title  \\\n",
       "0     Rumah cantik Sumarecon Bekasi\\nLingkungan asri...   \n",
       "1             Rumah Kekinian, Magenta Summarecon Bekasi   \n",
       "2     Rumah Cantik 2 Lantai Cluster Bluebell Summare...   \n",
       "3     Rumah Mewah 2Lantai L10x18 C di Cluster VERNON...   \n",
       "4     Rumah Hoek di Cluster Maple Summarecon Bekasi,...   \n",
       "...                                                 ...   \n",
       "3548   Terbaru Cluster Minimalis Sudimara Dekat Stasiun   \n",
       "3549  Rumah Modern Asri dan Nyaman Bebas Banjir Loka...   \n",
       "3550  Rumah Mewah Murah 2 Lantai Gratis Biaya Biaya ...   \n",
       "3551  Rumah 2 Lantai Dekat Perkantoran BSD City AEON...   \n",
       "3552  Rumah 2 Lantai Harga 1 Lantai Di Pamulang, Fre...   \n",
       "\n",
       "                               address               district        city  \\\n",
       "0            Summarecon Bekasi, Bekasi      Summarecon Bekasi      Bekasi   \n",
       "1            Summarecon Bekasi, Bekasi      Summarecon Bekasi      Bekasi   \n",
       "2            Summarecon Bekasi, Bekasi      Summarecon Bekasi      Bekasi   \n",
       "3            Summarecon Bekasi, Bekasi      Summarecon Bekasi      Bekasi   \n",
       "4            Summarecon Bekasi, Bekasi      Summarecon Bekasi      Bekasi   \n",
       "...                                ...                    ...         ...   \n",
       "3548                Jombang, Tangerang                Jombang   Tangerang   \n",
       "3549         Lengkong Kulon, Tangerang         Lengkong Kulon   Tangerang   \n",
       "3550         Lengkong Kulon, Tangerang         Lengkong Kulon   Tangerang   \n",
       "3551  BSD Provance Parkland, Tangerang  BSD Provance Parkland   Tangerang   \n",
       "3552               Sudimara, Tangerang               Sudimara   Tangerang   \n",
       "\n",
       "           lat        long                                         facilities  \\\n",
       "0    -6.223945  106.986275       Tempat Jemuran, Jalur Telepon, Taman,  Taman   \n",
       "1    -6.223945  106.986275                                              Taman   \n",
       "2    -6.223945  106.986275   Jogging Track,  Kolam Renang, Masjid,  Taman,...   \n",
       "3    -6.223945  106.986275   Jalur Telepon,  Jogging Track, Track Lari,  K...   \n",
       "4    -6.223945  106.986275   Jogging Track,  Kolam Renang, Taman, Jalur Te...   \n",
       "...        ...         ...                                                ...   \n",
       "3548 -6.296615  106.704601  Masjid,  Taman, Tempat Jemuran, Keamanan 24 ja...   \n",
       "3549 -6.283454  106.638775  Masjid,  Keamanan,  Jogging Track,  Taman, Tem...   \n",
       "3550 -6.283454  106.638775   Keamanan,  Taman, Jogging Track, Tempat Jemur...   \n",
       "3551 -6.288237  106.665859  Tempat Jemuran, Keamanan, Keamanan 24 jam, Was...   \n",
       "3552 -6.296963  106.710635  Kulkas, Masjid,  Taman, Lapangan Bola, Tempat ...   \n",
       "\n",
       "     property_type       ads_id  bedrooms  bathrooms  land_size_m2  \\\n",
       "0            rumah  hos11360272       4.0        4.0         239.0   \n",
       "1            rumah  hos10680347       3.0        2.0          55.0   \n",
       "2            rumah  hos10685867       3.0        3.0         119.0   \n",
       "3            rumah  hos10927790       3.0        3.0         180.0   \n",
       "4            rumah  hos10785530       4.0        3.0         328.0   \n",
       "...            ...          ...       ...        ...           ...   \n",
       "3548         rumah  hos11361759       2.0        1.0          72.0   \n",
       "3549         rumah  hos11359615       3.0        2.0          85.0   \n",
       "3550         rumah  hos11359594       3.0        2.0          78.0   \n",
       "3551         rumah  hos11359313       3.0        2.0          60.0   \n",
       "3552         rumah  hos11358964       3.0        2.0          64.0   \n",
       "\n",
       "      building_size_m2  carports                 certificate electricity  \\\n",
       "0                272.0       0.0  shm - sertifikat hak milik    4400 mah   \n",
       "1                 69.0       1.0     hgb - hak guna bangunan    2200 mah   \n",
       "2                131.0       1.0     hgb - hak guna bangunan    2200 mah   \n",
       "3                174.0       0.0  shm - sertifikat hak milik    3500 mah   \n",
       "4                196.0       2.0  shm - sertifikat hak milik    3500 mah   \n",
       "...                ...       ...                         ...         ...   \n",
       "3548              36.0       1.0  shm - sertifikat hak milik    1300 mah   \n",
       "3549              60.0       1.0  shm - sertifikat hak milik    1300 mah   \n",
       "3550              60.0       1.0  shm - sertifikat hak milik    1300 mah   \n",
       "3551              65.0       2.0  shm - sertifikat hak milik    2200 mah   \n",
       "3552              60.0       1.0  shm - sertifikat hak milik    1300 mah   \n",
       "\n",
       "      maid_bedrooms  maid_bathrooms  floors  building_age  year_built  \\\n",
       "0               0.0             1.0     2.0           5.0      2017.0   \n",
       "1               0.0             0.0     2.0           NaN         NaN   \n",
       "2               1.0             1.0     2.0           NaN         NaN   \n",
       "3               1.0             1.0     2.0           6.0      2016.0   \n",
       "4               1.0             1.0     2.0           9.0      2013.0   \n",
       "...             ...             ...     ...           ...         ...   \n",
       "3548            0.0             0.0     1.0           0.0      2022.0   \n",
       "3549            0.0             0.0     2.0           0.0      2022.0   \n",
       "3550            0.0             0.0     2.0           0.0      2022.0   \n",
       "3551            0.0             0.0     2.0           0.0      2022.0   \n",
       "3552            0.0             0.0     2.0           0.0      2022.0   \n",
       "\n",
       "     property_condition building_orientation  garages      furnishing  \n",
       "0                 bagus                  NaN      0.0     unfurnished  \n",
       "1                 bagus                  NaN      0.0             NaN  \n",
       "2                 bagus                  NaN      1.0     unfurnished  \n",
       "3          bagus sekali                utara      2.0     unfurnished  \n",
       "4                 bagus                utara      1.0     unfurnished  \n",
       "...                 ...                  ...      ...             ...  \n",
       "3548               baru                  NaN      1.0       furnished  \n",
       "3549               baru                utara      0.0     unfurnished  \n",
       "3550               baru                utara      0.0     unfurnished  \n",
       "3551               baru              selatan      0.0       furnished  \n",
       "3552               baru                timur      2.0  semi furnished  \n",
       "\n",
       "[3553 rows x 27 columns]"
      ]
     },
     "execution_count": 3,
     "metadata": {},
     "output_type": "execute_result"
    }
   ],
   "source": [
    "# membuat tampilan kolom leluasa\n",
    "pd.set_option(\"Display.max_columns\",None)\n",
    "df"
   ]
  },
  {
   "cell_type": "markdown",
   "id": "ba8ab5b5",
   "metadata": {},
   "source": [
    "# MEngecek Dataset"
   ]
  },
  {
   "cell_type": "code",
   "execution_count": 4,
   "id": "b76fad26",
   "metadata": {},
   "outputs": [
    {
     "data": {
      "text/plain": [
       "(3553, 27)"
      ]
     },
     "execution_count": 4,
     "metadata": {},
     "output_type": "execute_result"
    }
   ],
   "source": [
    "df.shape"
   ]
  },
  {
   "cell_type": "code",
   "execution_count": 5,
   "id": "095357c8",
   "metadata": {},
   "outputs": [
    {
     "name": "stdout",
     "output_type": "stream",
     "text": [
      "<class 'pandas.core.frame.DataFrame'>\n",
      "RangeIndex: 3553 entries, 0 to 3552\n",
      "Data columns (total 27 columns):\n",
      " #   Column                Non-Null Count  Dtype  \n",
      "---  ------                --------------  -----  \n",
      " 0   url                   3553 non-null   object \n",
      " 1   price_in_rp           3553 non-null   float64\n",
      " 2   title                 3553 non-null   object \n",
      " 3   address               3553 non-null   object \n",
      " 4   district              3553 non-null   object \n",
      " 5   city                  3553 non-null   object \n",
      " 6   lat                   3553 non-null   float64\n",
      " 7   long                  3553 non-null   float64\n",
      " 8   facilities            3553 non-null   object \n",
      " 9   property_type         3552 non-null   object \n",
      " 10  ads_id                3549 non-null   object \n",
      " 11  bedrooms              3519 non-null   float64\n",
      " 12  bathrooms             3524 non-null   float64\n",
      " 13  land_size_m2          3551 non-null   float64\n",
      " 14  building_size_m2      3551 non-null   float64\n",
      " 15  carports              3553 non-null   float64\n",
      " 16  certificate           3412 non-null   object \n",
      " 17  electricity           3553 non-null   object \n",
      " 18  maid_bedrooms         3553 non-null   float64\n",
      " 19  maid_bathrooms        3553 non-null   float64\n",
      " 20  floors                3547 non-null   float64\n",
      " 21  building_age          2108 non-null   float64\n",
      " 22  year_built            2108 non-null   float64\n",
      " 23  property_condition    3307 non-null   object \n",
      " 24  building_orientation  1906 non-null   object \n",
      " 25  garages               3553 non-null   float64\n",
      " 26  furnishing            3166 non-null   object \n",
      "dtypes: float64(14), object(13)\n",
      "memory usage: 749.6+ KB\n"
     ]
    }
   ],
   "source": [
    "df.info()"
   ]
  },
  {
   "cell_type": "code",
   "execution_count": 6,
   "id": "28efaf92",
   "metadata": {},
   "outputs": [
    {
     "data": {
      "text/plain": [
       "url                        0\n",
       "price_in_rp                0\n",
       "title                      0\n",
       "address                    0\n",
       "district                   0\n",
       "city                       0\n",
       "lat                        0\n",
       "long                       0\n",
       "facilities                 0\n",
       "property_type              1\n",
       "ads_id                     4\n",
       "bedrooms                  34\n",
       "bathrooms                 29\n",
       "land_size_m2               2\n",
       "building_size_m2           2\n",
       "carports                   0\n",
       "certificate              141\n",
       "electricity                0\n",
       "maid_bedrooms              0\n",
       "maid_bathrooms             0\n",
       "floors                     6\n",
       "building_age            1445\n",
       "year_built              1445\n",
       "property_condition       246\n",
       "building_orientation    1647\n",
       "garages                    0\n",
       "furnishing               387\n",
       "dtype: int64"
      ]
     },
     "execution_count": 6,
     "metadata": {},
     "output_type": "execute_result"
    }
   ],
   "source": [
    "df.isna().sum()"
   ]
  },
  {
   "cell_type": "markdown",
   "id": "98816483",
   "metadata": {},
   "source": [
    "## Mengatasi Missing Value"
   ]
  },
  {
   "cell_type": "markdown",
   "id": "e1a7905c",
   "metadata": {},
   "source": [
    "Kita akan mengisi data yang missing value untuk yang diatas 1000, dan menghapus data yang dibawah 1000. karena diatas 40% sendiri hilangnya data ketika diatas 1000"
   ]
  },
  {
   "cell_type": "code",
   "execution_count": 7,
   "id": "4407c566",
   "metadata": {},
   "outputs": [],
   "source": [
    "#mencari modus untuk building age dan yearbuilt\n",
    "a = df[\"year_built\"].mode()\n",
    "b = df[\"building_age\"].mode()\n",
    "c = df[\"building_orientation\"].mode()"
   ]
  },
  {
   "cell_type": "code",
   "execution_count": 8,
   "id": "046099a5",
   "metadata": {},
   "outputs": [
    {
     "data": {
      "text/plain": [
       "0    2022.0\n",
       "Name: year_built, dtype: float64"
      ]
     },
     "execution_count": 8,
     "metadata": {},
     "output_type": "execute_result"
    }
   ],
   "source": [
    "a"
   ]
  },
  {
   "cell_type": "code",
   "execution_count": 9,
   "id": "9f37f679",
   "metadata": {},
   "outputs": [
    {
     "data": {
      "text/plain": [
       "0    0.0\n",
       "Name: building_age, dtype: float64"
      ]
     },
     "execution_count": 9,
     "metadata": {},
     "output_type": "execute_result"
    }
   ],
   "source": [
    "b"
   ]
  },
  {
   "cell_type": "code",
   "execution_count": 10,
   "id": "df44fe0f",
   "metadata": {},
   "outputs": [
    {
     "data": {
      "text/plain": [
       "0    selatan\n",
       "Name: building_orientation, dtype: object"
      ]
     },
     "execution_count": 10,
     "metadata": {},
     "output_type": "execute_result"
    }
   ],
   "source": [
    "c"
   ]
  },
  {
   "cell_type": "markdown",
   "id": "71aa0707",
   "metadata": {},
   "source": [
    "Mengisi Missing value"
   ]
  },
  {
   "cell_type": "code",
   "execution_count": 11,
   "id": "f355e1b3",
   "metadata": {},
   "outputs": [],
   "source": [
    "df[\"year_built\"].fillna(df[\"year_built\"].mode()[0],inplace=True)\n",
    "df[\"building_age\"].fillna(df[\"building_age\"].mode()[0], inplace=True)\n",
    "df[\"building_orientation\"].fillna(df[\"building_orientation\"].mode()[0], inplace=True)"
   ]
  },
  {
   "cell_type": "code",
   "execution_count": 12,
   "id": "1d93e2c7",
   "metadata": {},
   "outputs": [
    {
     "data": {
      "text/plain": [
       "url                       0\n",
       "price_in_rp               0\n",
       "title                     0\n",
       "address                   0\n",
       "district                  0\n",
       "city                      0\n",
       "lat                       0\n",
       "long                      0\n",
       "facilities                0\n",
       "property_type             1\n",
       "ads_id                    4\n",
       "bedrooms                 34\n",
       "bathrooms                29\n",
       "land_size_m2              2\n",
       "building_size_m2          2\n",
       "carports                  0\n",
       "certificate             141\n",
       "electricity               0\n",
       "maid_bedrooms             0\n",
       "maid_bathrooms            0\n",
       "floors                    6\n",
       "building_age              0\n",
       "year_built                0\n",
       "property_condition      246\n",
       "building_orientation      0\n",
       "garages                   0\n",
       "furnishing              387\n",
       "dtype: int64"
      ]
     },
     "execution_count": 12,
     "metadata": {},
     "output_type": "execute_result"
    }
   ],
   "source": [
    "df.isna().sum()"
   ]
  },
  {
   "cell_type": "markdown",
   "id": "64f866e3",
   "metadata": {},
   "source": [
    "Menghapus missing value yang nilai data nya dibawah 1000"
   ]
  },
  {
   "cell_type": "code",
   "execution_count": 13,
   "id": "5a40b8d2",
   "metadata": {},
   "outputs": [],
   "source": [
    "df.dropna(axis=0,inplace=True)"
   ]
  },
  {
   "cell_type": "code",
   "execution_count": 14,
   "id": "60a5f32b",
   "metadata": {},
   "outputs": [
    {
     "data": {
      "text/plain": [
       "url                     0\n",
       "price_in_rp             0\n",
       "title                   0\n",
       "address                 0\n",
       "district                0\n",
       "city                    0\n",
       "lat                     0\n",
       "long                    0\n",
       "facilities              0\n",
       "property_type           0\n",
       "ads_id                  0\n",
       "bedrooms                0\n",
       "bathrooms               0\n",
       "land_size_m2            0\n",
       "building_size_m2        0\n",
       "carports                0\n",
       "certificate             0\n",
       "electricity             0\n",
       "maid_bedrooms           0\n",
       "maid_bathrooms          0\n",
       "floors                  0\n",
       "building_age            0\n",
       "year_built              0\n",
       "property_condition      0\n",
       "building_orientation    0\n",
       "garages                 0\n",
       "furnishing              0\n",
       "dtype: int64"
      ]
     },
     "execution_count": 14,
     "metadata": {},
     "output_type": "execute_result"
    }
   ],
   "source": [
    "df.isna().sum()"
   ]
  },
  {
   "cell_type": "markdown",
   "id": "0d5b2e02",
   "metadata": {},
   "source": [
    "# Analisis Data"
   ]
  },
  {
   "cell_type": "code",
   "execution_count": 15,
   "id": "733e1e94",
   "metadata": {},
   "outputs": [
    {
     "name": "stdout",
     "output_type": "stream",
     "text": [
      "<class 'pandas.core.frame.DataFrame'>\n",
      "Int64Index: 2848 entries, 0 to 3552\n",
      "Data columns (total 27 columns):\n",
      " #   Column                Non-Null Count  Dtype  \n",
      "---  ------                --------------  -----  \n",
      " 0   url                   2848 non-null   object \n",
      " 1   price_in_rp           2848 non-null   float64\n",
      " 2   title                 2848 non-null   object \n",
      " 3   address               2848 non-null   object \n",
      " 4   district              2848 non-null   object \n",
      " 5   city                  2848 non-null   object \n",
      " 6   lat                   2848 non-null   float64\n",
      " 7   long                  2848 non-null   float64\n",
      " 8   facilities            2848 non-null   object \n",
      " 9   property_type         2848 non-null   object \n",
      " 10  ads_id                2848 non-null   object \n",
      " 11  bedrooms              2848 non-null   float64\n",
      " 12  bathrooms             2848 non-null   float64\n",
      " 13  land_size_m2          2848 non-null   float64\n",
      " 14  building_size_m2      2848 non-null   float64\n",
      " 15  carports              2848 non-null   float64\n",
      " 16  certificate           2848 non-null   object \n",
      " 17  electricity           2848 non-null   object \n",
      " 18  maid_bedrooms         2848 non-null   float64\n",
      " 19  maid_bathrooms        2848 non-null   float64\n",
      " 20  floors                2848 non-null   float64\n",
      " 21  building_age          2848 non-null   float64\n",
      " 22  year_built            2848 non-null   float64\n",
      " 23  property_condition    2848 non-null   object \n",
      " 24  building_orientation  2848 non-null   object \n",
      " 25  garages               2848 non-null   float64\n",
      " 26  furnishing            2848 non-null   object \n",
      "dtypes: float64(14), object(13)\n",
      "memory usage: 623.0+ KB\n"
     ]
    }
   ],
   "source": [
    "df.info()"
   ]
  },
  {
   "cell_type": "markdown",
   "id": "1ea7b9f1",
   "metadata": {},
   "source": [
    "## Melihat Distribusi Harga"
   ]
  },
  {
   "cell_type": "code",
   "execution_count": 16,
   "id": "ba5a1fda",
   "metadata": {},
   "outputs": [
    {
     "name": "stdout",
     "output_type": "stream",
     "text": [
      "Batasan pengelompokan ahrga rumah\n",
      "Bin 1: 42,000,000 - 96,701,666,667\n",
      "Bin 2: 96,701,666,667 - 193,361,333,333\n",
      "Bin 3: 193,361,333,333 - 290,021,000,000\n",
      "Bin 4: 290,021,000,000 - 386,680,666,667\n",
      "Bin 5: 386,680,666,667 - 483,340,333,333\n",
      "Bin 6: 483,340,333,333 - 580,000,000,000\n"
     ]
    },
    {
     "data": {
      "image/png": "[encoded data removed]",
      "text/plain": [
       "<Figure size 1440x720 with 1 Axes>"
      ]
     },
     "metadata": {
      "needs_background": "light"
     },
     "output_type": "display_data"
    }
   ],
   "source": [
    "#========= Loading Data yang dibutuhkan ==============================\n",
    "\n",
    "data_harga_rumah = df[\"price_in_rp\"]\n",
    "\n",
    "#========= Buat histogramnya =========================================\n",
    "\n",
    "#judul\n",
    "plt.figure(figsize=(20,10))\n",
    "\n",
    "#title\n",
    "plt.title(\"Distirbusi harga\")\n",
    "\n",
    "#grafik\n",
    "sns.lineplot(data=data_harga_rumah)\n",
    "plt.xlabel(\"Jumlah\")\n",
    "plt.ylabel(\"harga Rumah\")\n",
    "\n",
    "#========= Menampilkan nilai pengelompokan ============================\n",
    "\n",
    "#Tentukan nilai interval yang ada\n",
    "interval = 6 #(sesuaikan grafik)\n",
    "\n",
    "#hitung nilai rentang dari data yang ada\n",
    "nilai_rentang = max(data_harga_rumah)-min(data_harga_rumah)\n",
    "\n",
    "# hitunga lebar intervalnya\n",
    "lebar_interval = nilai_rentang/ interval\n",
    "\n",
    "#inisiasi batasan yang ada\n",
    "batas_per_bin = []\n",
    "\n",
    "#menghitung batasan yang ada\n",
    "for i in range(interval):\n",
    "    batas_bawah = min(data_harga_rumah) + i * lebar_interval\n",
    "    batas_atas = max(data_harga_rumah) + lebar_interval\n",
    "    batas_per_bin.append(batas_bawah)\n",
    "    \n",
    "#tambahkan batas ahkir \n",
    "batas_per_bin.append(max(data_harga_rumah))\n",
    "\n",
    "#tampilkan batasan harga pada bin/ interval\n",
    "print(\"Batasan pengelompokan ahrga rumah\")\n",
    "for i in range(len(batas_per_bin)-1):\n",
    "    batas_bawah = batas_per_bin[i]\n",
    "    batas_atas = batas_per_bin[i+1]\n",
    "    \n",
    "    # Format angka dengan tanda titik sebagai pemisah ribuan\n",
    "    formatted_batas_bawah = \"{:,.0f}\".format(batas_bawah)\n",
    "    formatted_batas_atas = \"{:,.0f}\".format(batas_atas)\n",
    "    \n",
    "    print(f\"Bin {i + 1}: {formatted_batas_bawah} - {formatted_batas_atas}\")"
   ]
  },
  {
   "cell_type": "markdown",
   "id": "7082c0c6",
   "metadata": {},
   "source": [
    "Pada hasil grafik diatas, menunjukkan bahwa darid ataset harga jual rumah banyak tergolong pada interval 1, yang dimana range jual harga rumah ada di kisaran 42jt hingga 96,701 miliyar"
   ]
  },
  {
   "cell_type": "markdown",
   "id": "313b9cc3",
   "metadata": {},
   "source": [
    "## Analisis Harga berdasarkan luas tanah dan luas bangunan"
   ]
  },
  {
   "cell_type": "code",
   "execution_count": 17,
   "id": "e2b9f4da",
   "metadata": {},
   "outputs": [],
   "source": [
    "df_luas = df[[\"price_in_rp\",\"land_size_m2\",\"building_size_m2\"]]"
   ]
  },
  {
   "cell_type": "code",
   "execution_count": 18,
   "id": "25c935c3",
   "metadata": {},
   "outputs": [],
   "source": [
    "df_luas.reset_index(inplace=True)"
   ]
  },
  {
   "cell_type": "code",
   "execution_count": 19,
   "id": "9117098a",
   "metadata": {},
   "outputs": [
    {
     "data": {
      "text/html": [
       "<div>\n",
       "<style scoped>\n",
       "    .dataframe tbody tr th:only-of-type {\n",
       "        vertical-align: middle;\n",
       "    }\n",
       "\n",
       "    .dataframe tbody tr th {\n",
       "        vertical-align: top;\n",
       "    }\n",
       "\n",
       "    .dataframe thead th {\n",
       "        text-align: right;\n",
       "    }\n",
       "</style>\n",
       "<table border=\"1\" class=\"dataframe\">\n",
       "  <thead>\n",
       "    <tr style=\"text-align: right;\">\n",
       "      <th></th>\n",
       "      <th>index</th>\n",
       "      <th>price_in_rp</th>\n",
       "      <th>land_size_m2</th>\n",
       "      <th>building_size_m2</th>\n",
       "    </tr>\n",
       "  </thead>\n",
       "  <tbody>\n",
       "    <tr>\n",
       "      <th>0</th>\n",
       "      <td>0</td>\n",
       "      <td>2.990000e+09</td>\n",
       "      <td>239.0</td>\n",
       "      <td>272.0</td>\n",
       "    </tr>\n",
       "    <tr>\n",
       "      <th>1</th>\n",
       "      <td>2</td>\n",
       "      <td>1.950000e+09</td>\n",
       "      <td>119.0</td>\n",
       "      <td>131.0</td>\n",
       "    </tr>\n",
       "    <tr>\n",
       "      <th>2</th>\n",
       "      <td>3</td>\n",
       "      <td>3.300000e+09</td>\n",
       "      <td>180.0</td>\n",
       "      <td>174.0</td>\n",
       "    </tr>\n",
       "    <tr>\n",
       "      <th>3</th>\n",
       "      <td>4</td>\n",
       "      <td>4.500000e+09</td>\n",
       "      <td>328.0</td>\n",
       "      <td>196.0</td>\n",
       "    </tr>\n",
       "    <tr>\n",
       "      <th>4</th>\n",
       "      <td>5</td>\n",
       "      <td>2.700000e+09</td>\n",
       "      <td>136.0</td>\n",
       "      <td>200.0</td>\n",
       "    </tr>\n",
       "    <tr>\n",
       "      <th>...</th>\n",
       "      <td>...</td>\n",
       "      <td>...</td>\n",
       "      <td>...</td>\n",
       "      <td>...</td>\n",
       "    </tr>\n",
       "    <tr>\n",
       "      <th>2843</th>\n",
       "      <td>3548</td>\n",
       "      <td>5.880000e+08</td>\n",
       "      <td>72.0</td>\n",
       "      <td>36.0</td>\n",
       "    </tr>\n",
       "    <tr>\n",
       "      <th>2844</th>\n",
       "      <td>3549</td>\n",
       "      <td>7.850000e+08</td>\n",
       "      <td>85.0</td>\n",
       "      <td>60.0</td>\n",
       "    </tr>\n",
       "    <tr>\n",
       "      <th>2845</th>\n",
       "      <td>3550</td>\n",
       "      <td>7.550000e+08</td>\n",
       "      <td>78.0</td>\n",
       "      <td>60.0</td>\n",
       "    </tr>\n",
       "    <tr>\n",
       "      <th>2846</th>\n",
       "      <td>3551</td>\n",
       "      <td>8.000000e+08</td>\n",
       "      <td>60.0</td>\n",
       "      <td>65.0</td>\n",
       "    </tr>\n",
       "    <tr>\n",
       "      <th>2847</th>\n",
       "      <td>3552</td>\n",
       "      <td>6.550000e+08</td>\n",
       "      <td>64.0</td>\n",
       "      <td>60.0</td>\n",
       "    </tr>\n",
       "  </tbody>\n",
       "</table>\n",
       "<p>2848 rows × 4 columns</p>\n",
       "</div>"
      ],
      "text/plain": [
       "      index   price_in_rp  land_size_m2  building_size_m2\n",
       "0         0  2.990000e+09         239.0             272.0\n",
       "1         2  1.950000e+09         119.0             131.0\n",
       "2         3  3.300000e+09         180.0             174.0\n",
       "3         4  4.500000e+09         328.0             196.0\n",
       "4         5  2.700000e+09         136.0             200.0\n",
       "...     ...           ...           ...               ...\n",
       "2843   3548  5.880000e+08          72.0              36.0\n",
       "2844   3549  7.850000e+08          85.0              60.0\n",
       "2845   3550  7.550000e+08          78.0              60.0\n",
       "2846   3551  8.000000e+08          60.0              65.0\n",
       "2847   3552  6.550000e+08          64.0              60.0\n",
       "\n",
       "[2848 rows x 4 columns]"
      ]
     },
     "execution_count": 19,
     "metadata": {},
     "output_type": "execute_result"
    }
   ],
   "source": [
    "df_luas"
   ]
  },
  {
   "cell_type": "code",
   "execution_count": 20,
   "id": "94ff84fc",
   "metadata": {},
   "outputs": [],
   "source": [
    "df_luas.drop(\"index\",axis=1,inplace=True)"
   ]
  },
  {
   "cell_type": "code",
   "execution_count": 21,
   "id": "44df8aaa",
   "metadata": {},
   "outputs": [
    {
     "data": {
      "text/html": [
       "<div>\n",
       "<style scoped>\n",
       "    .dataframe tbody tr th:only-of-type {\n",
       "        vertical-align: middle;\n",
       "    }\n",
       "\n",
       "    .dataframe tbody tr th {\n",
       "        vertical-align: top;\n",
       "    }\n",
       "\n",
       "    .dataframe thead th {\n",
       "        text-align: right;\n",
       "    }\n",
       "</style>\n",
       "<table border=\"1\" class=\"dataframe\">\n",
       "  <thead>\n",
       "    <tr style=\"text-align: right;\">\n",
       "      <th></th>\n",
       "      <th>price_in_rp</th>\n",
       "      <th>land_size_m2</th>\n",
       "      <th>building_size_m2</th>\n",
       "    </tr>\n",
       "  </thead>\n",
       "  <tbody>\n",
       "    <tr>\n",
       "      <th>2349</th>\n",
       "      <td>5.800000e+11</td>\n",
       "      <td>303.0</td>\n",
       "      <td>300.0</td>\n",
       "    </tr>\n",
       "    <tr>\n",
       "      <th>1840</th>\n",
       "      <td>1.750000e+11</td>\n",
       "      <td>1305.0</td>\n",
       "      <td>1200.0</td>\n",
       "    </tr>\n",
       "    <tr>\n",
       "      <th>2032</th>\n",
       "      <td>1.750000e+11</td>\n",
       "      <td>1305.0</td>\n",
       "      <td>1500.0</td>\n",
       "    </tr>\n",
       "    <tr>\n",
       "      <th>2006</th>\n",
       "      <td>1.500000e+11</td>\n",
       "      <td>1900.0</td>\n",
       "      <td>850.0</td>\n",
       "    </tr>\n",
       "    <tr>\n",
       "      <th>1837</th>\n",
       "      <td>1.060000e+11</td>\n",
       "      <td>1479.0</td>\n",
       "      <td>1000.0</td>\n",
       "    </tr>\n",
       "    <tr>\n",
       "      <th>...</th>\n",
       "      <td>...</td>\n",
       "      <td>...</td>\n",
       "      <td>...</td>\n",
       "    </tr>\n",
       "    <tr>\n",
       "      <th>1191</th>\n",
       "      <td>8.500000e+07</td>\n",
       "      <td>72.0</td>\n",
       "      <td>72.0</td>\n",
       "    </tr>\n",
       "    <tr>\n",
       "      <th>1046</th>\n",
       "      <td>7.500000e+07</td>\n",
       "      <td>60.0</td>\n",
       "      <td>30.0</td>\n",
       "    </tr>\n",
       "    <tr>\n",
       "      <th>1368</th>\n",
       "      <td>7.000000e+07</td>\n",
       "      <td>78.0</td>\n",
       "      <td>45.0</td>\n",
       "    </tr>\n",
       "    <tr>\n",
       "      <th>267</th>\n",
       "      <td>4.200000e+07</td>\n",
       "      <td>60.0</td>\n",
       "      <td>40.0</td>\n",
       "    </tr>\n",
       "    <tr>\n",
       "      <th>119</th>\n",
       "      <td>4.200000e+07</td>\n",
       "      <td>60.0</td>\n",
       "      <td>40.0</td>\n",
       "    </tr>\n",
       "  </tbody>\n",
       "</table>\n",
       "<p>2848 rows × 3 columns</p>\n",
       "</div>"
      ],
      "text/plain": [
       "       price_in_rp  land_size_m2  building_size_m2\n",
       "2349  5.800000e+11         303.0             300.0\n",
       "1840  1.750000e+11        1305.0            1200.0\n",
       "2032  1.750000e+11        1305.0            1500.0\n",
       "2006  1.500000e+11        1900.0             850.0\n",
       "1837  1.060000e+11        1479.0            1000.0\n",
       "...            ...           ...               ...\n",
       "1191  8.500000e+07          72.0              72.0\n",
       "1046  7.500000e+07          60.0              30.0\n",
       "1368  7.000000e+07          78.0              45.0\n",
       "267   4.200000e+07          60.0              40.0\n",
       "119   4.200000e+07          60.0              40.0\n",
       "\n",
       "[2848 rows x 3 columns]"
      ]
     },
     "execution_count": 21,
     "metadata": {},
     "output_type": "execute_result"
    }
   ],
   "source": [
    "df_luas=df_luas.sort_values(by=\"price_in_rp\",axis=0,ascending=False)\n",
    "df_luas"
   ]
  },
  {
   "cell_type": "markdown",
   "id": "5dc9537b",
   "metadata": {},
   "source": [
    "Dari data diatas, pada nomor 2349, sangat tidaklah relevan, yang diamna dengan luas tanah dan bangungan yang kecil ahrganya bisa sangat melambung tinggi. Maka dari itu kita hapus saja data pertama"
   ]
  },
  {
   "cell_type": "code",
   "execution_count": 22,
   "id": "6c1141f6",
   "metadata": {},
   "outputs": [],
   "source": [
    "df_luas.drop(2349,axis=0,inplace=True)"
   ]
  },
  {
   "cell_type": "code",
   "execution_count": 23,
   "id": "00b20539",
   "metadata": {},
   "outputs": [
    {
     "data": {
      "text/html": [
       "<div>\n",
       "<style scoped>\n",
       "    .dataframe tbody tr th:only-of-type {\n",
       "        vertical-align: middle;\n",
       "    }\n",
       "\n",
       "    .dataframe tbody tr th {\n",
       "        vertical-align: top;\n",
       "    }\n",
       "\n",
       "    .dataframe thead th {\n",
       "        text-align: right;\n",
       "    }\n",
       "</style>\n",
       "<table border=\"1\" class=\"dataframe\">\n",
       "  <thead>\n",
       "    <tr style=\"text-align: right;\">\n",
       "      <th></th>\n",
       "      <th>price_in_rp</th>\n",
       "      <th>land_size_m2</th>\n",
       "      <th>building_size_m2</th>\n",
       "    </tr>\n",
       "  </thead>\n",
       "  <tbody>\n",
       "    <tr>\n",
       "      <th>1840</th>\n",
       "      <td>1.750000e+11</td>\n",
       "      <td>1305.0</td>\n",
       "      <td>1200.0</td>\n",
       "    </tr>\n",
       "    <tr>\n",
       "      <th>2032</th>\n",
       "      <td>1.750000e+11</td>\n",
       "      <td>1305.0</td>\n",
       "      <td>1500.0</td>\n",
       "    </tr>\n",
       "    <tr>\n",
       "      <th>2006</th>\n",
       "      <td>1.500000e+11</td>\n",
       "      <td>1900.0</td>\n",
       "      <td>850.0</td>\n",
       "    </tr>\n",
       "    <tr>\n",
       "      <th>1837</th>\n",
       "      <td>1.060000e+11</td>\n",
       "      <td>1479.0</td>\n",
       "      <td>1000.0</td>\n",
       "    </tr>\n",
       "    <tr>\n",
       "      <th>1945</th>\n",
       "      <td>1.000000e+11</td>\n",
       "      <td>1225.0</td>\n",
       "      <td>800.0</td>\n",
       "    </tr>\n",
       "    <tr>\n",
       "      <th>...</th>\n",
       "      <td>...</td>\n",
       "      <td>...</td>\n",
       "      <td>...</td>\n",
       "    </tr>\n",
       "    <tr>\n",
       "      <th>1191</th>\n",
       "      <td>8.500000e+07</td>\n",
       "      <td>72.0</td>\n",
       "      <td>72.0</td>\n",
       "    </tr>\n",
       "    <tr>\n",
       "      <th>1046</th>\n",
       "      <td>7.500000e+07</td>\n",
       "      <td>60.0</td>\n",
       "      <td>30.0</td>\n",
       "    </tr>\n",
       "    <tr>\n",
       "      <th>1368</th>\n",
       "      <td>7.000000e+07</td>\n",
       "      <td>78.0</td>\n",
       "      <td>45.0</td>\n",
       "    </tr>\n",
       "    <tr>\n",
       "      <th>267</th>\n",
       "      <td>4.200000e+07</td>\n",
       "      <td>60.0</td>\n",
       "      <td>40.0</td>\n",
       "    </tr>\n",
       "    <tr>\n",
       "      <th>119</th>\n",
       "      <td>4.200000e+07</td>\n",
       "      <td>60.0</td>\n",
       "      <td>40.0</td>\n",
       "    </tr>\n",
       "  </tbody>\n",
       "</table>\n",
       "<p>2847 rows × 3 columns</p>\n",
       "</div>"
      ],
      "text/plain": [
       "       price_in_rp  land_size_m2  building_size_m2\n",
       "1840  1.750000e+11        1305.0            1200.0\n",
       "2032  1.750000e+11        1305.0            1500.0\n",
       "2006  1.500000e+11        1900.0             850.0\n",
       "1837  1.060000e+11        1479.0            1000.0\n",
       "1945  1.000000e+11        1225.0             800.0\n",
       "...            ...           ...               ...\n",
       "1191  8.500000e+07          72.0              72.0\n",
       "1046  7.500000e+07          60.0              30.0\n",
       "1368  7.000000e+07          78.0              45.0\n",
       "267   4.200000e+07          60.0              40.0\n",
       "119   4.200000e+07          60.0              40.0\n",
       "\n",
       "[2847 rows x 3 columns]"
      ]
     },
     "execution_count": 23,
     "metadata": {},
     "output_type": "execute_result"
    }
   ],
   "source": [
    "df_luas"
   ]
  },
  {
   "cell_type": "markdown",
   "id": "d4678d32",
   "metadata": {},
   "source": [
    "Dari data yang kita dapatkan diatas, menunjukkan bahwa luas tanah dan luas bangunan ini mempengaruhi harga. UNtuk lebih jelasnya dan kongkritnya mari kiita visualisasikan"
   ]
  },
  {
   "cell_type": "markdown",
   "id": "99bf3b86",
   "metadata": {},
   "source": [
    "### KOrelasi antar 3 kolom"
   ]
  },
  {
   "cell_type": "code",
   "execution_count": 24,
   "id": "7b6feea3",
   "metadata": {},
   "outputs": [
    {
     "data": {
      "text/plain": [
       "<AxesSubplot:title={'center':'Korelasi antar harga, luas tanah, luas bangunan'}>"
      ]
     },
     "execution_count": 24,
     "metadata": {},
     "output_type": "execute_result"
    },
    {
     "data": {
      "image/png": "[encoded data removed]",
      "text/plain": [
       "<Figure size 720x504 with 2 Axes>"
      ]
     },
     "metadata": {
      "needs_background": "light"
     },
     "output_type": "display_data"
    }
   ],
   "source": [
    "plt.figure(figsize=(10,7))\n",
    "plt.title(\"Korelasi antar harga, luas tanah, luas bangunan\")\n",
    "sns.heatmap(df_luas.corr(), annot=True)"
   ]
  },
  {
   "cell_type": "markdown",
   "id": "bb885ff7",
   "metadata": {},
   "source": [
    "- Korelasi antara \"price_in_rp\" dan \"land_size_m2\" adalah sekitar 0,484, yang menunjukkan adanya korelasi positif yang moderat antara harga rumah dan luas tanah. Artinya, ketika luas tanah meningkat, harga cenderung meningkat juga.\n",
    "\n",
    "\n",
    "- Korelasi antara \"price_in_rp\" dan \"building_size_m2\" adalah sekitar 0,659, yang menunjukkan adanya korelasi positif yang cukup kuat antara harga rumah dan luas bangunan. Ini mengindikasikan bahwa rumah dengan luas bangunan yang lebih besar cenderung memiliki harga yang lebih tinggi.\n",
    "\n",
    "\n",
    "- Korelasi antara \"land_size_m2\" dan \"building_size_m2\" adalah sekitar 0,523, yang menunjukkan adanya korelasi positif antara luas tanah dan luas bangunan. Ini berarti, dalam banyak kasus, rumah dengan luas tanah yang lebih besar juga memiliki luas bangunan yang lebih besar.\n",
    "\n",
    "\n",
    "- Dengan kata lain, berdasarkan matriks korelasi ini, kita dapat melihat bahwa ada hubungan antara harga rumah, luas tanah, dan luas bangunan, dengan korelasi yang mencerminkan hubungan positif antara variabel-variabel tersebut."
   ]
  },
  {
   "cell_type": "markdown",
   "id": "e0448174",
   "metadata": {},
   "source": [
    "## Rata rata harga jual rumah "
   ]
  },
  {
   "cell_type": "code",
   "execution_count": 25,
   "id": "2e7679cb",
   "metadata": {},
   "outputs": [],
   "source": [
    "df_harga_rumah = df[[\"price_in_rp\",\"year_built\",\"city\"]]"
   ]
  },
  {
   "cell_type": "code",
   "execution_count": 26,
   "id": "400b2aab",
   "metadata": {},
   "outputs": [
    {
     "data": {
      "text/plain": [
       " Bogor              734\n",
       " Tangerang          658\n",
       " Bekasi             461\n",
       " Depok              444\n",
       " Jakarta Selatan    198\n",
       " Jakarta Barat      133\n",
       " Jakarta Utara      101\n",
       " Jakarta Timur       87\n",
       " Jakarta Pusat       32\n",
       "Name: city, dtype: int64"
      ]
     },
     "execution_count": 26,
     "metadata": {},
     "output_type": "execute_result"
    }
   ],
   "source": [
    "df_harga_rumah[\"city\"].value_counts()"
   ]
  },
  {
   "cell_type": "code",
   "execution_count": 27,
   "id": "6d068a3a",
   "metadata": {},
   "outputs": [],
   "source": [
    "bekasi = df_harga_rumah[df_harga_rumah[\"city\"]==\" Bekasi\"].groupby(\"year_built\")[\"price_in_rp\"].agg([\"mean\"])\n",
    "bogor = df_harga_rumah[df_harga_rumah[\"city\"]==\" Bogor\"].groupby(\"year_built\")[\"price_in_rp\"].agg([\"mean\"])\n",
    "depok = df_harga_rumah[df_harga_rumah[\"city\"]==\" Depok\"].groupby(\"year_built\")[\"price_in_rp\"].agg([\"mean\"])\n",
    "tangerang = df_harga_rumah[df_harga_rumah[\"city\"]==\" Tangerang\"].groupby(\"year_built\")[\"price_in_rp\"].agg([\"mean\"])\n",
    "jaksel = df_harga_rumah[df_harga_rumah[\"city\"]==\" Jakarta Selatan\"].groupby(\"year_built\")[\"price_in_rp\"].agg([\"mean\"])\n",
    "jakbar = df_harga_rumah[df_harga_rumah[\"city\"]==\" Jakarta Barat\"].groupby(\"year_built\")[\"price_in_rp\"].agg([\"mean\"])\n",
    "jakut = df_harga_rumah[df_harga_rumah[\"city\"]==\" Jakarta Utara\"].groupby(\"year_built\")[\"price_in_rp\"].agg([\"mean\"])\n",
    "jaktim = df_harga_rumah[df_harga_rumah[\"city\"]==\" Jakarta Timur\"].groupby(\"year_built\")[\"price_in_rp\"].agg([\"mean\"])\n",
    "jakpus = df_harga_rumah[df_harga_rumah[\"city\"]==\" Jakarta Pusat\"].groupby(\"year_built\")[\"price_in_rp\"].agg([\"mean\"])"
   ]
  },
  {
   "cell_type": "code",
   "execution_count": 28,
   "id": "920b3bae",
   "metadata": {},
   "outputs": [],
   "source": [
    "bekasi.index.name=None\n",
    "bogor.index.name=None\n",
    "depok.index.name=None\n",
    "tangerang.index.name=None\n",
    "jaksel.index.name=None\n",
    "jakbar.index.name=None\n",
    "jakut.index.name=None\n",
    "jaktim.index.name=None\n",
    "jakpus.index.name=None"
   ]
  },
  {
   "cell_type": "code",
   "execution_count": 29,
   "id": "7786c865",
   "metadata": {},
   "outputs": [],
   "source": [
    "bekasi.rename({\"mean\":\"Bekasi\"},axis=1,inplace=True)\n",
    "bogor.rename({\"mean\":\"Bogor\"},axis=1,inplace=True)\n",
    "depok.rename({\"mean\":\"Depok\"},axis=1,inplace=True)\n",
    "tangerang.rename({\"mean\":\"Tangerang\"},axis=1,inplace=True)\n",
    "jaksel.rename({\"mean\":\"Jakarta Selatan\"},axis=1,inplace=True)\n",
    "jakbar.rename({\"mean\":\"Jakarta Barat\"},axis=1,inplace=True)\n",
    "jakut.rename({\"mean\":\"Jakarta Utara\"},axis=1,inplace=True)\n",
    "jaktim.rename({\"mean\":\"Jakarta Timur\"},axis=1,inplace=True)\n",
    "jakpus.rename({\"mean\":\"Jakarta Pusat\"},axis=1,inplace=True)"
   ]
  },
  {
   "cell_type": "code",
   "execution_count": 30,
   "id": "c9eb4568",
   "metadata": {},
   "outputs": [],
   "source": [
    "df_kota = pd.concat([bekasi,bogor,depok,tangerang,jaksel,jakbar,jakut,jaktim,jakpus])"
   ]
  },
  {
   "cell_type": "code",
   "execution_count": 31,
   "id": "ccabeeef",
   "metadata": {},
   "outputs": [
    {
     "data": {
      "text/html": [
       "<div>\n",
       "<style scoped>\n",
       "    .dataframe tbody tr th:only-of-type {\n",
       "        vertical-align: middle;\n",
       "    }\n",
       "\n",
       "    .dataframe tbody tr th {\n",
       "        vertical-align: top;\n",
       "    }\n",
       "\n",
       "    .dataframe thead th {\n",
       "        text-align: right;\n",
       "    }\n",
       "</style>\n",
       "<table border=\"1\" class=\"dataframe\">\n",
       "  <thead>\n",
       "    <tr style=\"text-align: right;\">\n",
       "      <th></th>\n",
       "      <th>Bekasi</th>\n",
       "      <th>Bogor</th>\n",
       "      <th>Depok</th>\n",
       "      <th>Tangerang</th>\n",
       "      <th>Jakarta Selatan</th>\n",
       "      <th>Jakarta Barat</th>\n",
       "      <th>Jakarta Utara</th>\n",
       "      <th>Jakarta Timur</th>\n",
       "      <th>Jakarta Pusat</th>\n",
       "    </tr>\n",
       "  </thead>\n",
       "  <tbody>\n",
       "    <tr>\n",
       "      <th>2000.0</th>\n",
       "      <td>1.092857e+09</td>\n",
       "      <td>NaN</td>\n",
       "      <td>NaN</td>\n",
       "      <td>NaN</td>\n",
       "      <td>NaN</td>\n",
       "      <td>NaN</td>\n",
       "      <td>NaN</td>\n",
       "      <td>NaN</td>\n",
       "      <td>NaN</td>\n",
       "    </tr>\n",
       "    <tr>\n",
       "      <th>2001.0</th>\n",
       "      <td>4.150000e+09</td>\n",
       "      <td>NaN</td>\n",
       "      <td>NaN</td>\n",
       "      <td>NaN</td>\n",
       "      <td>NaN</td>\n",
       "      <td>NaN</td>\n",
       "      <td>NaN</td>\n",
       "      <td>NaN</td>\n",
       "      <td>NaN</td>\n",
       "    </tr>\n",
       "    <tr>\n",
       "      <th>2004.0</th>\n",
       "      <td>1.587500e+09</td>\n",
       "      <td>NaN</td>\n",
       "      <td>NaN</td>\n",
       "      <td>NaN</td>\n",
       "      <td>NaN</td>\n",
       "      <td>NaN</td>\n",
       "      <td>NaN</td>\n",
       "      <td>NaN</td>\n",
       "      <td>NaN</td>\n",
       "    </tr>\n",
       "    <tr>\n",
       "      <th>2005.0</th>\n",
       "      <td>1.040000e+09</td>\n",
       "      <td>NaN</td>\n",
       "      <td>NaN</td>\n",
       "      <td>NaN</td>\n",
       "      <td>NaN</td>\n",
       "      <td>NaN</td>\n",
       "      <td>NaN</td>\n",
       "      <td>NaN</td>\n",
       "      <td>NaN</td>\n",
       "    </tr>\n",
       "    <tr>\n",
       "      <th>2006.0</th>\n",
       "      <td>6.900000e+08</td>\n",
       "      <td>NaN</td>\n",
       "      <td>NaN</td>\n",
       "      <td>NaN</td>\n",
       "      <td>NaN</td>\n",
       "      <td>NaN</td>\n",
       "      <td>NaN</td>\n",
       "      <td>NaN</td>\n",
       "      <td>NaN</td>\n",
       "    </tr>\n",
       "    <tr>\n",
       "      <th>...</th>\n",
       "      <td>...</td>\n",
       "      <td>...</td>\n",
       "      <td>...</td>\n",
       "      <td>...</td>\n",
       "      <td>...</td>\n",
       "      <td>...</td>\n",
       "      <td>...</td>\n",
       "      <td>...</td>\n",
       "      <td>...</td>\n",
       "    </tr>\n",
       "    <tr>\n",
       "      <th>2010.0</th>\n",
       "      <td>NaN</td>\n",
       "      <td>NaN</td>\n",
       "      <td>NaN</td>\n",
       "      <td>NaN</td>\n",
       "      <td>NaN</td>\n",
       "      <td>NaN</td>\n",
       "      <td>NaN</td>\n",
       "      <td>NaN</td>\n",
       "      <td>2.093333e+10</td>\n",
       "    </tr>\n",
       "    <tr>\n",
       "      <th>2011.0</th>\n",
       "      <td>NaN</td>\n",
       "      <td>NaN</td>\n",
       "      <td>NaN</td>\n",
       "      <td>NaN</td>\n",
       "      <td>NaN</td>\n",
       "      <td>NaN</td>\n",
       "      <td>NaN</td>\n",
       "      <td>NaN</td>\n",
       "      <td>4.500000e+10</td>\n",
       "    </tr>\n",
       "    <tr>\n",
       "      <th>2015.0</th>\n",
       "      <td>NaN</td>\n",
       "      <td>NaN</td>\n",
       "      <td>NaN</td>\n",
       "      <td>NaN</td>\n",
       "      <td>NaN</td>\n",
       "      <td>NaN</td>\n",
       "      <td>NaN</td>\n",
       "      <td>NaN</td>\n",
       "      <td>3.100000e+10</td>\n",
       "    </tr>\n",
       "    <tr>\n",
       "      <th>2021.0</th>\n",
       "      <td>NaN</td>\n",
       "      <td>NaN</td>\n",
       "      <td>NaN</td>\n",
       "      <td>NaN</td>\n",
       "      <td>NaN</td>\n",
       "      <td>NaN</td>\n",
       "      <td>NaN</td>\n",
       "      <td>NaN</td>\n",
       "      <td>6.900000e+10</td>\n",
       "    </tr>\n",
       "    <tr>\n",
       "      <th>2022.0</th>\n",
       "      <td>NaN</td>\n",
       "      <td>NaN</td>\n",
       "      <td>NaN</td>\n",
       "      <td>NaN</td>\n",
       "      <td>NaN</td>\n",
       "      <td>NaN</td>\n",
       "      <td>NaN</td>\n",
       "      <td>NaN</td>\n",
       "      <td>8.494211e+09</td>\n",
       "    </tr>\n",
       "  </tbody>\n",
       "</table>\n",
       "<p>175 rows × 9 columns</p>\n",
       "</div>"
      ],
      "text/plain": [
       "              Bekasi  Bogor  Depok  Tangerang  Jakarta Selatan  Jakarta Barat  \\\n",
       "2000.0  1.092857e+09    NaN    NaN        NaN              NaN            NaN   \n",
       "2001.0  4.150000e+09    NaN    NaN        NaN              NaN            NaN   \n",
       "2004.0  1.587500e+09    NaN    NaN        NaN              NaN            NaN   \n",
       "2005.0  1.040000e+09    NaN    NaN        NaN              NaN            NaN   \n",
       "2006.0  6.900000e+08    NaN    NaN        NaN              NaN            NaN   \n",
       "...              ...    ...    ...        ...              ...            ...   \n",
       "2010.0           NaN    NaN    NaN        NaN              NaN            NaN   \n",
       "2011.0           NaN    NaN    NaN        NaN              NaN            NaN   \n",
       "2015.0           NaN    NaN    NaN        NaN              NaN            NaN   \n",
       "2021.0           NaN    NaN    NaN        NaN              NaN            NaN   \n",
       "2022.0           NaN    NaN    NaN        NaN              NaN            NaN   \n",
       "\n",
       "        Jakarta Utara  Jakarta Timur  Jakarta Pusat  \n",
       "2000.0            NaN            NaN            NaN  \n",
       "2001.0            NaN            NaN            NaN  \n",
       "2004.0            NaN            NaN            NaN  \n",
       "2005.0            NaN            NaN            NaN  \n",
       "2006.0            NaN            NaN            NaN  \n",
       "...               ...            ...            ...  \n",
       "2010.0            NaN            NaN   2.093333e+10  \n",
       "2011.0            NaN            NaN   4.500000e+10  \n",
       "2015.0            NaN            NaN   3.100000e+10  \n",
       "2021.0            NaN            NaN   6.900000e+10  \n",
       "2022.0            NaN            NaN   8.494211e+09  \n",
       "\n",
       "[175 rows x 9 columns]"
      ]
     },
     "execution_count": 31,
     "metadata": {},
     "output_type": "execute_result"
    }
   ],
   "source": [
    "df_kota"
   ]
  },
  {
   "cell_type": "code",
   "execution_count": 32,
   "id": "ceff640f",
   "metadata": {},
   "outputs": [],
   "source": [
    "df_kota.fillna(0,inplace=True,axis=0)"
   ]
  },
  {
   "cell_type": "code",
   "execution_count": 33,
   "id": "da8a4975",
   "metadata": {},
   "outputs": [],
   "source": [
    "df_kota.reset_index(inplace=True)"
   ]
  },
  {
   "cell_type": "code",
   "execution_count": 34,
   "id": "977a3b59",
   "metadata": {},
   "outputs": [],
   "source": [
    "df_kota.rename({\"index\":\"Tahun\"},axis=1,inplace=True)"
   ]
  },
  {
   "cell_type": "code",
   "execution_count": 35,
   "id": "9e0b2813",
   "metadata": {},
   "outputs": [],
   "source": [
    "df_kota.sort_values(by=\"Tahun\",inplace=True)"
   ]
  },
  {
   "cell_type": "code",
   "execution_count": 36,
   "id": "1c456165",
   "metadata": {},
   "outputs": [
    {
     "data": {
      "text/plain": [
       "<matplotlib.legend.Legend at 0x245e71a9520>"
      ]
     },
     "execution_count": 36,
     "metadata": {},
     "output_type": "execute_result"
    },
    {
     "data": {
      "image/png": "[encoded data removed]",
      "text/plain": [
       "<Figure size 720x360 with 1 Axes>"
      ]
     },
     "metadata": {
      "needs_background": "light"
     },
     "output_type": "display_data"
    }
   ],
   "source": [
    "plt.figure(figsize=(10,5))\n",
    "plt.plot(df_kota[\"Tahun\"],df_kota[\"Bekasi\"], label=\"Bekasi\",marker=\"o\")\n",
    "plt.plot(df_kota[\"Tahun\"],df_kota[\"Bogor\"], label=\"Bogor\",marker=\"D\")\n",
    "plt.plot(df_kota[\"Tahun\"],df_kota[\"Depok\"], label=\"Depok\",marker=\"^\")\n",
    "plt.plot(df_kota[\"Tahun\"],df_kota[\"Tangerang\"], label=\"Tangerang\",marker=\"x\")\n",
    "plt.plot(df_kota[\"Tahun\"],df_kota[\"Jakarta Selatan\"], label=\"Jakarta Selatan\",marker=\"o\")\n",
    "plt.plot(df_kota[\"Tahun\"],df_kota[\"Jakarta Barat\"], label=\"Jakarta Barat\",marker=\"D\")\n",
    "plt.plot(df_kota[\"Tahun\"],df_kota[\"Jakarta Utara\"], label=\"Jakarta Utara\",marker=\"*\")\n",
    "plt.plot(df_kota[\"Tahun\"],df_kota[\"Jakarta Timur\"], label=\"Jakarta Timur\",marker=\"^\")\n",
    "plt.plot(df_kota[\"Tahun\"],df_kota[\"Jakarta Pusat\"], label=\"Jakarta Pusat\",marker=\"x\")\n",
    "\n",
    "plt.legend()"
   ]
  },
  {
   "cell_type": "markdown",
   "id": "a92ca62d",
   "metadata": {},
   "source": [
    "Kita akan susah ketika melihat data dari tahun 1875, mari kita perkecil lagi range dari 2000 - 2023"
   ]
  },
  {
   "cell_type": "code",
   "execution_count": 37,
   "id": "788e52a8",
   "metadata": {},
   "outputs": [],
   "source": [
    "df_kota2 = df_kota[(df_kota[\"Tahun\"]>2000)&(df_kota[\"Tahun\"]<=2023)]"
   ]
  },
  {
   "cell_type": "code",
   "execution_count": 38,
   "id": "86878a95",
   "metadata": {},
   "outputs": [
    {
     "data": {
      "text/plain": [
       "<matplotlib.legend.Legend at 0x245e821ebe0>"
      ]
     },
     "execution_count": 38,
     "metadata": {},
     "output_type": "execute_result"
    },
    {
     "data": {
      "image/png": "[encoded data removed]",
      "text/plain": [
       "<Figure size 720x360 with 1 Axes>"
      ]
     },
     "metadata": {
      "needs_background": "light"
     },
     "output_type": "display_data"
    }
   ],
   "source": [
    "plt.figure(figsize=(10,5))\n",
    "plt.plot(df_kota2[\"Tahun\"],df_kota2[\"Bekasi\"], label=\"Bekasi\",marker=\"o\")\n",
    "plt.plot(df_kota2[\"Tahun\"],df_kota2[\"Bogor\"], label=\"Bogor\",marker=\"D\")\n",
    "plt.plot(df_kota2[\"Tahun\"],df_kota2[\"Depok\"], label=\"Depok\",marker=\"^\")\n",
    "plt.plot(df_kota2[\"Tahun\"],df_kota2[\"Tangerang\"], label=\"Tangerang\",marker=\"x\")\n",
    "plt.plot(df_kota2[\"Tahun\"],df_kota2[\"Jakarta Selatan\"], label=\"Jakarta Selatan\",marker=\"o\")\n",
    "plt.plot(df_kota2[\"Tahun\"],df_kota2[\"Jakarta Barat\"], label=\"Jakarta Barat\",marker=\"D\")\n",
    "plt.plot(df_kota2[\"Tahun\"],df_kota2[\"Jakarta Utara\"], label=\"Jakarta Utara\",marker=\"*\")\n",
    "plt.plot(df_kota2[\"Tahun\"],df_kota2[\"Jakarta Timur\"], label=\"Jakarta Timur\",marker=\"^\")\n",
    "plt.plot(df_kota2[\"Tahun\"],df_kota2[\"Jakarta Pusat\"], label=\"Jakarta Pusat\",marker=\"x\")\n",
    "\n",
    "plt.legend()"
   ]
  },
  {
   "cell_type": "markdown",
   "id": "8f2d15e6",
   "metadata": {},
   "source": [
    "Nampaknya masih susah untuk membaca grafik diatas, sekarang kita ubahh menggunakann bar chart"
   ]
  },
  {
   "cell_type": "code",
   "execution_count": 39,
   "id": "a540394f",
   "metadata": {},
   "outputs": [
    {
     "data": {
      "text/plain": [
       "<matplotlib.legend.Legend at 0x245e6c6ac40>"
      ]
     },
     "execution_count": 39,
     "metadata": {},
     "output_type": "execute_result"
    },
    {
     "data": {
      "image/png": "[encoded data removed]",
      "text/plain": [
       "<Figure size 720x360 with 1 Axes>"
      ]
     },
     "metadata": {
      "needs_background": "light"
     },
     "output_type": "display_data"
    }
   ],
   "source": [
    "plt.figure(figsize=(10,5))\n",
    "\n",
    "plt.bar(df_kota2[\"Tahun\"],df_kota2[\"Bogor\"], label=\"Bogor\")\n",
    "plt.bar(df_kota2[\"Tahun\"],df_kota2[\"Tangerang\"], label=\"Tangerang\")\n",
    "plt.bar(df_kota2[\"Tahun\"],df_kota2[\"Bekasi\"], label=\"Bekasi\")\n",
    "plt.bar(df_kota2[\"Tahun\"],df_kota2[\"Depok\"], label=\"Depok\")\n",
    "\n",
    "\n",
    "\n",
    "plt.legend()"
   ]
  },
  {
   "cell_type": "code",
   "execution_count": 40,
   "id": "19bb8bf1",
   "metadata": {},
   "outputs": [
    {
     "data": {
      "image/png": "[encoded data removed]",
      "text/plain": [
       "<Figure size 720x360 with 1 Axes>"
      ]
     },
     "metadata": {
      "needs_background": "light"
     },
     "output_type": "display_data"
    }
   ],
   "source": [
    "import matplotlib.pyplot as plt\n",
    "\n",
    "# Dataframe df_kota2 harus sudah ada\n",
    "\n",
    "plt.figure(figsize=(10, 5))\n",
    "\n",
    "width = 0.2  # Lebar setiap bar\n",
    "\n",
    "plt.bar(df_kota2[\"Tahun\"] - width, df_kota2[\"Bogor\"], width=width, label=\"Bogor\")\n",
    "plt.bar(df_kota2[\"Tahun\"], df_kota2[\"Tangerang\"], width=width, label=\"Tangerang\")\n",
    "plt.bar(df_kota2[\"Tahun\"] + width, df_kota2[\"Bekasi\"], width=width, label=\"Bekasi\")\n",
    "plt.bar(df_kota2[\"Tahun\"] + 2 * width, df_kota2[\"Depok\"], width=width, label=\"Depok\")\n",
    "\n",
    "plt.legend()\n",
    "\n",
    "plt.show()\n"
   ]
  },
  {
   "cell_type": "markdown",
   "id": "be698492",
   "metadata": {},
   "source": [
    "Dapat kita simpulkan bawah, rata rata harga tertinggi ada pada kota bogor di tahun 2013. AKan teatpi bisa kita lihat dari tahun tiap tahunnya kota tangerang memiliki harga yang tidak tahun bergejolak naik atupun turun seperti harga rumah di kota lainnya"
   ]
  },
  {
   "cell_type": "markdown",
   "id": "ed695f16",
   "metadata": {},
   "source": [
    "## Analisis berdasrakan bedroom, bathroom, land size, dan building size"
   ]
  },
  {
   "cell_type": "markdown",
   "id": "2a8d5d89",
   "metadata": {},
   "source": [
    "JIka kita lihat kolom fasilitas, ini semua fasilitas terteumpukpada satu kolom, dan akan susah untuk kita jika kita melakukan analisis, mari kita pecah kolom tersebut."
   ]
  },
  {
   "cell_type": "code",
   "execution_count": 59,
   "id": "4ddbcfa5",
   "metadata": {},
   "outputs": [],
   "source": [
    "df_analisis = df[[\"price_in_rp\",\"bedrooms\",\"bathrooms\",\"land_size_m2\",\"building_size_m2\",\"carports\"]]"
   ]
  },
  {
   "cell_type": "code",
   "execution_count": 60,
   "id": "01155d1d",
   "metadata": {},
   "outputs": [
    {
     "data": {
      "text/html": [
       "<div>\n",
       "<style scoped>\n",
       "    .dataframe tbody tr th:only-of-type {\n",
       "        vertical-align: middle;\n",
       "    }\n",
       "\n",
       "    .dataframe tbody tr th {\n",
       "        vertical-align: top;\n",
       "    }\n",
       "\n",
       "    .dataframe thead th {\n",
       "        text-align: right;\n",
       "    }\n",
       "</style>\n",
       "<table border=\"1\" class=\"dataframe\">\n",
       "  <thead>\n",
       "    <tr style=\"text-align: right;\">\n",
       "      <th></th>\n",
       "      <th>price_in_rp</th>\n",
       "      <th>bedrooms</th>\n",
       "      <th>bathrooms</th>\n",
       "      <th>land_size_m2</th>\n",
       "      <th>building_size_m2</th>\n",
       "      <th>carports</th>\n",
       "    </tr>\n",
       "  </thead>\n",
       "  <tbody>\n",
       "    <tr>\n",
       "      <th>0</th>\n",
       "      <td>2.990000e+09</td>\n",
       "      <td>4.0</td>\n",
       "      <td>4.0</td>\n",
       "      <td>239.0</td>\n",
       "      <td>272.0</td>\n",
       "      <td>0.0</td>\n",
       "    </tr>\n",
       "    <tr>\n",
       "      <th>2</th>\n",
       "      <td>1.950000e+09</td>\n",
       "      <td>3.0</td>\n",
       "      <td>3.0</td>\n",
       "      <td>119.0</td>\n",
       "      <td>131.0</td>\n",
       "      <td>1.0</td>\n",
       "    </tr>\n",
       "    <tr>\n",
       "      <th>3</th>\n",
       "      <td>3.300000e+09</td>\n",
       "      <td>3.0</td>\n",
       "      <td>3.0</td>\n",
       "      <td>180.0</td>\n",
       "      <td>174.0</td>\n",
       "      <td>0.0</td>\n",
       "    </tr>\n",
       "    <tr>\n",
       "      <th>4</th>\n",
       "      <td>4.500000e+09</td>\n",
       "      <td>4.0</td>\n",
       "      <td>3.0</td>\n",
       "      <td>328.0</td>\n",
       "      <td>196.0</td>\n",
       "      <td>2.0</td>\n",
       "    </tr>\n",
       "    <tr>\n",
       "      <th>5</th>\n",
       "      <td>2.700000e+09</td>\n",
       "      <td>3.0</td>\n",
       "      <td>3.0</td>\n",
       "      <td>136.0</td>\n",
       "      <td>200.0</td>\n",
       "      <td>2.0</td>\n",
       "    </tr>\n",
       "    <tr>\n",
       "      <th>...</th>\n",
       "      <td>...</td>\n",
       "      <td>...</td>\n",
       "      <td>...</td>\n",
       "      <td>...</td>\n",
       "      <td>...</td>\n",
       "      <td>...</td>\n",
       "    </tr>\n",
       "    <tr>\n",
       "      <th>3548</th>\n",
       "      <td>5.880000e+08</td>\n",
       "      <td>2.0</td>\n",
       "      <td>1.0</td>\n",
       "      <td>72.0</td>\n",
       "      <td>36.0</td>\n",
       "      <td>1.0</td>\n",
       "    </tr>\n",
       "    <tr>\n",
       "      <th>3549</th>\n",
       "      <td>7.850000e+08</td>\n",
       "      <td>3.0</td>\n",
       "      <td>2.0</td>\n",
       "      <td>85.0</td>\n",
       "      <td>60.0</td>\n",
       "      <td>1.0</td>\n",
       "    </tr>\n",
       "    <tr>\n",
       "      <th>3550</th>\n",
       "      <td>7.550000e+08</td>\n",
       "      <td>3.0</td>\n",
       "      <td>2.0</td>\n",
       "      <td>78.0</td>\n",
       "      <td>60.0</td>\n",
       "      <td>1.0</td>\n",
       "    </tr>\n",
       "    <tr>\n",
       "      <th>3551</th>\n",
       "      <td>8.000000e+08</td>\n",
       "      <td>3.0</td>\n",
       "      <td>2.0</td>\n",
       "      <td>60.0</td>\n",
       "      <td>65.0</td>\n",
       "      <td>2.0</td>\n",
       "    </tr>\n",
       "    <tr>\n",
       "      <th>3552</th>\n",
       "      <td>6.550000e+08</td>\n",
       "      <td>3.0</td>\n",
       "      <td>2.0</td>\n",
       "      <td>64.0</td>\n",
       "      <td>60.0</td>\n",
       "      <td>1.0</td>\n",
       "    </tr>\n",
       "  </tbody>\n",
       "</table>\n",
       "<p>2848 rows × 6 columns</p>\n",
       "</div>"
      ],
      "text/plain": [
       "       price_in_rp  bedrooms  bathrooms  land_size_m2  building_size_m2  \\\n",
       "0     2.990000e+09       4.0        4.0         239.0             272.0   \n",
       "2     1.950000e+09       3.0        3.0         119.0             131.0   \n",
       "3     3.300000e+09       3.0        3.0         180.0             174.0   \n",
       "4     4.500000e+09       4.0        3.0         328.0             196.0   \n",
       "5     2.700000e+09       3.0        3.0         136.0             200.0   \n",
       "...            ...       ...        ...           ...               ...   \n",
       "3548  5.880000e+08       2.0        1.0          72.0              36.0   \n",
       "3549  7.850000e+08       3.0        2.0          85.0              60.0   \n",
       "3550  7.550000e+08       3.0        2.0          78.0              60.0   \n",
       "3551  8.000000e+08       3.0        2.0          60.0              65.0   \n",
       "3552  6.550000e+08       3.0        2.0          64.0              60.0   \n",
       "\n",
       "      carports  \n",
       "0          0.0  \n",
       "2          1.0  \n",
       "3          0.0  \n",
       "4          2.0  \n",
       "5          2.0  \n",
       "...        ...  \n",
       "3548       1.0  \n",
       "3549       1.0  \n",
       "3550       1.0  \n",
       "3551       2.0  \n",
       "3552       1.0  \n",
       "\n",
       "[2848 rows x 6 columns]"
      ]
     },
     "execution_count": 60,
     "metadata": {},
     "output_type": "execute_result"
    }
   ],
   "source": [
    "df_analisis"
   ]
  },
  {
   "cell_type": "code",
   "execution_count": null,
   "id": "11f1aec3",
   "metadata": {},
   "outputs": [],
   "source": []
  }
 ],
 "metadata": {
  "kernelspec": {
   "display_name": "Python 3 (ipykernel)",
   "language": "python",
   "name": "python3"
  },
  "language_info": {
   "codemirror_mode": {
    "name": "ipython",
    "version": 3
   },
   "file_extension": ".py",
   "mimetype": "text/x-python",
   "name": "python",
   "nbconvert_exporter": "python",
   "pygments_lexer": "ipython3",
   "version": "3.9.12"
  },
  "toc": {
   "base_numbering": 1,
   "nav_menu": {},
   "number_sections": true,
   "sideBar": true,
   "skip_h1_title": false,
   "title_cell": "Table of Contents",
   "title_sidebar": "Contents",
   "toc_cell": false,
   "toc_position": {},
   "toc_section_display": true,
   "toc_window_display": false
  },
  "varInspector": {
   "cols": {
    "lenName": 16,
    "lenType": 16,
    "lenVar": 40
   },
   "kernels_config": {
    "python": {
     "delete_cmd_postfix": "",
     "delete_cmd_prefix": "del ",
     "library": "var_list.py",
     "varRefreshCmd": "print(var_dic_list())"
    },
    "r": {
     "delete_cmd_postfix": ") ",
     "delete_cmd_prefix": "rm(",
     "library": "var_list.r",
     "varRefreshCmd": "cat(var_dic_list()) "
    }
   },
   "types_to_exclude": [
    "module",
    "function",
    "builtin_function_or_method",
    "instance",
    "_Feature"
   ],
   "window_display": false
  }
 },
 "nbformat": 4,
 "nbformat_minor": 5
}
